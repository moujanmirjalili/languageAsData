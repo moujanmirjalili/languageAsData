{
 "cells": [
  {
   "cell_type": "markdown",
   "id": "341850564c967706",
   "metadata": {},
   "source": [
    "# Training a Dependency Parser with SpaCy and Universal Dependencies\n",
    "\n",
    "- Download and unzip the latest Universal Dependency release.\n",
    "- Convert the CoNLL-U file to .spacy format using SpaCy.\n",
    "- (Optional) Create a custom language class for languages SpaCy doesn't support (not needed for Basque).\n",
    "- Instantiate a project with a configuration file for tokenization, tagging, and dependency parsing.\n",
    "- Train the dependency parser.\n",
    "- Evaluate the trained parser.\n",
    "- Use the parser on example sentences."
   ]
  },
  {
   "cell_type": "markdown",
   "id": "6945a13273a6e1e0",
   "metadata": {},
   "source": [
    "First, download the Universal Dependencies dataset. We will use the latest release (v2.14). Chose a language with more than 1k samples. For the following examples, we will use Basque."
   ]
  },
  {
   "cell_type": "code",
   "execution_count": 15,
   "id": "f50d0db6-32d9-47f5-96fa-8924a86194f0",
   "metadata": {},
   "outputs": [
    {
     "name": "stdout",
     "output_type": "stream",
     "text": [
      "The autoreload extension is already loaded. To reload it, use:\n",
      "  %reload_ext autoreload\n"
     ]
    }
   ],
   "source": [
    "%load_ext autoreload\n",
    "%autoreload 2"
   ]
  },
  {
   "cell_type": "code",
   "execution_count": 16,
   "id": "9bc83701-f499-46db-aec2-42a7addf20a2",
   "metadata": {},
   "outputs": [],
   "source": [
    "  %reload_ext autoreload"
   ]
  },
  {
   "cell_type": "code",
   "execution_count": 2,
   "id": "7c39aa7c-4951-4d30-9cda-5a5210fc1278",
   "metadata": {},
   "outputs": [],
   "source": [
    "from collections import Counter\n",
    "import statistics"
   ]
  },
  {
   "cell_type": "markdown",
   "id": "4f83c5ac7b6ad05e",
   "metadata": {},
   "source": [
    "Now that you have the treebank, you'll convert the CoNLL-U file (.conllu) into SpaCy’s binary format (.spacy). This conversion makes the data ready for training. The --n-sents flag ensures the data is split into documents with a limited number of sentences (10, in this case), which helps during training."
   ]
  },
  {
   "cell_type": "code",
   "execution_count": 3,
   "id": "9df926aeaff192fd",
   "metadata": {
    "ExecuteTime": {
     "end_time": "2024-09-26T10:19:51.098816Z",
     "start_time": "2024-09-26T10:19:46.487152Z"
    }
   },
   "outputs": [
    {
     "name": "stdout",
     "output_type": "stream",
     "text": [
      "\u001b[38;5;4mℹ Grouping every 10 sentences into a document.\u001b[0m\n",
      "\u001b[38;5;2m✔ Generated output file (1419 documents): es_gsd-ud-train.spacy\u001b[0m\n",
      "\u001b[38;5;4mℹ Grouping every 10 sentences into a document.\u001b[0m\n",
      "\u001b[38;5;2m✔ Generated output file (140 documents): es_gsd-ud-dev.spacy\u001b[0m\n",
      "\u001b[38;5;4mℹ Grouping every 10 sentences into a document.\u001b[0m\n",
      "\u001b[38;5;2m✔ Generated output file (43 documents): es_gsd-ud-test.spacy\u001b[0m\n"
     ]
    }
   ],
   "source": [
    "!python -m spacy convert es_gsd-ud-train.conllu . --converter conllu -n 10\n",
    "!python -m spacy convert es_gsd-ud-dev.conllu . --converter conllu -n 10\n",
    "!python -m spacy convert es_gsd-ud-test.conllu . --converter conllu -n 10"
   ]
  },
  {
   "cell_type": "markdown",
   "id": "226429a9d5ac194",
   "metadata": {},
   "source": [
    "Next, initialize a SpaCy project with a pipeline consisting of tok2vec, tagger, and parser. We will generate a configuration file with optimized settings for training the parser. This will create a config.cfg file, which defines all the parameters needed to train the model."
   ]
  },
  {
   "cell_type": "code",
   "execution_count": 4,
   "id": "afd281c9a1a266b1",
   "metadata": {
    "ExecuteTime": {
     "end_time": "2024-09-26T10:20:01.242945Z",
     "start_time": "2024-09-26T10:20:00.414595Z"
    }
   },
   "outputs": [
    {
     "name": "stdout",
     "output_type": "stream",
     "text": [
      "\u001b[38;5;3m⚠ To generate a more effective transformer-based config (GPU-only),\n",
      "install the spacy-transformers package and re-run this command. The config\n",
      "generated now does not use transformers.\u001b[0m\n",
      "\u001b[38;5;4mℹ Generated config template specific for your use case\u001b[0m\n",
      "- Language: eu\n",
      "- Pipeline: tagger, parser\n",
      "- Optimize for: efficiency\n",
      "- Hardware: CPU\n",
      "- Transformer: None\n",
      "\u001b[38;5;2m✔ Auto-filled config with all values\u001b[0m\n",
      "\u001b[38;5;2m✔ Saved config\u001b[0m\n",
      "config.cfg\n",
      "You can now add your data and train your pipeline:\n",
      "python -m spacy train config.cfg --paths.train ./train.spacy --paths.dev ./dev.spacy\n"
     ]
    }
   ],
   "source": [
    "!python -m spacy init config config.cfg --lang eu --pipeline tok2vec,tagger,parser --optimize efficiency  --force"
   ]
  },
  {
   "cell_type": "markdown",
   "id": "7160de4340464885",
   "metadata": {},
   "source": [
    "Now that you have your data and configuration, it's time to train the dependency parser. Use the train.spacy and dev.spacy files generated earlier.\n",
    "\n",
    "```console\n",
    "[paths]\n",
    "train = \"./eu_bdt-ud-train.spacy\"\n",
    "dev = \"./eu_bdt-ud-dev.spacy\"\n",
    "```\n",
    "\n",
    "Lastly, train the model:"
   ]
  },
  {
   "cell_type": "code",
   "execution_count": 6,
   "id": "d17be9f1a152e0ff",
   "metadata": {
    "ExecuteTime": {
     "end_time": "2024-09-26T10:49:01.390237Z",
     "start_time": "2024-09-26T10:20:52.122346Z"
    }
   },
   "outputs": [
    {
     "name": "stdout",
     "output_type": "stream",
     "text": [
      "\u001b[38;5;4mℹ Saving to output directory: output\u001b[0m\n",
      "\u001b[38;5;4mℹ Using CPU\u001b[0m\n",
      "\u001b[1m\n",
      "=========================== Initializing pipeline ===========================\u001b[0m\n",
      "\u001b[38;5;2m✔ Initialized pipeline\u001b[0m\n",
      "\u001b[1m\n",
      "============================= Training pipeline =============================\u001b[0m\n",
      "\u001b[38;5;4mℹ Pipeline: ['tok2vec', 'tagger', 'parser']\u001b[0m\n",
      "\u001b[38;5;4mℹ Initial learn rate: 0.001\u001b[0m\n",
      "E    #       LOSS TOK2VEC  LOSS TAGGER  LOSS PARSER  TAG_ACC  DEP_UAS  DEP_LAS  SENTS_F  SCORE \n",
      "---  ------  ------------  -----------  -----------  -------  -------  -------  -------  ------\n",
      "  0       0          0.00       254.84       625.43    41.58    15.46     6.37     0.01    0.26\n",
      "  0     200       4462.01     13528.87     40530.98    89.32    72.49    64.56    57.79    0.79\n",
      "  0     400       6080.50      6299.56     26860.51    91.64    77.86    71.43    94.74    0.83\n",
      "  0     600       5988.69      5075.02     23343.75    92.35    80.08    73.96    94.86    0.85\n",
      "  0     800       6447.55      4772.35     22275.40    92.59    80.21    74.59    95.48    0.85\n",
      "  0    1000       6590.91      4411.91     21142.72    92.85    81.34    75.85    96.89    0.86\n",
      "  0    1200       6710.34      4106.46     20127.06    92.96    81.94    77.02    96.13    0.86\n",
      "  0    1400       7068.79      3917.76     19413.11    93.06    82.59    77.53    97.18    0.87\n",
      "  1    1600       7057.58      3563.75     17680.96    93.21    82.25    77.34    96.19    0.87\n",
      "  1    1800       7679.86      3658.95     18061.94    93.25    82.94    78.10    96.64    0.87\n",
      "  1    2000       7542.35      3370.61     17344.00    93.48    82.93    78.14    97.18    0.87\n",
      "  1    2200       7884.37      3458.87     17048.19    93.36    83.31    78.73    97.10    0.87\n",
      "  1    2400       8213.21      3438.37     17051.88    93.54    83.36    78.69    96.99    0.87\n",
      "  1    2600       8323.38      3492.74     17086.28    93.62    83.97    79.46    97.07    0.88\n",
      "  1    2800       8514.69      3537.71     17049.07    93.75    84.26    79.75    96.99    0.88\n",
      "  2    3000       8542.04      3039.44     16235.01    93.60    84.28    79.93    96.89    0.88\n",
      "  2    3200       8888.59      2962.54     15324.70    93.59    84.41    80.09    96.99    0.88\n",
      "  2    3400       9223.80      3102.83     15465.34    93.73    84.45    79.98    97.53    0.88\n",
      "  2    3600       9839.74      2997.27     15761.76    93.70    83.94    79.45    96.99    0.88\n",
      "  2    3800       9604.41      3071.97     15582.68    93.78    84.51    80.13    96.78    0.88\n",
      "  2    4000       9504.27      3000.76     15432.48    93.77    84.61    80.27    96.15    0.88\n",
      "  2    4200       9492.48      2942.75     14629.30    93.86    84.47    80.39    96.85    0.88\n",
      "  3    4400       9999.80      2847.73     14550.33    93.78    84.92    80.60    97.49    0.88\n",
      "  3    4600       9930.01      2590.59     13661.66    93.69    84.61    80.36    96.82    0.88\n",
      "  3    4800      10629.03      2688.06     14046.59    93.75    85.01    80.76    97.35    0.88\n",
      "  3    5000      11298.31      2765.85     14268.68    93.83    84.75    80.62    96.92    0.88\n",
      "  3    5200      12142.23      2802.01     15012.13    93.82    84.84    80.73    97.64    0.88\n",
      "  3    5400      11296.14      2721.56     14124.85    93.98    85.01    80.78    97.39    0.88\n",
      "  3    5600      11639.35      2722.75     14305.72    93.84    85.15    81.06    97.74    0.88\n",
      "  4    5800      12086.64      2674.88     13814.22    93.96    85.22    80.67    97.64    0.88\n",
      "  4    6000      12303.60      2330.99     13072.31    93.95    84.73    80.64    97.31    0.88\n",
      "  4    6200      13099.47      2456.49     13583.08    93.92    85.20    81.13    97.11    0.89\n",
      "  4    6400      12961.60      2500.41     13040.91    94.00    85.01    80.87    97.74    0.88\n",
      "  4    6600      13967.19      2579.22     13463.68    93.99    85.12    81.07    96.71    0.89\n",
      "  4    6800      12907.88      2467.87     12830.61    93.98    85.39    81.25    97.71    0.89\n",
      "  4    7000      13817.71      2707.95     13179.02    93.93    85.22    81.20    97.32    0.89\n",
      "  5    7200      13952.93      2405.02     13000.69    93.89    85.06    80.93    97.49    0.88\n",
      "  5    7400      13616.34      2265.41     11681.45    93.97    85.17    80.99    97.35    0.89\n",
      "  5    7600      15633.62      2417.79     12939.13    93.91    85.15    81.20    97.61    0.89\n",
      "  5    7800      15475.43      2319.43     12490.85    93.98    85.27    81.22    96.90    0.89\n",
      "  5    8000      15465.41      2374.99     12156.74    93.93    85.02    81.03    97.00    0.88\n",
      "  5    8200      17299.22      2454.93     13388.58    94.02    85.21    81.31    97.00    0.89\n",
      "  5    8400      16819.67      2526.93     13041.71    94.00    85.29    81.45    97.03    0.89\n",
      "  6    8600      15742.76      2449.90     12014.65    93.88    85.04    81.08    96.97    0.88\n",
      "  6    8800      16273.71      2116.46     11455.67    93.91    85.29    81.20    97.36    0.89\n",
      "  6    9000      17548.42      2314.68     11694.69    93.98    85.30    81.23    97.89    0.89\n",
      "  6    9200      18226.51      2116.28     11779.67    93.99    85.08    81.14    97.18    0.89\n",
      "  6    9400      18250.40      2228.12     11996.85    94.06    85.32    81.31    97.14    0.89\n",
      "  6    9600      19470.99      2403.37     12458.55    93.92    85.23    81.28    97.31    0.89\n",
      "  6    9800      19676.68      2436.69     12217.43    94.01    85.39    81.31    97.53    0.89\n",
      "  7   10000      18704.41      2140.53     11630.11    93.88    85.31    81.24    97.46    0.89\n",
      "  7   10200      19165.32      2020.57     10845.68    93.99    85.63    81.69    97.32    0.89\n",
      "  7   10400      21045.09      2103.73     11504.29    94.09    85.66    81.63    97.32    0.89\n",
      "  7   10600      20481.85      2111.54     11109.21    94.10    85.59    81.58    97.18    0.89\n",
      "  7   10800      21983.21      2206.52     11519.28    94.06    85.27    81.42    97.64    0.89\n",
      "  7   11000      21920.63      2229.72     11605.40    93.91    85.09    81.17    97.43    0.89\n",
      "  7   11200      22528.49      2200.53     11800.92    94.10    85.04    81.10    97.50    0.89\n",
      "  8   11400      22717.70      2261.24     11681.40    93.99    85.39    81.37    97.46    0.89\n",
      "  8   11600      21345.59      1875.18     10310.53    94.07    85.51    81.43    97.97    0.89\n",
      "  8   11800      23928.40      2047.47     10836.79    94.06    85.59    81.64    97.82    0.89\n",
      "  8   12000      24077.27      2091.58     10851.04    93.97    85.13    81.16    97.75    0.89\n",
      "\u001b[38;5;2m✔ Saved pipeline to output directory\u001b[0m\n",
      "output/model-last\n"
     ]
    }
   ],
   "source": [
    "!python -m spacy train config.cfg --output ./output --paths.train ./es_gsd-ud-train.spacy --paths.dev ./es_gsd-ud-dev.spacy"
   ]
  },
  {
   "cell_type": "markdown",
   "id": "a904251d2e7bce4e",
   "metadata": {},
   "source": [
    "Once the training is done, evaluate the parser on the development set to measure its accuracy.\n",
    "The output will provide detailed metrics like LAS (Labeled Attachment Score), which measures how well the parser predicts dependency relations per label."
   ]
  },
  {
   "cell_type": "code",
   "execution_count": 8,
   "id": "9d51019adb9e33a1",
   "metadata": {
    "ExecuteTime": {
     "end_time": "2024-09-26T10:49:08.588295Z",
     "start_time": "2024-09-26T10:49:05.052329Z"
    }
   },
   "outputs": [
    {
     "name": "stdout",
     "output_type": "stream",
     "text": [
      "\u001b[38;5;4mℹ Using CPU\u001b[0m\n",
      "\u001b[1m\n",
      "================================== Results ==================================\u001b[0m\n",
      "\n",
      "TOK      97.68\n",
      "TAG      93.24\n",
      "UAS      82.92\n",
      "LAS      78.91\n",
      "SENT P   95.43\n",
      "SENT R   92.97\n",
      "SENT F   94.19\n",
      "SPEED    12357\n",
      "\n",
      "\u001b[1m\n",
      "=============================== LAS (per type) ===============================\u001b[0m\n",
      "\n",
      "                 P       R       F\n",
      "case         93.83   84.11   88.71\n",
      "advmod       85.03   78.59   81.68\n",
      "root         89.24   85.48   87.32\n",
      "det          96.87   85.12   90.61\n",
      "nsubj        80.45   76.96   78.67\n",
      "nmod         79.34   80.00   79.67\n",
      "amod         86.53   85.81   86.17\n",
      "appos        60.33   59.68   60.00\n",
      "flat         73.10   82.76   77.63\n",
      "expl:pv      98.33   81.94   89.39\n",
      "acl:relcl    71.74   70.21   70.97\n",
      "obl          70.40   68.97   69.68\n",
      "cop          79.64   83.12   81.35\n",
      "cc           87.47   84.41   85.91\n",
      "conj         56.46   56.11   56.28\n",
      "mark         87.58   84.35   85.94\n",
      "xcomp        66.14   74.34   70.00\n",
      "obj          76.80   78.21   77.50\n",
      "fixed        68.67   50.00   57.87\n",
      "advcl        56.52   43.33   49.06\n",
      "ccomp        67.53   63.41   65.41\n",
      "acl          62.26   60.00   61.11\n",
      "obl:arg      84.38   57.45   68.35\n",
      "dep          18.75   15.00   16.67\n",
      "nummod       89.82   92.59   91.19\n",
      "parataxis    28.79   27.94   28.36\n",
      "aux          91.30   88.11   89.68\n",
      "csubj        65.22   44.12   52.63\n",
      "nsubj:pass   73.33   50.00   59.46\n",
      "obl:agent    85.19   88.46   86.79\n",
      "aux:pass     95.24   71.43   81.63\n",
      "compound      0.00    0.00    0.00\n",
      "expl:pass     0.00    0.00    0.00\n",
      "\n"
     ]
    }
   ],
   "source": [
    "!python -m spacy evaluate ./output/model-best ./es_gsd-ud-test.spacy"
   ]
  },
  {
   "cell_type": "code",
   "execution_count": 20,
   "id": "9f96d7dd078e1ba0",
   "metadata": {
    "ExecuteTime": {
     "end_time": "2024-11-13T08:34:00.460161Z",
     "start_time": "2024-11-13T08:33:57.270231Z"
    }
   },
   "outputs": [
    {
     "name": "stdout",
     "output_type": "stream",
     "text": [
      "{'token_acc': 0.976773864216437, 'token_p': 0.9733707673983325, 'token_r': 0.953257790368272, 'token_f': 0.9632092944940226, 'sents_p': 0.9543269230769231, 'sents_r': 0.9297423887587822, 'sents_f': 0.9418742586002372, 'tag_acc': 0.9323615905894387, 'pos_acc': 0.0, 'morph_acc': 0.0, 'morph_micro_p': 0.0, 'morph_micro_r': 0.0, 'morph_micro_f': 0.0, 'morph_per_feat': {'Mood': {'p': 0.0, 'r': 0.0, 'f': 0.0}, 'Number': {'p': 0.0, 'r': 0.0, 'f': 0.0}, 'Person': {'p': 0.0, 'r': 0.0, 'f': 0.0}, 'Tense': {'p': 0.0, 'r': 0.0, 'f': 0.0}, 'VerbForm': {'p': 0.0, 'r': 0.0, 'f': 0.0}, 'Definite': {'p': 0.0, 'r': 0.0, 'f': 0.0}, 'Gender': {'p': 0.0, 'r': 0.0, 'f': 0.0}, 'PronType': {'p': 0.0, 'r': 0.0, 'f': 0.0}, 'PunctType': {'p': 0.0, 'r': 0.0, 'f': 0.0}, 'Poss': {'p': 0.0, 'r': 0.0, 'f': 0.0}, 'Case': {'p': 0.0, 'r': 0.0, 'f': 0.0}, 'PrepCase': {'p': 0.0, 'r': 0.0, 'f': 0.0}, 'Reflex': {'p': 0.0, 'r': 0.0, 'f': 0.0}, 'PunctSide': {'p': 0.0, 'r': 0.0, 'f': 0.0}, 'NumForm': {'p': 0.0, 'r': 0.0, 'f': 0.0}, 'NumType': {'p': 0.0, 'r': 0.0, 'f': 0.0}, 'Degree': {'p': 0.0, 'r': 0.0, 'f': 0.0}, 'Typo': {'p': 0.0, 'r': 0.0, 'f': 0.0}, 'Polarity': {'p': 0.0, 'r': 0.0, 'f': 0.0}, 'Number[psor]': {'p': 0.0, 'r': 0.0, 'f': 0.0}, 'Foreign': {'p': 0.0, 'r': 0.0, 'f': 0.0}, 'Polite': {'p': 0.0, 'r': 0.0, 'f': 0.0}, 'Abbr': {'p': 0.0, 'r': 0.0, 'f': 0.0}}, 'dep_uas': 0.8291969425309049, 'dep_las': 0.7891111530477448, 'dep_las_per_type': {'case': {'p': 0.9383429672447013, 'r': 0.8411053540587219, 'f': 0.8870673952641165}, 'advmod': {'p': 0.8502824858757062, 'r': 0.7859007832898173, 'f': 0.8168249660786974}, 'root': {'p': 0.8924205378973105, 'r': 0.8548009367681498, 'f': 0.8732057416267941}, 'det': {'p': 0.9686666666666667, 'r': 0.8512009373169303, 'f': 0.9061428125974431}, 'nsubj': {'p': 0.8045454545454546, 'r': 0.7695652173913043, 'f': 0.7866666666666666}, 'nmod': {'p': 0.7934224049331963, 'r': 0.8, 'f': 0.7966976264189887}, 'amod': {'p': 0.8653198653198653, 'r': 0.8580968280467446, 'f': 0.8616932103939648}, 'appos': {'p': 0.6032608695652174, 'r': 0.5967741935483871, 'f': 0.6}, 'flat': {'p': 0.7309644670050761, 'r': 0.8275862068965517, 'f': 0.7762803234501349}, 'expl:pv': {'p': 0.9833333333333333, 'r': 0.8194444444444444, 'f': 0.893939393939394}, 'acl:relcl': {'p': 0.717391304347826, 'r': 0.7021276595744681, 'f': 0.7096774193548387}, 'obl': {'p': 0.704, 'r': 0.6896551724137931, 'f': 0.6967537608867775}, 'cop': {'p': 0.7964071856287425, 'r': 0.83125, 'f': 0.8134556574923548}, 'cc': {'p': 0.8746518105849582, 'r': 0.8440860215053764, 'f': 0.8590971272229821}, 'conj': {'p': 0.5645833333333333, 'r': 0.5610766045548654, 'f': 0.5628245067497404}, 'mark': {'p': 0.8758465011286681, 'r': 0.8434782608695652, 'f': 0.8593576965669989}, 'xcomp': {'p': 0.6614173228346457, 'r': 0.7433628318584071, 'f': 0.7000000000000001}, 'obj': {'p': 0.7680180180180181, 'r': 0.7821100917431193, 'f': 0.7749999999999999}, 'fixed': {'p': 0.6867469879518072, 'r': 0.5, 'f': 0.5786802030456852}, 'advcl': {'p': 0.5652173913043478, 'r': 0.43333333333333335, 'f': 0.49056603773584906}, 'ccomp': {'p': 0.6753246753246753, 'r': 0.6341463414634146, 'f': 0.6540880503144655}, 'acl': {'p': 0.6226415094339622, 'r': 0.6, 'f': 0.611111111111111}, 'obl:arg': {'p': 0.84375, 'r': 0.574468085106383, 'f': 0.6835443037974684}, 'dep': {'p': 0.1875, 'r': 0.15, 'f': 0.16666666666666663}, 'nummod': {'p': 0.8982035928143712, 'r': 0.9259259259259259, 'f': 0.9118541033434651}, 'parataxis': {'p': 0.2878787878787879, 'r': 0.27941176470588236, 'f': 0.2835820895522388}, 'aux': {'p': 0.9130434782608695, 'r': 0.8811188811188811, 'f': 0.896797153024911}, 'csubj': {'p': 0.6521739130434783, 'r': 0.4411764705882353, 'f': 0.5263157894736842}, 'nsubj:pass': {'p': 0.7333333333333333, 'r': 0.5, 'f': 0.5945945945945945}, 'obl:agent': {'p': 0.8518518518518519, 'r': 0.8846153846153846, 'f': 0.8679245283018868}, 'aux:pass': {'p': 0.9523809523809523, 'r': 0.7142857142857143, 'f': 0.8163265306122449}, 'compound': {'p': 0.0, 'r': 0.0, 'f': 0.0}, 'expl:pass': {'p': 0.0, 'r': 0.0, 'f': 0.0}}, 'ents_p': None, 'ents_r': None, 'ents_f': None, 'ents_per_type': None, 'cats_score': 0.0, 'cats_score_desc': 'macro F', 'cats_micro_p': 0.0, 'cats_micro_r': 0.0, 'cats_micro_f': 0.0, 'cats_macro_p': 0.0, 'cats_macro_r': 0.0, 'cats_macro_f': 0.0, 'cats_macro_auc': 0.0, 'cats_f_per_type': {}, 'cats_auc_per_type': {}}\n"
     ]
    }
   ],
   "source": [
    "\n",
    "from spacy.scorer import Scorer\n",
    "from spacy.training import Example\n",
    "\n",
    "def evaluate_model(model_path, test_data_path):\n",
    "    nlp = spacy.load(model_path)\n",
    "\n",
    "    doc_bin = spacy.tokens.DocBin().from_disk(test_data_path)\n",
    "    examples = []\n",
    "    for doc in doc_bin.get_docs(nlp.vocab):\n",
    "        pred_doc = nlp(doc.text)\n",
    "        examples.append(Example(pred_doc, doc))\n",
    "\n",
    "    scorer = Scorer()\n",
    "    scores = scorer.score(examples)\n",
    "\n",
    "    print(scores)\n",
    "\n",
    "    return scores\n",
    "\n",
    "model_path = \"./output/model-best\"\n",
    "test_data_path = \"./es_gsd-ud-test.spacy\"\n",
    "\n",
    "evaluation_results = evaluate_model(model_path, test_data_path)\n"
   ]
  },
  {
   "cell_type": "markdown",
   "id": "bd60be503412250a",
   "metadata": {},
   "source": [
    "Use the trained parser to parse some example sentences."
   ]
  },
  {
   "cell_type": "code",
   "execution_count": 3,
   "id": "603d4faad57f5ae3",
   "metadata": {
    "ExecuteTime": {
     "end_time": "2024-09-26T11:15:41.382338Z",
     "start_time": "2024-09-26T11:15:41.284623Z"
    }
   },
   "outputs": [
    {
     "name": "stdout",
     "output_type": "stream",
     "text": [
      "Subo ROOT Subo\n",
      "a case montaña\n",
      "la det montaña\n",
      "montaña obl Subo\n",
      ". punct Subo\n"
     ]
    }
   ],
   "source": [
    "import spacy\n",
    "\n",
    "nlp = spacy.load(\"./output/model-best\")\n",
    "\n",
    "doc = nlp(\"Subo a la montaña.\")\n",
    "for token in doc:\n",
    "    print(token.text, token.dep_, token.head.text)"
   ]
  },
  {
   "cell_type": "code",
   "execution_count": 4,
   "id": "414b2689d2c7c955",
   "metadata": {
    "ExecuteTime": {
     "end_time": "2024-09-26T11:14:19.279270Z",
     "start_time": "2024-09-26T11:14:19.186686Z"
    }
   },
   "outputs": [
    {
     "data": {
      "text/html": [
       "<span class=\"tex2jax_ignore\"><svg xmlns=\"http://www.w3.org/2000/svg\" xmlns:xlink=\"http://www.w3.org/1999/xlink\" xml:lang=\"eu\" id=\"08af5b85322148da9548ed61c69b27ab-0\" class=\"displacy\" width=\"1150\" height=\"357.0\" direction=\"ltr\" style=\"max-width: none; height: 357.0px; color: #000000; background: #ffffff; font-family: Arial; direction: ltr\">\n",
       "<text class=\"displacy-token\" fill=\"currentColor\" text-anchor=\"middle\" y=\"267.0\">\n",
       "    <tspan class=\"displacy-word\" fill=\"currentColor\" x=\"50\">Todavía</tspan>\n",
       "    <tspan class=\"displacy-tag\" dy=\"2em\" fill=\"currentColor\" x=\"50\"></tspan>\n",
       "</text>\n",
       "\n",
       "<text class=\"displacy-token\" fill=\"currentColor\" text-anchor=\"middle\" y=\"267.0\">\n",
       "    <tspan class=\"displacy-word\" fill=\"currentColor\" x=\"160\">te</tspan>\n",
       "    <tspan class=\"displacy-tag\" dy=\"2em\" fill=\"currentColor\" x=\"160\"></tspan>\n",
       "</text>\n",
       "\n",
       "<text class=\"displacy-token\" fill=\"currentColor\" text-anchor=\"middle\" y=\"267.0\">\n",
       "    <tspan class=\"displacy-word\" fill=\"currentColor\" x=\"270\">queda</tspan>\n",
       "    <tspan class=\"displacy-tag\" dy=\"2em\" fill=\"currentColor\" x=\"270\"></tspan>\n",
       "</text>\n",
       "\n",
       "<text class=\"displacy-token\" fill=\"currentColor\" text-anchor=\"middle\" y=\"267.0\">\n",
       "    <tspan class=\"displacy-word\" fill=\"currentColor\" x=\"380\">un</tspan>\n",
       "    <tspan class=\"displacy-tag\" dy=\"2em\" fill=\"currentColor\" x=\"380\"></tspan>\n",
       "</text>\n",
       "\n",
       "<text class=\"displacy-token\" fill=\"currentColor\" text-anchor=\"middle\" y=\"267.0\">\n",
       "    <tspan class=\"displacy-word\" fill=\"currentColor\" x=\"490\">largo</tspan>\n",
       "    <tspan class=\"displacy-tag\" dy=\"2em\" fill=\"currentColor\" x=\"490\"></tspan>\n",
       "</text>\n",
       "\n",
       "<text class=\"displacy-token\" fill=\"currentColor\" text-anchor=\"middle\" y=\"267.0\">\n",
       "    <tspan class=\"displacy-word\" fill=\"currentColor\" x=\"600\">camino</tspan>\n",
       "    <tspan class=\"displacy-tag\" dy=\"2em\" fill=\"currentColor\" x=\"600\"></tspan>\n",
       "</text>\n",
       "\n",
       "<text class=\"displacy-token\" fill=\"currentColor\" text-anchor=\"middle\" y=\"267.0\">\n",
       "    <tspan class=\"displacy-word\" fill=\"currentColor\" x=\"710\">hasta</tspan>\n",
       "    <tspan class=\"displacy-tag\" dy=\"2em\" fill=\"currentColor\" x=\"710\"></tspan>\n",
       "</text>\n",
       "\n",
       "<text class=\"displacy-token\" fill=\"currentColor\" text-anchor=\"middle\" y=\"267.0\">\n",
       "    <tspan class=\"displacy-word\" fill=\"currentColor\" x=\"820\">llegar</tspan>\n",
       "    <tspan class=\"displacy-tag\" dy=\"2em\" fill=\"currentColor\" x=\"820\"></tspan>\n",
       "</text>\n",
       "\n",
       "<text class=\"displacy-token\" fill=\"currentColor\" text-anchor=\"middle\" y=\"267.0\">\n",
       "    <tspan class=\"displacy-word\" fill=\"currentColor\" x=\"930\">a</tspan>\n",
       "    <tspan class=\"displacy-tag\" dy=\"2em\" fill=\"currentColor\" x=\"930\"></tspan>\n",
       "</text>\n",
       "\n",
       "<text class=\"displacy-token\" fill=\"currentColor\" text-anchor=\"middle\" y=\"267.0\">\n",
       "    <tspan class=\"displacy-word\" fill=\"currentColor\" x=\"1040\">casa.</tspan>\n",
       "    <tspan class=\"displacy-tag\" dy=\"2em\" fill=\"currentColor\" x=\"1040\"></tspan>\n",
       "</text>\n",
       "\n",
       "<g class=\"displacy-arrow\">\n",
       "    <path class=\"displacy-arc\" id=\"arrow-08af5b85322148da9548ed61c69b27ab-0-0\" stroke-width=\"2px\" d=\"M70,222.0 C70,112.0 260.0,112.0 260.0,222.0\" fill=\"none\" stroke=\"currentColor\"/>\n",
       "    <text dy=\"1.25em\" style=\"font-size: 0.8em; letter-spacing: 1px\">\n",
       "        <textPath xlink:href=\"#arrow-08af5b85322148da9548ed61c69b27ab-0-0\" class=\"displacy-label\" startOffset=\"50%\" side=\"left\" fill=\"currentColor\" text-anchor=\"middle\">advmod</textPath>\n",
       "    </text>\n",
       "    <path class=\"displacy-arrowhead\" d=\"M70,224.0 L62,212.0 78,212.0\" fill=\"currentColor\"/>\n",
       "</g>\n",
       "\n",
       "<g class=\"displacy-arrow\">\n",
       "    <path class=\"displacy-arc\" id=\"arrow-08af5b85322148da9548ed61c69b27ab-0-1\" stroke-width=\"2px\" d=\"M180,222.0 C180,167.0 255.0,167.0 255.0,222.0\" fill=\"none\" stroke=\"currentColor\"/>\n",
       "    <text dy=\"1.25em\" style=\"font-size: 0.8em; letter-spacing: 1px\">\n",
       "        <textPath xlink:href=\"#arrow-08af5b85322148da9548ed61c69b27ab-0-1\" class=\"displacy-label\" startOffset=\"50%\" side=\"left\" fill=\"currentColor\" text-anchor=\"middle\">obl:arg</textPath>\n",
       "    </text>\n",
       "    <path class=\"displacy-arrowhead\" d=\"M180,224.0 L172,212.0 188,212.0\" fill=\"currentColor\"/>\n",
       "</g>\n",
       "\n",
       "<g class=\"displacy-arrow\">\n",
       "    <path class=\"displacy-arc\" id=\"arrow-08af5b85322148da9548ed61c69b27ab-0-2\" stroke-width=\"2px\" d=\"M400,222.0 C400,112.0 590.0,112.0 590.0,222.0\" fill=\"none\" stroke=\"currentColor\"/>\n",
       "    <text dy=\"1.25em\" style=\"font-size: 0.8em; letter-spacing: 1px\">\n",
       "        <textPath xlink:href=\"#arrow-08af5b85322148da9548ed61c69b27ab-0-2\" class=\"displacy-label\" startOffset=\"50%\" side=\"left\" fill=\"currentColor\" text-anchor=\"middle\">det</textPath>\n",
       "    </text>\n",
       "    <path class=\"displacy-arrowhead\" d=\"M400,224.0 L392,212.0 408,212.0\" fill=\"currentColor\"/>\n",
       "</g>\n",
       "\n",
       "<g class=\"displacy-arrow\">\n",
       "    <path class=\"displacy-arc\" id=\"arrow-08af5b85322148da9548ed61c69b27ab-0-3\" stroke-width=\"2px\" d=\"M510,222.0 C510,167.0 585.0,167.0 585.0,222.0\" fill=\"none\" stroke=\"currentColor\"/>\n",
       "    <text dy=\"1.25em\" style=\"font-size: 0.8em; letter-spacing: 1px\">\n",
       "        <textPath xlink:href=\"#arrow-08af5b85322148da9548ed61c69b27ab-0-3\" class=\"displacy-label\" startOffset=\"50%\" side=\"left\" fill=\"currentColor\" text-anchor=\"middle\">amod</textPath>\n",
       "    </text>\n",
       "    <path class=\"displacy-arrowhead\" d=\"M510,224.0 L502,212.0 518,212.0\" fill=\"currentColor\"/>\n",
       "</g>\n",
       "\n",
       "<g class=\"displacy-arrow\">\n",
       "    <path class=\"displacy-arc\" id=\"arrow-08af5b85322148da9548ed61c69b27ab-0-4\" stroke-width=\"2px\" d=\"M290,222.0 C290,57.0 595.0,57.0 595.0,222.0\" fill=\"none\" stroke=\"currentColor\"/>\n",
       "    <text dy=\"1.25em\" style=\"font-size: 0.8em; letter-spacing: 1px\">\n",
       "        <textPath xlink:href=\"#arrow-08af5b85322148da9548ed61c69b27ab-0-4\" class=\"displacy-label\" startOffset=\"50%\" side=\"left\" fill=\"currentColor\" text-anchor=\"middle\">obj</textPath>\n",
       "    </text>\n",
       "    <path class=\"displacy-arrowhead\" d=\"M595.0,224.0 L603.0,212.0 587.0,212.0\" fill=\"currentColor\"/>\n",
       "</g>\n",
       "\n",
       "<g class=\"displacy-arrow\">\n",
       "    <path class=\"displacy-arc\" id=\"arrow-08af5b85322148da9548ed61c69b27ab-0-5\" stroke-width=\"2px\" d=\"M730,222.0 C730,167.0 805.0,167.0 805.0,222.0\" fill=\"none\" stroke=\"currentColor\"/>\n",
       "    <text dy=\"1.25em\" style=\"font-size: 0.8em; letter-spacing: 1px\">\n",
       "        <textPath xlink:href=\"#arrow-08af5b85322148da9548ed61c69b27ab-0-5\" class=\"displacy-label\" startOffset=\"50%\" side=\"left\" fill=\"currentColor\" text-anchor=\"middle\">mark</textPath>\n",
       "    </text>\n",
       "    <path class=\"displacy-arrowhead\" d=\"M730,224.0 L722,212.0 738,212.0\" fill=\"currentColor\"/>\n",
       "</g>\n",
       "\n",
       "<g class=\"displacy-arrow\">\n",
       "    <path class=\"displacy-arc\" id=\"arrow-08af5b85322148da9548ed61c69b27ab-0-6\" stroke-width=\"2px\" d=\"M290,222.0 C290,2.0 820.0,2.0 820.0,222.0\" fill=\"none\" stroke=\"currentColor\"/>\n",
       "    <text dy=\"1.25em\" style=\"font-size: 0.8em; letter-spacing: 1px\">\n",
       "        <textPath xlink:href=\"#arrow-08af5b85322148da9548ed61c69b27ab-0-6\" class=\"displacy-label\" startOffset=\"50%\" side=\"left\" fill=\"currentColor\" text-anchor=\"middle\">advcl</textPath>\n",
       "    </text>\n",
       "    <path class=\"displacy-arrowhead\" d=\"M820.0,224.0 L828.0,212.0 812.0,212.0\" fill=\"currentColor\"/>\n",
       "</g>\n",
       "\n",
       "<g class=\"displacy-arrow\">\n",
       "    <path class=\"displacy-arc\" id=\"arrow-08af5b85322148da9548ed61c69b27ab-0-7\" stroke-width=\"2px\" d=\"M950,222.0 C950,167.0 1025.0,167.0 1025.0,222.0\" fill=\"none\" stroke=\"currentColor\"/>\n",
       "    <text dy=\"1.25em\" style=\"font-size: 0.8em; letter-spacing: 1px\">\n",
       "        <textPath xlink:href=\"#arrow-08af5b85322148da9548ed61c69b27ab-0-7\" class=\"displacy-label\" startOffset=\"50%\" side=\"left\" fill=\"currentColor\" text-anchor=\"middle\">case</textPath>\n",
       "    </text>\n",
       "    <path class=\"displacy-arrowhead\" d=\"M950,224.0 L942,212.0 958,212.0\" fill=\"currentColor\"/>\n",
       "</g>\n",
       "\n",
       "<g class=\"displacy-arrow\">\n",
       "    <path class=\"displacy-arc\" id=\"arrow-08af5b85322148da9548ed61c69b27ab-0-8\" stroke-width=\"2px\" d=\"M840,222.0 C840,112.0 1030.0,112.0 1030.0,222.0\" fill=\"none\" stroke=\"currentColor\"/>\n",
       "    <text dy=\"1.25em\" style=\"font-size: 0.8em; letter-spacing: 1px\">\n",
       "        <textPath xlink:href=\"#arrow-08af5b85322148da9548ed61c69b27ab-0-8\" class=\"displacy-label\" startOffset=\"50%\" side=\"left\" fill=\"currentColor\" text-anchor=\"middle\">obl</textPath>\n",
       "    </text>\n",
       "    <path class=\"displacy-arrowhead\" d=\"M1030.0,224.0 L1038.0,212.0 1022.0,212.0\" fill=\"currentColor\"/>\n",
       "</g>\n",
       "</svg></span>"
      ],
      "text/plain": [
       "<IPython.core.display.HTML object>"
      ]
     },
     "metadata": {},
     "output_type": "display_data"
    }
   ],
   "source": [
    "from spacy import displacy\n",
    "\n",
    "nlp = spacy.load(\"./output/model-best\")\n",
    "\n",
    "doc = nlp(\"Todavía te queda un largo camino hasta llegar a casa.\")\n",
    "#doc = nlp(\"Voy a la casa.\")\n",
    "displacy.render(doc, style=\"dep\", jupyter=True, options={\"distance\": 110})"
   ]
  },
  {
   "cell_type": "markdown",
   "id": "d3a8a9e6-1c6b-4db4-bdf5-7fbd190ec837",
   "metadata": {},
   "source": [
    "## Analyse Trees\n"
   ]
  },
  {
   "cell_type": "code",
   "execution_count": 6,
   "id": "99bf59ac-3e0d-4082-8fcb-5cd766dd0a7f",
   "metadata": {},
   "outputs": [],
   "source": [
    "from src.helper import printTree\n",
    "from src.helper import getDepthAndDegree\n",
    "from src.helper import avDict\n",
    "from src.helper import printDict\n",
    "from src.helper import get_lines_without_number\n",
    "from src.helper import regex_clean\n",
    "from src.helper import clean_spanish_text\n",
    "import re"
   ]
  },
  {
   "cell_type": "code",
   "execution_count": 9,
   "id": "bbb572fe-be88-47b7-8cb0-2e0867591167",
   "metadata": {},
   "outputs": [],
   "source": [
    "## Load the Spanish text \n",
    "spanish_text_path = \"spa_wikipedia_2021_30K-sentences.txt\"\n",
    "\n",
    "final_L = get_lines_without_number(spanish_text_path)\n",
    "#Get the data as lines \n",
    "# Already cleaned from starting numbers\n",
    "whole_text = get_lines_without_number(spanish_text_path)\n",
    "#Use the cleaning regex\n",
    "whole_text = clean_spanish_text(whole_text)\n",
    "\n",
    "root = 'nmod' #'obj'\n",
    "chil = [\"nmod\",\"obj\"]\n",
    "tree_to_check = (root,chil)"
   ]
  },
  {
   "cell_type": "code",
   "execution_count": 11,
   "id": "37980f72-919f-41ef-9455-c7b4d17c6814",
   "metadata": {},
   "outputs": [
    {
     "name": "stdout",
     "output_type": "stream",
     "text": [
      " Progress:  29950 / 30000"
     ]
    }
   ],
   "source": [
    "from src.treeCounter import tree_counter\n",
    "av_depth,mean_degree_dict,mean_distance_dict,leave_counter,count_ancestors,count_descendants,count_head,count_childreen,all_sent_with_structure = tree_counter(whole_text,nlp,tree_to_check)"
   ]
  },
  {
   "cell_type": "code",
   "execution_count": 5,
   "id": "9b46722a-1a76-4e3c-ad3b-909921d2e59f",
   "metadata": {},
   "outputs": [
    {
     "name": "stdout",
     "output_type": "stream",
     "text": [
      "\n",
      "Total sentences:  30000  Average Depth:  5.5502\n"
     ]
    }
   ],
   "source": [
    "\n",
    "print(\"\\nTotal sentences: \",len(whole_text),\" Average Depth: \",av_depth)"
   ]
  },
  {
   "cell_type": "code",
   "execution_count": 6,
   "id": "c5a86ec8-8059-4407-bd73-d3697e3ae905",
   "metadata": {},
   "outputs": [
    {
     "name": "stdout",
     "output_type": "stream",
     "text": [
      "Average Number of degrees\n",
      "ccomp=>4.8273\n",
      "ROOT=>4.5942\n",
      "acl:relcl=>4.0224\n",
      "parataxis=>3.9012\n",
      "csubj=>3.7811\n",
      "obl:agent=>3.6477\n",
      "advcl=>3.6326\n",
      "conj=>3.5416\n",
      "obl=>3.3491\n",
      "nmod=>2.9557\n",
      "obj=>2.7288\n",
      "nsubj:pass=>2.6123\n",
      "nsubj=>2.5203\n",
      "xcomp=>2.3137\n",
      "acl=>2.0663\n",
      "obl:arg=>2.0391\n",
      "appos=>1.7688\n",
      "dep=>1.4551\n",
      "compound=>1.3029\n",
      "nummod=>1.2225\n",
      "advmod=>1.1521\n",
      "amod=>1.1260\n",
      "mark=>1.1257\n",
      "flat=>1.0472\n",
      "cc=>1.0414\n",
      "fixed=>1.0337\n",
      "cop=>1.0308\n",
      "case=>1.0211\n",
      "aux=>1.0146\n",
      "det=>1.0045\n",
      "aux:pass=>1.0011\n",
      "punct=>1.0008\n",
      "expl:pv=>1.0001\n"
     ]
    }
   ],
   "source": [
    "print(\"Average Number of degrees\")\n",
    "printDict(mean_degree_dict)\n",
    "\n",
    "#count_degree_dict"
   ]
  },
  {
   "cell_type": "code",
   "execution_count": 7,
   "id": "3148f2b5-e852-4cc9-abf4-afff99c2f995",
   "metadata": {},
   "outputs": [
    {
     "name": "stdout",
     "output_type": "stream",
     "text": [
      "Average Distance To Root\n",
      "cc=>3.5967\n",
      "case=>3.4964\n",
      "fixed=>3.4219\n",
      "flat=>3.2543\n",
      "amod=>3.1072\n",
      "mark=>3.0915\n",
      "det=>3.0862\n",
      "nummod=>3.0816\n",
      "compound=>2.9599\n",
      "nmod=>2.8517\n",
      "appos=>2.8015\n",
      "acl:relcl=>2.7451\n",
      "acl=>2.6501\n",
      "conj=>2.6236\n",
      "advmod=>2.4473\n",
      "dep=>2.3739\n",
      "obl:agent=>2.2709\n",
      "obj=>2.2477\n",
      "obl:arg=>2.1528\n",
      "aux=>2.0989\n",
      "xcomp=>2.0989\n",
      "obl=>1.9273\n",
      "expl:pv=>1.8152\n",
      "cop=>1.8028\n",
      "advcl=>1.7952\n",
      "ccomp=>1.7487\n",
      "aux:pass=>1.6511\n",
      "nsubj=>1.5906\n",
      "csubj=>1.4576\n",
      "nsubj:pass=>1.3910\n",
      "parataxis=>1.0323\n",
      "punct=>1.0111\n",
      "ROOT=>0.0000\n"
     ]
    }
   ],
   "source": [
    "print(\"Average Distance To Root\")\n",
    "printDict(mean_distance_dict)"
   ]
  },
  {
   "cell_type": "code",
   "execution_count": 8,
   "id": "5737b2b2-0bba-471c-9115-df81ab25af20",
   "metadata": {},
   "outputs": [
    {
     "name": "stdout",
     "output_type": "stream",
     "text": [
      "Most Common Leave Nodes\n",
      "case  count:  106678\n",
      "det  count:  93745\n",
      "amod  count:  36251\n",
      "punct  count:  29748\n",
      "cc  count:  19642\n",
      "mark  count:  19085\n",
      "advmod  count:  16601\n",
      "flat  count:  11980\n",
      "expl:pv  count:  9169\n",
      "nummod  count:  8051\n"
     ]
    }
   ],
   "source": [
    "print(\"Most Common Leave Nodes\")\n",
    "for label, count in leave_counter.most_common(10):\n",
    "    print(label,\" count: \",count)"
   ]
  },
  {
   "cell_type": "code",
   "execution_count": 9,
   "id": "1caaebcf-a37c-45d0-8bca-617bc19fa61c",
   "metadata": {},
   "outputs": [
    {
     "name": "stdout",
     "output_type": "stream",
     "text": [
      "Most Common Ancestors\n",
      "nummod - ROOT : 9878 -- obl : 4676\n",
      "nsubj - ROOT : 29799 -- advcl : 3088\n",
      "case - ROOT : 108843 -- nmod : 78984\n",
      "nmod - ROOT : 59397 -- obl : 22865\n",
      "cop - ROOT : 8210 -- conj : 1130\n",
      "det - ROOT : 94132 -- obl : 35805\n",
      "ROOT - Empty\n",
      "cc - conj : 21522 -- ROOT : 20475\n",
      "conj - ROOT : 20311 -- nmod : 5332\n",
      "punct - ROOT : 29766 -- parataxis : 103\n",
      "obl - ROOT : 41910 -- advcl : 6825\n",
      "amod - ROOT : 40490 -- nmod : 16100\n",
      "obj - ROOT : 25681 -- advcl : 8167\n",
      "advmod - ROOT : 19146 -- conj : 4002\n",
      "flat - ROOT : 12429 -- nmod : 5051\n",
      "appos - ROOT : 7950 -- obl : 2931\n",
      "dep - ROOT : 468 -- conj : 87\n",
      "mark - ROOT : 21264 -- advcl : 12200\n",
      "acl:relcl - ROOT : 8254 -- obl : 2798\n",
      "acl - ROOT : 4450 -- obj : 1443\n",
      "expl:pv - ROOT : 9170 -- conj : 1631\n",
      "fixed - ROOT : 5458 -- case : 2187\n",
      "obl:arg - ROOT : 2480 -- conj : 618\n",
      "xcomp - ROOT : 7009 -- conj : 1461\n",
      "advcl - ROOT : 11799 -- conj : 1736\n",
      "aux - ROOT : 5956 -- acl:relcl : 1323\n",
      "parataxis - ROOT : 1518 -- conj : 11\n",
      "obl:agent - ROOT : 2765 -- acl : 824\n",
      "aux:pass - ROOT : 3614 -- conj : 547\n",
      "ccomp - ROOT : 2710 -- advcl : 495\n",
      "csubj - ROOT : 1119 -- conj : 114\n",
      "nsubj:pass - ROOT : 2123 -- advcl : 156\n",
      "compound - ROOT : 274 -- obl : 87\n"
     ]
    }
   ],
   "source": [
    "#This function takes a dictionary whith values of counter \n",
    "# so there is a counter for every key there is a counter which indicates how often a value was for example the ancestors of the key\n",
    "# it will then print the fist two (if there are two) most_common classes of every counter \n",
    "def print_count_dict(cd):\n",
    "    # Iterate over every key in the dictionary \n",
    "    for key in cd:\n",
    "        #Take the most common two entries from the Counter corrospendonding to the key \n",
    "        most_common = cd[key].most_common(2)\n",
    "\n",
    "        #If there is nothing in the counter it will print out empty \n",
    "        if len(most_common) == 0:\n",
    "            print(key, \"- Empty\")\n",
    "\n",
    "        #Otherwiese it will Print out the one ore two most common item in the counter \n",
    "        elif len(most_common) == 1:\n",
    "            print(key, \"-\", most_common[0][0],\":\",most_common[0][1])\n",
    "        else:\n",
    "            print(key, \"-\", most_common[0][0],\":\",most_common[0][1],\"--\",most_common[1][0],\":\",most_common[1][1] )\n",
    "print(\"Most Common Ancestors\")\n",
    "# ancestors will count the whole path to the root \n",
    "# head will just count the node above\n",
    "print_count_dict(count_ancestors)\n",
    "#print_count_dict(count_head)"
   ]
  },
  {
   "cell_type": "code",
   "execution_count": 10,
   "id": "2b8a3d3a-c5ff-4826-b9a3-63853c4eb6a4",
   "metadata": {},
   "outputs": [
    {
     "name": "stdout",
     "output_type": "stream",
     "text": [
      "Most Common descendants\n",
      "nummod - nummod : 10368 -- case : 1001\n",
      "nsubj - nsubj : 30666 -- det : 28921\n",
      "case - case : 108890 -- fixed : 2187\n",
      "nmod - case : 78984 -- nmod : 76887\n",
      "cop - cop : 8216 -- case : 139\n",
      "det - det : 94164 -- case : 269\n",
      "ROOT - case : 108843 -- det : 94132\n",
      "cc - cc : 20476 -- fixed : 831\n",
      "conj - conj : 23072 -- cc : 21522\n",
      "punct - punct : 29766 -- case : 11\n",
      "obl - case : 66242 -- obl : 44795\n",
      "amod - amod : 40955 -- advmod : 1961\n",
      "obj - det : 28200 -- obj : 27854\n",
      "advmod - advmod : 19990 -- case : 1356\n",
      "flat - flat : 12664 -- case : 157\n",
      "appos - appos : 8165 -- flat : 3464\n",
      "dep - dep : 470 -- case : 134\n",
      "mark - mark : 21274 -- fixed : 1645\n",
      "acl:relcl - case : 13345 -- det : 11962\n",
      "acl - case : 5643 -- acl : 4574\n",
      "expl:pv - expl:pv : 9170 -- case : 1\n",
      "fixed - fixed : 5480 -- case : 82\n",
      "obl:arg - obl:arg : 2489 -- case : 1629\n",
      "xcomp - case : 7485 -- xcomp : 7433\n",
      "advcl - case : 16592 -- det : 15584\n",
      "aux - aux : 5959 -- det : 39\n",
      "parataxis - det : 2974 -- case : 2935\n",
      "obl:agent - case : 4467 -- obl:agent : 2801\n",
      "aux:pass - aux:pass : 3614 -- det : 3\n",
      "ccomp - det : 5494 -- case : 5204\n",
      "csubj - det : 2107 -- case : 2077\n",
      "nsubj:pass - det : 2150 -- nsubj:pass : 2124\n",
      "compound - compound : 280 -- case : 30\n"
     ]
    }
   ],
   "source": [
    "print(\"Most Common descendants\")\n",
    "#descedants will count the complete subtree\n",
    "# childreen just the child nodes\n",
    "print_count_dict(count_descendants)\n",
    "#print_count_dict(count_childreen)"
   ]
  },
  {
   "cell_type": "code",
   "execution_count": 14,
   "id": "e87e119b-8986-46fa-9ffa-d45bb1b0f1a7",
   "metadata": {},
   "outputs": [
    {
     "name": "stdout",
     "output_type": "stream",
     "text": [
      "Total number sentences with this structure 3\n"
     ]
    },
    {
     "ename": "NameError",
     "evalue": "name 'get_label' is not defined",
     "output_type": "error",
     "traceback": [
      "\u001b[0;31m---------------------------------------------------------------------------\u001b[0m",
      "\u001b[0;31mNameError\u001b[0m                                 Traceback (most recent call last)",
      "Cell \u001b[0;32mIn[14], line 3\u001b[0m\n\u001b[1;32m      1\u001b[0m \u001b[38;5;28;01mfrom\u001b[39;00m \u001b[38;5;21;01msrc\u001b[39;00m\u001b[38;5;21;01m.\u001b[39;00m\u001b[38;5;21;01mhelper\u001b[39;00m \u001b[38;5;28;01mimport\u001b[39;00m print_all_senteces_with_structure_indication\n\u001b[1;32m      2\u001b[0m \u001b[38;5;28mprint\u001b[39m(\u001b[38;5;124mf\u001b[39m\u001b[38;5;124m\"\u001b[39m\u001b[38;5;124mTotal number sentences with this structure \u001b[39m\u001b[38;5;132;01m{\u001b[39;00m\u001b[38;5;28mlen\u001b[39m(all_sent_with_structure)\u001b[38;5;132;01m}\u001b[39;00m\u001b[38;5;124m\"\u001b[39m)\n\u001b[0;32m----> 3\u001b[0m print_all_senteces_with_structure_indication(all_sent_with_structure,tree_to_check,nlp)\n",
      "File \u001b[0;32m~/Documents/Uni/LanguageAsData/notebook/src/helper.py:119\u001b[0m, in \u001b[0;36mprint_all_senteces_with_structure_indication\u001b[0;34m(all_sent_with_structure, tree_to_check, nlp)\u001b[0m\n\u001b[1;32m    117\u001b[0m root_to_check, child_to_check \u001b[38;5;241m=\u001b[39m tree_to_check\n\u001b[1;32m    118\u001b[0m \u001b[38;5;28;01mfor\u001b[39;00m sent \u001b[38;5;129;01min\u001b[39;00m all_sent_with_structure:\n\u001b[0;32m--> 119\u001b[0m     doc \u001b[38;5;241m=\u001b[39m nlp(\u001b[38;5;28mstr\u001b[39m(sent))\n\u001b[1;32m    120\u001b[0m     single_sent \u001b[38;5;241m=\u001b[39m \u001b[38;5;28mnext\u001b[39m(doc\u001b[38;5;241m.\u001b[39msents)\n\u001b[1;32m    121\u001b[0m     root \u001b[38;5;241m=\u001b[39m get_root_of_subtree(single_sent,tree_to_check)\n",
      "File \u001b[0;32m~/Documents/Uni/LanguageAsData/notebook/src/helper.py:96\u001b[0m, in \u001b[0;36mget_root_of_subtree\u001b[0;34m(single_sent, tree_to_check)\u001b[0m\n\u001b[1;32m     94\u001b[0m root_to_check, child_to_check \u001b[38;5;241m=\u001b[39m tree_to_check\n\u001b[1;32m     95\u001b[0m \u001b[38;5;28;01mfor\u001b[39;00m word \u001b[38;5;129;01min\u001b[39;00m single_sent:\n\u001b[0;32m---> 96\u001b[0m     \u001b[38;5;28;01mif\u001b[39;00m word\u001b[38;5;241m.\u001b[39mdep_ \u001b[38;5;241m==\u001b[39m root_to_check:\n\u001b[1;32m     97\u001b[0m         is_sub_tree \u001b[38;5;241m=\u001b[39m \u001b[38;5;28;01mTrue\u001b[39;00m\n\u001b[1;32m     98\u001b[0m         childreen \u001b[38;5;241m=\u001b[39m \u001b[38;5;28mlist\u001b[39m(\u001b[38;5;28mmap\u001b[39m(get_label,word\u001b[38;5;241m.\u001b[39mchildren))\n",
      "\u001b[0;31mNameError\u001b[0m: name 'get_label' is not defined"
     ]
    }
   ],
   "source": [
    "from src.helper import print_all_senteces_with_structure_indication\n",
    "print(f\"Total number sentences with this structure {len(all_sent_with_structure)}\")\n",
    "print_all_senteces_with_structure_indication(all_sent_with_structure,tree_to_check,nlp)"
   ]
  },
  {
   "cell_type": "markdown",
   "id": "38d99c357651839a",
   "metadata": {},
   "source": [
    "## Bonus Tasks (Optional):\n",
    "- Fine-tune the model: Adjust hyperparameters like batch size, learning rate, or the number of training iterations in config.cfg to optimize the model.\n",
    "- Use more data: Extend your experiment by training on larger treebanks from other languages or domains and compare the analyses.\n",
    "- Analyze errors: Evaluate where the parser struggles by comparing predicted dependencies with the gold standard in the development set."
   ]
  },
  {
   "cell_type": "code",
   "execution_count": null,
   "id": "4fb3f6d4-818d-494e-9bfe-e5ed7f9ffc90",
   "metadata": {},
   "outputs": [],
   "source": []
  }
 ],
 "metadata": {
  "kernelspec": {
   "display_name": "Python 3 (ipykernel)",
   "language": "python",
   "name": "python3"
  },
  "language_info": {
   "codemirror_mode": {
    "name": "ipython",
    "version": 3
   },
   "file_extension": ".py",
   "mimetype": "text/x-python",
   "name": "python",
   "nbconvert_exporter": "python",
   "pygments_lexer": "ipython3",
   "version": "3.11.10"
  }
 },
 "nbformat": 4,
 "nbformat_minor": 5
}
