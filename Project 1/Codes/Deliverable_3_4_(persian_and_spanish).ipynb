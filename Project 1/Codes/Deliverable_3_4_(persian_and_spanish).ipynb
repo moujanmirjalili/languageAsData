{
  "cells": [
    {
      "cell_type": "markdown",
      "id": "edbc3065",
      "metadata": {
        "id": "edbc3065"
      },
      "source": [
        "Importing Libraries and frames"
      ]
    },
    {
      "cell_type": "code",
      "execution_count": null,
      "id": "38b79b0ef1bfbf9d",
      "metadata": {
        "ExecuteTime": {
          "end_time": "2024-10-10T14:34:03.084578Z",
          "start_time": "2024-10-10T14:34:01.845508Z"
        },
        "colab": {
          "base_uri": "https://localhost:8080/"
        },
        "collapsed": true,
        "id": "38b79b0ef1bfbf9d",
        "outputId": "7036af48-6ec3-4fdd-b3e5-6e29b713d9f9"
      },
      "outputs": [
        {
          "output_type": "stream",
          "name": "stdout",
          "text": [
            "Requirement already satisfied: tokenizers in /usr/local/lib/python3.10/dist-packages (0.20.3)\n",
            "Requirement already satisfied: scikit-learn in /usr/local/lib/python3.10/dist-packages (1.5.2)\n",
            "Requirement already satisfied: huggingface-hub<1.0,>=0.16.4 in /usr/local/lib/python3.10/dist-packages (from tokenizers) (0.26.2)\n",
            "Requirement already satisfied: numpy>=1.19.5 in /usr/local/lib/python3.10/dist-packages (from scikit-learn) (1.26.4)\n",
            "Requirement already satisfied: scipy>=1.6.0 in /usr/local/lib/python3.10/dist-packages (from scikit-learn) (1.13.1)\n",
            "Requirement already satisfied: joblib>=1.2.0 in /usr/local/lib/python3.10/dist-packages (from scikit-learn) (1.4.2)\n",
            "Requirement already satisfied: threadpoolctl>=3.1.0 in /usr/local/lib/python3.10/dist-packages (from scikit-learn) (3.5.0)\n",
            "Requirement already satisfied: filelock in /usr/local/lib/python3.10/dist-packages (from huggingface-hub<1.0,>=0.16.4->tokenizers) (3.16.1)\n",
            "Requirement already satisfied: fsspec>=2023.5.0 in /usr/local/lib/python3.10/dist-packages (from huggingface-hub<1.0,>=0.16.4->tokenizers) (2024.10.0)\n",
            "Requirement already satisfied: packaging>=20.9 in /usr/local/lib/python3.10/dist-packages (from huggingface-hub<1.0,>=0.16.4->tokenizers) (24.2)\n",
            "Requirement already satisfied: pyyaml>=5.1 in /usr/local/lib/python3.10/dist-packages (from huggingface-hub<1.0,>=0.16.4->tokenizers) (6.0.2)\n",
            "Requirement already satisfied: requests in /usr/local/lib/python3.10/dist-packages (from huggingface-hub<1.0,>=0.16.4->tokenizers) (2.32.3)\n",
            "Requirement already satisfied: tqdm>=4.42.1 in /usr/local/lib/python3.10/dist-packages (from huggingface-hub<1.0,>=0.16.4->tokenizers) (4.66.6)\n",
            "Requirement already satisfied: typing-extensions>=3.7.4.3 in /usr/local/lib/python3.10/dist-packages (from huggingface-hub<1.0,>=0.16.4->tokenizers) (4.12.2)\n",
            "Requirement already satisfied: charset-normalizer<4,>=2 in /usr/local/lib/python3.10/dist-packages (from requests->huggingface-hub<1.0,>=0.16.4->tokenizers) (3.4.0)\n",
            "Requirement already satisfied: idna<4,>=2.5 in /usr/local/lib/python3.10/dist-packages (from requests->huggingface-hub<1.0,>=0.16.4->tokenizers) (3.10)\n",
            "Requirement already satisfied: urllib3<3,>=1.21.1 in /usr/local/lib/python3.10/dist-packages (from requests->huggingface-hub<1.0,>=0.16.4->tokenizers) (2.2.3)\n",
            "Requirement already satisfied: certifi>=2017.4.17 in /usr/local/lib/python3.10/dist-packages (from requests->huggingface-hub<1.0,>=0.16.4->tokenizers) (2024.8.30)\n"
          ]
        }
      ],
      "source": [
        "! pip install tokenizers scikit-learn\n",
        "\n",
        "from tokenizers import Tokenizer\n",
        "from tokenizers.normalizers import StripAccents, Lowercase, Sequence\n",
        "from tokenizers.pre_tokenizers import Whitespace\n",
        "from tokenizers.trainers import BpeTrainer, UnigramTrainer\n",
        "from tokenizers.models import BPE, Unigram\n",
        "\n",
        "from collections import Counter\n",
        "import numpy as np\n",
        "from sklearn.model_selection import train_test_split"
      ]
    },
    {
      "cell_type": "code",
      "source": [
        "pip install hazm"
      ],
      "metadata": {
        "colab": {
          "base_uri": "https://localhost:8080/",
          "height": 966
        },
        "collapsed": true,
        "id": "I0IXVwHHCCaD",
        "outputId": "7a0f033d-3daa-4786-82dd-39e4c3ce8099"
      },
      "id": "I0IXVwHHCCaD",
      "execution_count": null,
      "outputs": [
        {
          "output_type": "stream",
          "name": "stdout",
          "text": [
            "Collecting hazm\n",
            "  Downloading hazm-0.10.0-py3-none-any.whl.metadata (11 kB)\n",
            "Collecting fasttext-wheel<0.10.0,>=0.9.2 (from hazm)\n",
            "  Downloading fasttext_wheel-0.9.2-cp310-cp310-manylinux_2_17_x86_64.manylinux2014_x86_64.whl.metadata (16 kB)\n",
            "Collecting flashtext<3.0,>=2.7 (from hazm)\n",
            "  Downloading flashtext-2.7.tar.gz (14 kB)\n",
            "  Preparing metadata (setup.py) ... \u001b[?25l\u001b[?25hdone\n",
            "Requirement already satisfied: gensim<5.0.0,>=4.3.1 in /usr/local/lib/python3.10/dist-packages (from hazm) (4.3.3)\n",
            "Requirement already satisfied: nltk<4.0.0,>=3.8.1 in /usr/local/lib/python3.10/dist-packages (from hazm) (3.9.1)\n",
            "Collecting numpy==1.24.3 (from hazm)\n",
            "  Downloading numpy-1.24.3-cp310-cp310-manylinux_2_17_x86_64.manylinux2014_x86_64.whl.metadata (5.6 kB)\n",
            "Collecting python-crfsuite<0.10.0,>=0.9.9 (from hazm)\n",
            "  Downloading python_crfsuite-0.9.11-cp310-cp310-manylinux_2_17_x86_64.manylinux2014_x86_64.whl.metadata (4.3 kB)\n",
            "Requirement already satisfied: scikit-learn<2.0.0,>=1.2.2 in /usr/local/lib/python3.10/dist-packages (from hazm) (1.5.2)\n",
            "Collecting pybind11>=2.2 (from fasttext-wheel<0.10.0,>=0.9.2->hazm)\n",
            "  Downloading pybind11-2.13.6-py3-none-any.whl.metadata (9.5 kB)\n",
            "Requirement already satisfied: setuptools>=0.7.0 in /usr/local/lib/python3.10/dist-packages (from fasttext-wheel<0.10.0,>=0.9.2->hazm) (75.1.0)\n",
            "Requirement already satisfied: scipy<1.14.0,>=1.7.0 in /usr/local/lib/python3.10/dist-packages (from gensim<5.0.0,>=4.3.1->hazm) (1.13.1)\n",
            "Requirement already satisfied: smart-open>=1.8.1 in /usr/local/lib/python3.10/dist-packages (from gensim<5.0.0,>=4.3.1->hazm) (7.0.5)\n",
            "Requirement already satisfied: click in /usr/local/lib/python3.10/dist-packages (from nltk<4.0.0,>=3.8.1->hazm) (8.1.7)\n",
            "Requirement already satisfied: joblib in /usr/local/lib/python3.10/dist-packages (from nltk<4.0.0,>=3.8.1->hazm) (1.4.2)\n",
            "Requirement already satisfied: regex>=2021.8.3 in /usr/local/lib/python3.10/dist-packages (from nltk<4.0.0,>=3.8.1->hazm) (2024.9.11)\n",
            "Requirement already satisfied: tqdm in /usr/local/lib/python3.10/dist-packages (from nltk<4.0.0,>=3.8.1->hazm) (4.66.6)\n",
            "Requirement already satisfied: threadpoolctl>=3.1.0 in /usr/local/lib/python3.10/dist-packages (from scikit-learn<2.0.0,>=1.2.2->hazm) (3.5.0)\n",
            "Requirement already satisfied: wrapt in /usr/local/lib/python3.10/dist-packages (from smart-open>=1.8.1->gensim<5.0.0,>=4.3.1->hazm) (1.16.0)\n",
            "Downloading hazm-0.10.0-py3-none-any.whl (892 kB)\n",
            "\u001b[2K   \u001b[90m━━━━━━━━━━━━━━━━━━━━━━━━━━━━━━━━━━━━━━━━\u001b[0m \u001b[32m892.6/892.6 kB\u001b[0m \u001b[31m16.0 MB/s\u001b[0m eta \u001b[36m0:00:00\u001b[0m\n",
            "\u001b[?25hDownloading numpy-1.24.3-cp310-cp310-manylinux_2_17_x86_64.manylinux2014_x86_64.whl (17.3 MB)\n",
            "\u001b[2K   \u001b[90m━━━━━━━━━━━━━━━━━━━━━━━━━━━━━━━━━━━━━━━━\u001b[0m \u001b[32m17.3/17.3 MB\u001b[0m \u001b[31m29.8 MB/s\u001b[0m eta \u001b[36m0:00:00\u001b[0m\n",
            "\u001b[?25hDownloading fasttext_wheel-0.9.2-cp310-cp310-manylinux_2_17_x86_64.manylinux2014_x86_64.whl (4.4 MB)\n",
            "\u001b[2K   \u001b[90m━━━━━━━━━━━━━━━━━━━━━━━━━━━━━━━━━━━━━━━━\u001b[0m \u001b[32m4.4/4.4 MB\u001b[0m \u001b[31m33.3 MB/s\u001b[0m eta \u001b[36m0:00:00\u001b[0m\n",
            "\u001b[?25hDownloading python_crfsuite-0.9.11-cp310-cp310-manylinux_2_17_x86_64.manylinux2014_x86_64.whl (1.2 MB)\n",
            "\u001b[2K   \u001b[90m━━━━━━━━━━━━━━━━━━━━━━━━━━━━━━━━━━━━━━━━\u001b[0m \u001b[32m1.2/1.2 MB\u001b[0m \u001b[31m43.6 MB/s\u001b[0m eta \u001b[36m0:00:00\u001b[0m\n",
            "\u001b[?25hDownloading pybind11-2.13.6-py3-none-any.whl (243 kB)\n",
            "\u001b[2K   \u001b[90m━━━━━━━━━━━━━━━━━━━━━━━━━━━━━━━━━━━━━━━━\u001b[0m \u001b[32m243.3/243.3 kB\u001b[0m \u001b[31m17.9 MB/s\u001b[0m eta \u001b[36m0:00:00\u001b[0m\n",
            "\u001b[?25hBuilding wheels for collected packages: flashtext\n",
            "  Building wheel for flashtext (setup.py) ... \u001b[?25l\u001b[?25hdone\n",
            "  Created wheel for flashtext: filename=flashtext-2.7-py2.py3-none-any.whl size=9298 sha256=212c0ac40c059c16b3d722fd006253c8671064aa2e4ce75027ba6aa7384b6da9\n",
            "  Stored in directory: /root/.cache/pip/wheels/bc/be/39/c37ad168eb2ff644c9685f52554440372129450f0b8ed203dd\n",
            "Successfully built flashtext\n",
            "Installing collected packages: flashtext, python-crfsuite, pybind11, numpy, fasttext-wheel, hazm\n",
            "  Attempting uninstall: numpy\n",
            "    Found existing installation: numpy 1.26.4\n",
            "    Uninstalling numpy-1.26.4:\n",
            "      Successfully uninstalled numpy-1.26.4\n",
            "\u001b[31mERROR: pip's dependency resolver does not currently take into account all the packages that are installed. This behaviour is the source of the following dependency conflicts.\n",
            "albucore 0.0.19 requires numpy>=1.24.4, but you have numpy 1.24.3 which is incompatible.\n",
            "albumentations 1.4.20 requires numpy>=1.24.4, but you have numpy 1.24.3 which is incompatible.\u001b[0m\u001b[31m\n",
            "\u001b[0mSuccessfully installed fasttext-wheel-0.9.2 flashtext-2.7 hazm-0.10.0 numpy-1.24.3 pybind11-2.13.6 python-crfsuite-0.9.11\n"
          ]
        },
        {
          "output_type": "display_data",
          "data": {
            "application/vnd.colab-display-data+json": {
              "pip_warning": {
                "packages": [
                  "numpy"
                ]
              },
              "id": "be5ff007f6014b4a8af78adb3121a0ae"
            }
          },
          "metadata": {}
        }
      ]
    },
    {
      "cell_type": "code",
      "source": [
        "import tokenizers"
      ],
      "metadata": {
        "id": "5xlKLeWpQ4sk"
      },
      "id": "5xlKLeWpQ4sk",
      "execution_count": null,
      "outputs": []
    },
    {
      "cell_type": "markdown",
      "id": "c3aa5b7d",
      "metadata": {
        "id": "c3aa5b7d"
      },
      "source": [
        "# Deliverable 3"
      ]
    },
    {
      "cell_type": "markdown",
      "source": [
        "# Part A.1"
      ],
      "metadata": {
        "id": "GL9oFvxYT-J3"
      },
      "id": "GL9oFvxYT-J3"
    },
    {
      "cell_type": "markdown",
      "source": [
        "## Persian"
      ],
      "metadata": {
        "id": "oxHf4l0gQdU3"
      },
      "id": "oxHf4l0gQdU3"
    },
    {
      "cell_type": "code",
      "execution_count": null,
      "id": "cfe0bdf79b946599",
      "metadata": {
        "ExecuteTime": {
          "end_time": "2024-11-05T11:48:05.529159Z",
          "start_time": "2024-11-05T11:48:05.526694Z"
        },
        "id": "cfe0bdf79b946599"
      },
      "outputs": [],
      "source": [
        "normaliser = Sequence([StripAccents(), Lowercase()])"
      ]
    },
    {
      "cell_type": "markdown",
      "id": "60b1f9a6224dbeb4",
      "metadata": {
        "id": "60b1f9a6224dbeb4"
      },
      "source": [
        "Persian has multi word expressions, so we do not apply a Whitespace pre-tokeniser (for capture word-level morphology)."
      ]
    },
    {
      "cell_type": "code",
      "execution_count": null,
      "id": "f45f852bf94302c9",
      "metadata": {
        "ExecuteTime": {
          "end_time": "2024-11-05T11:48:08.811477Z",
          "start_time": "2024-11-05T11:48:08.807555Z"
        },
        "id": "f45f852bf94302c9"
      },
      "outputs": [],
      "source": [
        "# pre_tokeniser = Whitespace()"
      ]
    },
    {
      "cell_type": "markdown",
      "id": "b70853458809286e",
      "metadata": {
        "id": "b70853458809286e"
      },
      "source": [
        "Initialising the BPE tokenizer."
      ]
    },
    {
      "cell_type": "code",
      "execution_count": null,
      "id": "f6df66e228d21090",
      "metadata": {
        "ExecuteTime": {
          "end_time": "2024-11-05T11:48:10.237730Z",
          "start_time": "2024-11-05T11:48:10.235690Z"
        },
        "id": "f6df66e228d21090"
      },
      "outputs": [],
      "source": [
        "persian_tokenizer = Tokenizer(BPE())\n",
        "persian_tokenizer.normalizer = normaliser\n",
        "# persian_tokenizer.pre_tokenizer = pre_tokeniser"
      ]
    },
    {
      "cell_type": "markdown",
      "id": "f4910067dde1f14c",
      "metadata": {
        "id": "f4910067dde1f14c"
      },
      "source": [
        "Keeping the default settings for the BpeTrainer and adding the recommended special tokens."
      ]
    },
    {
      "cell_type": "code",
      "execution_count": null,
      "id": "fa2cf383a654b58",
      "metadata": {
        "ExecuteTime": {
          "end_time": "2024-11-05T11:48:21.269725Z",
          "start_time": "2024-11-05T11:48:21.267395Z"
        },
        "id": "fa2cf383a654b58"
      },
      "outputs": [],
      "source": [
        "trainer = BpeTrainer(special_tokens=[\"[UNK]\", \"[CLS]\", \"[SEP]\", \"[PAD]\", \"[MASK]\"], vocab_size=30000)"
      ]
    },
    {
      "cell_type": "markdown",
      "id": "d7d1d6c10dd911ed",
      "metadata": {
        "id": "d7d1d6c10dd911ed"
      },
      "source": [
        "Adding the path to the corpus as a string and training the tokenizer on it."
      ]
    },
    {
      "cell_type": "code",
      "source": [
        "!wget https://downloads.wortschatz-leipzig.de/corpora/fas_news_2020_100K.tar.gz\n",
        "!tar --gunzip --extract --verbose --file=fas_news_2020_100K.tar.gz\n",
        "persian_text_path = \"/content/fas_news_2020_100K/fas_news_2020_100K-sentences.txt\""
      ],
      "metadata": {
        "colab": {
          "base_uri": "https://localhost:8080/"
        },
        "collapsed": true,
        "id": "aE3fQ2So-IS_",
        "outputId": "e9cc8d8b-1f7d-4042-f360-bdbcf2d21952"
      },
      "id": "aE3fQ2So-IS_",
      "execution_count": null,
      "outputs": [
        {
          "output_type": "stream",
          "name": "stdout",
          "text": [
            "--2024-11-20 13:52:46--  https://downloads.wortschatz-leipzig.de/corpora/fas_news_2020_100K.tar.gz\n",
            "Resolving downloads.wortschatz-leipzig.de (downloads.wortschatz-leipzig.de)... 139.18.2.68\n",
            "Connecting to downloads.wortschatz-leipzig.de (downloads.wortschatz-leipzig.de)|139.18.2.68|:443... connected.\n",
            "HTTP request sent, awaiting response... 200 OK\n",
            "Length: 31227186 (30M) [application/x-gzip]\n",
            "Saving to: ‘fas_news_2020_100K.tar.gz’\n",
            "\n",
            "fas_news_2020_100K. 100%[===================>]  29.78M  16.0MB/s    in 1.9s    \n",
            "\n",
            "2024-11-20 13:52:48 (16.0 MB/s) - ‘fas_news_2020_100K.tar.gz’ saved [31227186/31227186]\n",
            "\n",
            "fas_news_2020_100K/\n",
            "fas_news_2020_100K/fas_news_2020_100K-inv_w.txt\n",
            "fas_news_2020_100K/fas_news_2020_100K-sources.txt\n",
            "fas_news_2020_100K/fas_news_2020_100K-co_n.txt\n",
            "fas_news_2020_100K/fas_news_2020_100K-import.sql\n",
            "fas_news_2020_100K/fas_news_2020_100K-sentences.txt\n",
            "fas_news_2020_100K/fas_news_2020_100K-co_s.txt\n",
            "fas_news_2020_100K/fas_news_2020_100K-words.txt\n",
            "fas_news_2020_100K/fas_news_2020_100K-inv_so.txt\n"
          ]
        }
      ]
    },
    {
      "cell_type": "code",
      "execution_count": null,
      "id": "d7621aae5b7d23e0",
      "metadata": {
        "ExecuteTime": {
          "end_time": "2024-11-05T11:56:55.345027Z",
          "start_time": "2024-11-05T11:56:55.191420Z"
        },
        "id": "d7621aae5b7d23e0"
      },
      "outputs": [],
      "source": [
        "with open(persian_text_path, \"r\") as f:\n",
        "    train_corpus, test_corpus = train_test_split(f.readlines(), test_size=0.2)"
      ]
    },
    {
      "cell_type": "code",
      "execution_count": null,
      "id": "60ff05d0",
      "metadata": {
        "id": "60ff05d0"
      },
      "outputs": [],
      "source": [
        "persian_tokenizer.train_from_iterator(train_corpus, trainer=trainer)"
      ]
    },
    {
      "cell_type": "markdown",
      "source": [
        "Some sentences from the dataset"
      ],
      "metadata": {
        "id": "sOYu68Vg-xZw"
      },
      "id": "sOYu68Vg-xZw"
    },
    {
      "cell_type": "code",
      "source": [
        "print(\"3\", persian_tokenizer.encode(\"۰۱ درصد سهم سبد سوخت کشور کرده است که با توجه به تولید فعلی سالانه ۱۷ میلیون تن LPG و شرایط تحریم و عدم صادرات کامل تولید مازاد بر مصرف، چارهای جز مصرف LPG در خودرو و مصرف در پتروشیمیهای PDH نیست.\").tokens)\n",
        "print(\"4\", persian_tokenizer.encode(\"پرس غذا برگزار خواهد گردید که با توجه به شرایط کرونایی کشور همه این غذاها در سطح شهر و مناطق محروم توزیع خواهد گردید.\").tokens)\n",
        "print(\"5\", persian_tokenizer.encode(\"۰۱) مجاز بوده و بخشنامه جدید جایگزین بخشنامه های متناظر قبلی کارمزدهای خدمات بانکی ریالی و الکترونیکی می شود.\").tokens)"
      ],
      "metadata": {
        "colab": {
          "base_uri": "https://localhost:8080/"
        },
        "id": "BrVkDthn-sAg",
        "outputId": "463eba97-17ab-48c1-f4cf-43dbabf670ef"
      },
      "id": "BrVkDthn-sAg",
      "execution_count": null,
      "outputs": [
        {
          "output_type": "stream",
          "name": "stdout",
          "text": [
            "3 ['۰', '۱ درصد ', 'سهم ', 'سبد ', 'سوخت ', 'کشور ', 'کرده است که ', 'با توجه به ', 'تولید ', 'فعلی ', 'سالانه ', '۱۷ ', 'میلیون تن ', 'l', 'p', 'g', ' و ', 'شرایط ', 'تحریم و ', 'عدم ', 'صادرات ', 'کامل ', 'تولید ', 'مازاد ', 'بر ', 'مصرف', '، ', 'چارهای جز ', 'مصرف ', 'l', 'p', 'g ', 'در ', 'خودرو و ', 'مصرف ', 'در ', 'پتروشی', 'میهای ', 'p', 'd', 'h ', 'نیست', '.']\n",
            "4 ['پرس ', 'غذا ', 'برگزار ', 'خواهد ', 'گر', 'دید که ', 'با توجه به شرایط ', 'کرونایی ', 'کشور ', 'همه این ', 'غذ', 'اها در ', 'سطح ', 'شهر و ', 'مناطق محروم ', 'توزیع ', 'خواهد ', 'گر', 'دید', '.']\n",
            "5 ['۰', '۱) ', 'مجاز ', 'بوده و ', 'بخشنامه ', 'جدید ', 'جایگزین ', 'بخشنامه ', 'های ', 'مت', 'ناظر ', 'قبلی ', 'کار', 'مز', 'دهای ', 'خدمات ', 'بانکی ', 'ری', 'الی و ', 'الکترونیکی ', 'می شو', 'د', '.']\n"
          ]
        }
      ]
    },
    {
      "cell_type": "markdown",
      "source": [
        "Some other sentences"
      ],
      "metadata": {
        "id": "cI_DDzv2-1oh"
      },
      "id": "cI_DDzv2-1oh"
    },
    {
      "cell_type": "code",
      "execution_count": null,
      "id": "6da7ff42",
      "metadata": {
        "colab": {
          "base_uri": "https://localhost:8080/"
        },
        "id": "6da7ff42",
        "outputId": "edf3e9a9-1117-4a86-d001-7a3f563e12d2"
      },
      "outputs": [
        {
          "output_type": "stream",
          "name": "stdout",
          "text": [
            "1 ['خیلی ', 'دوست', 'ت ', 'دار', 'م', '.']\n",
            "2 ['من از ', 'خواندن ', 'کتابهای ', 'شعر ', 'لذت ', 'میبر', 'م', '.']\n",
            "3 ['این ', 'متن ', 'خیلی ', 'خوان', 'است', '.']\n",
            "4 ['او ', 'خیلی ', 'بی', 'اد', 'بانه ', 'صحبت ', 'کرد', '.']\n",
            "5 ['هر روز ', 'به ', 'دانشگاه ', 'میرو', 'م', '.']\n",
            "6 ['آیا ', 'می', 'روی ', 'بازار', '؟']\n",
            "7 ['او ', 'همیشه ', 'زود ', 'میرو', 'د', '.']\n",
            "8 ['فردا ', 'این نامه ', 'را ', 'خواهم ', 'نوشت', '.']\n",
            "9 ['در آن ', 'روستا ', 'خان', 'کهای ', 'زیبایی ', 'وجود ', 'دارد', '.']\n",
            "10 ['باغ', 'بان ', 'در حال ', 'آب', 'آوردن ', 'به ', 'باغ ', 'است', '.']\n"
          ]
        }
      ],
      "source": [
        "print(\"1\", persian_tokenizer.encode(\"خیلی دوستت دارم.\").tokens)\n",
        "print(\"2\", persian_tokenizer.encode(\"من از خواندن کتاب‌های شعر لذت می‌برم.\").tokens)\n",
        "print(\"3\", persian_tokenizer.encode(\"این متن خیلی خواناست.\").tokens)\n",
        "print(\"4\", persian_tokenizer.encode(\"او خیلی بی‌ادبانه صحبت کرد.\").tokens)\n",
        "print(\"5\", persian_tokenizer.encode(\"هر روز به دانشگاه می‌روم.\").tokens)\n",
        "print(\"6\", persian_tokenizer.encode(\"آیا می‌روی بازار؟\").tokens)\n",
        "print(\"7\", persian_tokenizer.encode(\"او همیشه زود می‌رود.\").tokens)\n",
        "print(\"8\", persian_tokenizer.encode(\"فردا این نامه را خواهم نوشت.\").tokens)\n",
        "print(\"9\", persian_tokenizer.encode(\"در آن روستا خانک‌های زیبایی وجود دارد.\").tokens)\n",
        "print(\"10\", persian_tokenizer.encode(\"باغبان در حال آب‌آوردن به باغ است.\").tokens)"
      ]
    },
    {
      "cell_type": "markdown",
      "source": [
        "## Spanish"
      ],
      "metadata": {
        "id": "zdcBY3FkQsnj"
      },
      "id": "zdcBY3FkQsnj"
    },
    {
      "cell_type": "code",
      "execution_count": null,
      "metadata": {
        "id": "881b5c59-ced2-44bc-bf49-7c83440bd44f"
      },
      "outputs": [],
      "source": [
        "regex_clean = r\"[^0-9a-zA-Z\\sáéíóúüñ]\"\n",
        "remove_unwanted_letters = tokenizers.normalizers.Replace(regex_clean,\"\")\n",
        "# Remove the Language sign. As this seems to be also collected from wikipedia\n",
        "# remove_language_sign = tokenizers.normalizers.Replace(\"채\",\"\")"
      ],
      "id": "881b5c59-ced2-44bc-bf49-7c83440bd44f"
    },
    {
      "cell_type": "code",
      "execution_count": null,
      "metadata": {
        "ExecuteTime": {
          "end_time": "2024-11-05T11:48:05.529159Z",
          "start_time": "2024-11-05T11:48:05.526694Z"
        },
        "id": "ALBYTrt4Qaw3"
      },
      "outputs": [],
      "source": [
        "normaliser = Sequence([StripAccents(), Lowercase(),remove_unwanted_letters])"
      ],
      "id": "ALBYTrt4Qaw3"
    },
    {
      "cell_type": "code",
      "execution_count": null,
      "metadata": {
        "ExecuteTime": {
          "end_time": "2024-11-05T11:48:08.811477Z",
          "start_time": "2024-11-05T11:48:08.807555Z"
        },
        "id": "sVZZchjaQaw4"
      },
      "outputs": [],
      "source": [
        "pre_tokeniser = Whitespace()"
      ],
      "id": "sVZZchjaQaw4"
    },
    {
      "cell_type": "code",
      "execution_count": null,
      "metadata": {
        "ExecuteTime": {
          "end_time": "2024-11-05T11:48:10.237730Z",
          "start_time": "2024-11-05T11:48:10.235690Z"
        },
        "id": "JO8XpZPWQaw4"
      },
      "outputs": [],
      "source": [
        "spanish_tokenizer = Tokenizer(BPE())\n",
        "spanish_tokenizer.normalizer = normaliser\n",
        "spanish_tokenizer.pre_tokenizer = pre_tokeniser"
      ],
      "id": "JO8XpZPWQaw4"
    },
    {
      "cell_type": "code",
      "execution_count": null,
      "metadata": {
        "ExecuteTime": {
          "end_time": "2024-11-05T11:48:21.269725Z",
          "start_time": "2024-11-05T11:48:21.267395Z"
        },
        "id": "EsquOG8aQaw4"
      },
      "outputs": [],
      "source": [
        "trainer = BpeTrainer(special_tokens=[\"[UNK]\", \"[CLS]\", \"[SEP]\", \"[PAD]\", \"[MASK]\"], vocab_size=30000)"
      ],
      "id": "EsquOG8aQaw4"
    },
    {
      "cell_type": "code",
      "source": [
        "!wget https://downloads.wortschatz-leipzig.de/corpora/spa_wikipedia_2021_30K.tar.gz"
      ],
      "metadata": {
        "colab": {
          "base_uri": "https://localhost:8080/"
        },
        "collapsed": true,
        "id": "cWu5MUK4R5WB",
        "outputId": "e73d3d5f-233a-432c-d963-0540e05c68f2"
      },
      "id": "cWu5MUK4R5WB",
      "execution_count": null,
      "outputs": [
        {
          "output_type": "stream",
          "name": "stdout",
          "text": [
            "--2024-11-19 16:36:10--  https://downloads.wortschatz-leipzig.de/corpora/spa_wikipedia_2021_30K.tar.gz\n",
            "Resolving downloads.wortschatz-leipzig.de (downloads.wortschatz-leipzig.de)... 139.18.2.68\n",
            "Connecting to downloads.wortschatz-leipzig.de (downloads.wortschatz-leipzig.de)|139.18.2.68|:443... connected.\n",
            "HTTP request sent, awaiting response... 200 OK\n",
            "Length: 7349889 (7.0M) [application/x-gzip]\n",
            "Saving to: ‘spa_wikipedia_2021_30K.tar.gz’\n",
            "\n",
            "spa_wikipedia_2021_ 100%[===================>]   7.01M  6.16MB/s    in 1.1s    \n",
            "\n",
            "2024-11-19 16:36:12 (6.16 MB/s) - ‘spa_wikipedia_2021_30K.tar.gz’ saved [7349889/7349889]\n",
            "\n"
          ]
        }
      ]
    },
    {
      "cell_type": "code",
      "source": [
        "!tar --gunzip --extract --verbose --file=spa_wikipedia_2021_30K.tar.gz"
      ],
      "metadata": {
        "colab": {
          "base_uri": "https://localhost:8080/"
        },
        "collapsed": true,
        "id": "rZ-QR70qSCOt",
        "outputId": "17af8fec-2b44-46c3-e813-44acbe1fdd35"
      },
      "id": "rZ-QR70qSCOt",
      "execution_count": null,
      "outputs": [
        {
          "output_type": "stream",
          "name": "stdout",
          "text": [
            "spa_wikipedia_2021_30K/\n",
            "spa_wikipedia_2021_30K/spa_wikipedia_2021_30K-sentences.txt\n",
            "spa_wikipedia_2021_30K/spa_wikipedia_2021_30K-words.txt\n",
            "spa_wikipedia_2021_30K/spa_wikipedia_2021_30K-sources.txt\n",
            "spa_wikipedia_2021_30K/spa_wikipedia_2021_30K-inv_so.txt\n",
            "spa_wikipedia_2021_30K/spa_wikipedia_2021_30K-co_n.txt\n",
            "spa_wikipedia_2021_30K/spa_wikipedia_2021_30K-import.sql\n",
            "spa_wikipedia_2021_30K/spa_wikipedia_2021_30K-inv_w.txt\n",
            "spa_wikipedia_2021_30K/spa_wikipedia_2021_30K-co_s.txt\n"
          ]
        }
      ]
    },
    {
      "cell_type": "code",
      "execution_count": null,
      "metadata": {
        "id": "ff2754eb-9749-4f6d-bc9b-cac6154e894a"
      },
      "outputs": [],
      "source": [
        "def get_lines_without_number(file_name):\n",
        "    with open(file_name, \"r\") as f:\n",
        "        final_L = []\n",
        "        #Remove the line numbers bevor the tab\n",
        "        for lin in f.readlines():\n",
        "            split_lin = lin.split(\"\\t\")\n",
        "            final_L.append(split_lin[1])\n",
        "        return final_L\n",
        "spanish_text_path = \"/content/spa_wikipedia_2021_30K/spa_wikipedia_2021_30K-sentences.txt\"\n",
        "\n",
        "final_L = get_lines_without_number(spanish_text_path)\n",
        "train_corpus, test_corpus = train_test_split(final_L, test_size=0.2)"
      ],
      "id": "ff2754eb-9749-4f6d-bc9b-cac6154e894a"
    },
    {
      "cell_type": "code",
      "execution_count": null,
      "metadata": {
        "ExecuteTime": {
          "end_time": "2024-11-05T12:39:05.668458Z",
          "start_time": "2024-11-05T12:39:05.377173Z"
        },
        "id": "c70b3c5917d3be5a"
      },
      "outputs": [],
      "source": [
        "spanish_tokenizer.train_from_iterator(train_corpus, trainer=trainer)"
      ],
      "id": "c70b3c5917d3be5a"
    },
    {
      "cell_type": "code",
      "source": [
        "print(\"1\", spanish_tokenizer.encode(\" Abanico con varillaje de nácar y oro, adornado con cuentas y caracoles.\").tokens)\n",
        "print(\"2\", spanish_tokenizer.encode(\"A Banks le llamó la atención la influencia que parecía tener Torava en toda aquella región.\").tokens)\n",
        "print(\"3\", spanish_tokenizer.encode(\"Abarca desde una pequeña fisura hasta la rotura total del hueso con desplazamiento de los dos extremos de la fractura del hueso.\").tokens)"
      ],
      "metadata": {
        "colab": {
          "base_uri": "https://localhost:8080/"
        },
        "id": "TWNMAb5ySnSz",
        "outputId": "e877538d-0138-4c1f-abd6-2446e193ef15"
      },
      "id": "TWNMAb5ySnSz",
      "execution_count": null,
      "outputs": [
        {
          "output_type": "stream",
          "name": "stdout",
          "text": [
            "1 ['abanico', 'con', 'varilla', 'je', 'de', 'ná', 'car', 'y', 'oro', ',', 'adornado', 'con', 'cuentas', 'y', 'cara', 'coles', '.']\n",
            "2 ['a', 'banks', 'le', 'llamó', 'la', 'atención', 'la', 'influencia', 'que', 'parecía', 'tener', 'tora', 'va', 'en', 'toda', 'aquella', 'región', '.']\n",
            "3 ['abarca', 'desde', 'una', 'pequeña', 'fi', 'sura', 'hasta', 'la', 'rotura', 'total', 'del', 'hueso', 'con', 'desplazamiento', 'de', 'los', 'dos', 'extremos', 'de', 'la', 'fractura', 'del', 'hueso', '.']\n"
          ]
        }
      ]
    },
    {
      "cell_type": "markdown",
      "source": [
        "## Part A.2"
      ],
      "metadata": {
        "id": "tGIGbLpxSzkI"
      },
      "id": "tGIGbLpxSzkI"
    },
    {
      "cell_type": "code",
      "execution_count": null,
      "id": "a205a32d392d01ff",
      "metadata": {
        "ExecuteTime": {
          "end_time": "2024-11-05T11:49:51.630188Z",
          "start_time": "2024-11-05T11:49:51.009407Z"
        },
        "id": "a205a32d392d01ff"
      },
      "outputs": [],
      "source": [
        "train_word_counts = Counter()\n",
        "for sentence in train_corpus:\n",
        "    words = sentence.split()\n",
        "    train_word_counts.update(words)"
      ]
    },
    {
      "cell_type": "code",
      "execution_count": null,
      "id": "4b52605226178674",
      "metadata": {
        "ExecuteTime": {
          "end_time": "2024-11-05T11:49:52.294774Z",
          "start_time": "2024-11-05T11:49:52.292491Z"
        },
        "id": "4b52605226178674"
      },
      "outputs": [],
      "source": [
        "def classify_word_frequency(word, frequency_threshold=2):\n",
        "    if word not in train_word_counts:\n",
        "        return \"unseen\"\n",
        "    elif train_word_counts[word] >= frequency_threshold:\n",
        "        return \"frequent\"\n",
        "    else:\n",
        "        return \"infrequent\""
      ]
    },
    {
      "cell_type": "code",
      "execution_count": null,
      "id": "66fcac928cdeb93e",
      "metadata": {
        "ExecuteTime": {
          "end_time": "2024-11-05T11:49:55.017818Z",
          "start_time": "2024-11-05T11:49:54.732471Z"
        },
        "id": "66fcac928cdeb93e"
      },
      "outputs": [],
      "source": [
        "test_word_classes = {}\n",
        "for sentence in test_corpus:\n",
        "    words = sentence.split()\n",
        "    for word in words:\n",
        "        test_word_classes[word] = classify_word_frequency(word)"
      ]
    },
    {
      "cell_type": "code",
      "execution_count": null,
      "id": "e12204007c92c250",
      "metadata": {
        "ExecuteTime": {
          "end_time": "2024-11-05T11:49:56.885293Z",
          "start_time": "2024-11-05T11:49:56.880835Z"
        },
        "id": "e12204007c92c250"
      },
      "outputs": [],
      "source": [
        "def analyze_word_classes(tokenizer, word_classes):\n",
        "    frequent_token_lengths = []\n",
        "    infrequent_token_lengths = []\n",
        "    unseen_token_lengths = []\n",
        "\n",
        "    for word, word_class in word_classes.items():\n",
        "        encoding = tokenizer.encode(word)\n",
        "        tokens = encoding.tokens\n",
        "\n",
        "        if word_class == \"frequent\":\n",
        "            frequent_token_lengths.append(len(tokens))\n",
        "        elif word_class == \"infrequent\":\n",
        "            infrequent_token_lengths.append(len(tokens))\n",
        "        elif word_class == \"unseen\":\n",
        "            unseen_token_lengths.append(len(tokens))\n",
        "\n",
        "    return {\n",
        "        \"frequent_avg_tokens\": np.mean(frequent_token_lengths) if frequent_token_lengths else 0,\n",
        "        \"infrequent_avg_tokens\": np.mean(infrequent_token_lengths) if infrequent_token_lengths else 0,\n",
        "        \"unseen_avg_tokens\": np.mean(unseen_token_lengths) if unseen_token_lengths else 0\n",
        "    }"
      ]
    },
    {
      "cell_type": "markdown",
      "source": [
        "## Persian"
      ],
      "metadata": {
        "id": "yaqIPm7fTIZ6"
      },
      "id": "yaqIPm7fTIZ6"
    },
    {
      "cell_type": "code",
      "execution_count": null,
      "id": "6148859d39da34dd",
      "metadata": {
        "ExecuteTime": {
          "end_time": "2024-11-05T11:49:58.057961Z",
          "start_time": "2024-11-05T11:49:57.652141Z"
        },
        "colab": {
          "base_uri": "https://localhost:8080/"
        },
        "id": "6148859d39da34dd",
        "outputId": "e678d3ae-ca5e-4335-d7b0-9fafaccad6e1"
      },
      "outputs": [
        {
          "output_type": "execute_result",
          "data": {
            "text/plain": [
              "{'frequent_avg_tokens': 2.2555667793930345,\n",
              " 'infrequent_avg_tokens': 2.724944320712695,\n",
              " 'unseen_avg_tokens': 2.6368905448871054}"
            ]
          },
          "metadata": {},
          "execution_count": 17
        }
      ],
      "source": [
        "persian_word_class_analysis = analyze_word_classes(persian_tokenizer, test_word_classes)\n",
        "persian_word_class_analysis"
      ]
    },
    {
      "cell_type": "code",
      "execution_count": null,
      "id": "5f966dc1b8a58eb7",
      "metadata": {
        "ExecuteTime": {
          "end_time": "2024-11-05T11:50:07.634279Z",
          "start_time": "2024-11-05T11:50:00.238524Z"
        },
        "id": "5f966dc1b8a58eb7"
      },
      "outputs": [],
      "source": [
        "def analyze_tokenizer(tokenizer, corpus):\n",
        "    token_lengths = []\n",
        "    tokens_per_word = []\n",
        "    token_frequencies = Counter()\n",
        "    sentences = 0\n",
        "\n",
        "    for sentence in corpus:\n",
        "        encoding = tokenizer.encode(sentence)\n",
        "        tokens = encoding.tokens\n",
        "        token_lengths.extend([len(token) for token in tokens])\n",
        "        tokens_per_word.append(len(tokens) / len(sentence.split()))\n",
        "        token_frequencies.update(tokens)\n",
        "        sentences = sentences + 1\n",
        "\n",
        "    avg_token_length = np.mean(token_lengths)\n",
        "    avg_tokens_per_word = np.mean(tokens_per_word)\n",
        "\n",
        "    return avg_token_length, avg_tokens_per_word, token_frequencies\n",
        "\n",
        "with open(persian_text_path) as corpus:\n",
        "    persian_stats_corpus = analyze_tokenizer(persian_tokenizer, corpus)"
      ]
    },
    {
      "cell_type": "markdown",
      "source": [
        "## Spanish"
      ],
      "metadata": {
        "id": "WZIusNoLTDLh"
      },
      "id": "WZIusNoLTDLh"
    },
    {
      "cell_type": "code",
      "execution_count": null,
      "metadata": {
        "ExecuteTime": {
          "end_time": "2024-11-05T11:49:58.057961Z",
          "start_time": "2024-11-05T11:49:57.652141Z"
        },
        "colab": {
          "base_uri": "https://localhost:8080/"
        },
        "id": "mtkcyHJLS_HU",
        "outputId": "ff2118c4-0db3-4b5a-9f9a-1291a4e8dddd"
      },
      "outputs": [
        {
          "output_type": "execute_result",
          "data": {
            "text/plain": [
              "{'frequent_avg_tokens': 0.1021420419629532,\n",
              " 'infrequent_avg_tokens': 0.241402263146217,\n",
              " 'unseen_avg_tokens': 1.7701713048462078}"
            ]
          },
          "metadata": {},
          "execution_count": 67
        }
      ],
      "source": [
        "spanish_word_class_analysis = analyze_word_classes(spanish_tokenizer, test_word_classes)\n",
        "spanish_word_class_analysis"
      ],
      "id": "mtkcyHJLS_HU"
    },
    {
      "cell_type": "code",
      "source": [
        "spanish_stats_corpus = analyze_tokenizer(spanish_tokenizer, get_lines_without_number(spanish_text_path))"
      ],
      "metadata": {
        "id": "gtx-w2NlTfYo"
      },
      "id": "gtx-w2NlTfYo",
      "execution_count": null,
      "outputs": []
    },
    {
      "cell_type": "markdown",
      "source": [
        "## Part B"
      ],
      "metadata": {
        "id": "ngBni8h3T1Hy"
      },
      "id": "ngBni8h3T1Hy"
    },
    {
      "cell_type": "markdown",
      "source": [
        "## Persian B1-1"
      ],
      "metadata": {
        "id": "Lbp0ylS2ULpm"
      },
      "id": "Lbp0ylS2ULpm"
    },
    {
      "cell_type": "markdown",
      "id": "b9a50265",
      "metadata": {
        "id": "b9a50265"
      },
      "source": [
        "### Collecting statistics of key concepts:\n",
        "- Mean of tokens length\n",
        "- Mean of tokens per word"
      ]
    },
    {
      "cell_type": "code",
      "execution_count": null,
      "id": "e6401e97",
      "metadata": {
        "colab": {
          "base_uri": "https://localhost:8080/"
        },
        "id": "e6401e97",
        "outputId": "e874e268-adda-4e5f-9961-ec4fc284a784"
      },
      "outputs": [
        {
          "output_type": "stream",
          "name": "stdout",
          "text": [
            "Mean Token Length: 5.76\n",
            "Mean Tokens per Word: 0.94\n"
          ]
        }
      ],
      "source": [
        "def print_tokenization_stats(stats):\n",
        "    print(f\"Mean Token Length: {stats[0]:.2f}\")\n",
        "    print(f\"Mean Tokens per Word: {stats[1]:.2f}\")\n",
        "\n",
        "print_tokenization_stats(persian_stats_corpus)"
      ]
    },
    {
      "cell_type": "markdown",
      "source": [
        "## Spanish B1-1"
      ],
      "metadata": {
        "id": "4OPj5e4IU3wS"
      },
      "id": "4OPj5e4IU3wS"
    },
    {
      "cell_type": "code",
      "source": [
        "def print_tokenization_stats(stats):\n",
        "    print(f\"Mean Token Length: {stats[0]:.2f}\")\n",
        "    print(f\"Mean Tokens per Word: {stats[1]:.2f}\")\n",
        "    print()\n",
        "\n",
        "print_tokenization_stats(spanish_stats_corpus)"
      ],
      "metadata": {
        "id": "1EZKttsqUcaI",
        "colab": {
          "base_uri": "https://localhost:8080/"
        },
        "outputId": "84808a6d-4776-4c39-92a0-4d137e287cd4"
      },
      "execution_count": null,
      "outputs": [
        {
          "output_type": "stream",
          "name": "stdout",
          "text": [
            "Mean Token Length: 4.10\n",
            "Mean Tokens per Word: 1.24\n",
            "\n"
          ]
        }
      ],
      "id": "1EZKttsqUcaI"
    },
    {
      "cell_type": "markdown",
      "source": [
        "#Persian B1-2"
      ],
      "metadata": {
        "id": "nY4UVUMFVc1F"
      },
      "id": "nY4UVUMFVc1F"
    },
    {
      "cell_type": "markdown",
      "source": [
        "- Number of total sentences\n",
        "- Number of total words\n",
        "- Unique words\n",
        "- Average words per sentence\n",
        "- Average characters per sentence"
      ],
      "metadata": {
        "id": "M6g5Z1cLAOVg"
      },
      "id": "M6g5Z1cLAOVg"
    },
    {
      "cell_type": "code",
      "execution_count": null,
      "id": "c7ab39e4",
      "metadata": {
        "colab": {
          "base_uri": "https://localhost:8080/"
        },
        "id": "c7ab39e4",
        "outputId": "e8bc4a62-94a6-42b5-a9de-870c6e3dccca"
      },
      "outputs": [
        {
          "output_type": "stream",
          "name": "stdout",
          "text": [
            "Total Sentences: 100000\n",
            "Total Words: 2484412 \n",
            "Unique words: 165300\n",
            "Average Words per Sentence: 24.84412 \n",
            "Average Chars per Sentence: 128.53517\n"
          ]
        }
      ],
      "source": [
        "# Only Count words\n",
        "total_counter = Counter()\n",
        "char_len = 0\n",
        "words_len = 0\n",
        "counter = 0\n",
        "for sentence in train_corpus:\n",
        "\n",
        "    words = sentence.split()\n",
        "    #print(len(words))\n",
        "    char_len += len(sentence)\n",
        "    words_len += len(words)\n",
        "    counter +=1\n",
        "    total_counter.update(words)\n",
        "\n",
        "for sentence in test_corpus:\n",
        "    words = sentence.split()\n",
        "    counter +=1\n",
        "    char_len += len(sentence)\n",
        "    words_len += len(words)\n",
        "    total_counter.update(words)\n",
        "\n",
        "avg_char = char_len/counter\n",
        "avg_words = words_len/counter\n",
        "print(\"Total Sentences:\",counter)\n",
        "print(\"Total Words:\", words_len,\"\\nUnique words:\",len(train_word_counts))\n",
        "print(\"Average Words per Sentence:\", avg_words,\"\\nAverage Chars per Sentence:\",avg_char)"
      ]
    },
    {
      "cell_type": "code",
      "execution_count": null,
      "metadata": {
        "id": "97200658-4ffe-49ea-990c-78bbe7d94e9c",
        "outputId": "1680f4cb-a15c-4a34-8abd-e036bb75a3be"
      },
      "outputs": [
        {
          "name": "stdout",
          "output_type": "stream",
          "text": [
            "Average word length in Char: 4.0437 \n"
          ]
        }
      ],
      "source": [
        "from src.helper import get_average_word_length\n",
        "from src.helper import get_lines_without_number\n",
        "from src.helper import clean_persian_text\n",
        "persian_text_path = \"fas_news_2020_100K/fas_news_2020_100K-sentences.txt\"\n",
        "text = get_lines_without_number(persian_text_path)\n",
        "whole_text = clean_persian_text(text)\n",
        "avg_word_length = get_average_word_length(whole_text)\n",
        "print(f\"Average word length in Char: {avg_word_length:0.4f} \")"
      ],
      "id": "97200658-4ffe-49ea-990c-78bbe7d94e9c"
    },
    {
      "cell_type": "markdown",
      "source": [
        "## Spanish B1-2"
      ],
      "metadata": {
        "id": "4LEj3ptJVhtU"
      },
      "id": "4LEj3ptJVhtU"
    },
    {
      "cell_type": "code",
      "source": [
        "total_counter = Counter()\n",
        "char_len = 0\n",
        "words_len = 0\n",
        "counter = 0\n",
        "for sentence in train_corpus:\n",
        "\n",
        "    words = sentence.split()\n",
        "    char_len += len(sentence)\n",
        "    words_len += len(words)\n",
        "    counter +=1\n",
        "    total_counter.update(words)\n",
        "for sentence in test_corpus:\n",
        "    words = sentence.split()\n",
        "    counter +=1\n",
        "    char_len += len(sentence)\n",
        "    words_len += len(words)\n",
        "    total_counter.update(words)\n",
        "\n",
        "avg_char = char_len/counter\n",
        "avg_words = words_len/counter\n",
        "print(\"Total sentences: \",counter)\n",
        "print(\"Total words: \", words_len,\"unique words: \",len(train_word_counts))\n",
        "print(\"Average words per Sentence: \", avg_words,\" Average chars per Sentence: \",avg_char)"
      ],
      "metadata": {
        "id": "i02ZSPiWUoA3",
        "colab": {
          "base_uri": "https://localhost:8080/"
        },
        "outputId": "d9a26a48-2b23-4908-bd83-72db288791e2"
      },
      "execution_count": null,
      "outputs": [
        {
          "output_type": "stream",
          "name": "stdout",
          "text": [
            "Total sentences:  30000\n",
            "Total words:  623694 unique words:  165295\n",
            "Average words per Sentence:  20.7898  Average chars per Sentence:  125.19466666666666\n"
          ]
        }
      ],
      "id": "i02ZSPiWUoA3"
    },
    {
      "cell_type": "code",
      "execution_count": null,
      "metadata": {
        "id": "6a3e3b5d-e917-4017-83d0-3558abf7eb29",
        "outputId": "4d6dddcf-a2e9-467b-f741-0c83db42d7ce"
      },
      "outputs": [
        {
          "name": "stdout",
          "output_type": "stream",
          "text": [
            "Average word length in Char: 4.9419 \n"
          ]
        }
      ],
      "source": [
        "from src.helper import clean_spanish_text\n",
        "## Load the Spanish text\n",
        "spanish_text_path = \"spa_wikipedia_2021_30K-sentences.txt\"\n",
        "final_L = get_lines_without_number(spanish_text_path)\n",
        "#Get the data as lines\n",
        "# Already cleaned from starting numbers\n",
        "whole_text = get_lines_without_number(spanish_text_path)\n",
        "#Use the cleaning regex\n",
        "whole_text = clean_spanish_text(whole_text)\n",
        "avg_word_length = get_average_word_length(whole_text)\n",
        "print(f\"Average word length in Char: {avg_word_length:0.4f} \")"
      ],
      "id": "6a3e3b5d-e917-4017-83d0-3558abf7eb29"
    },
    {
      "cell_type": "markdown",
      "source": [
        "## Persian B1-3"
      ],
      "metadata": {
        "id": "Iq9BtNblVvqB"
      },
      "id": "Iq9BtNblVvqB"
    },
    {
      "cell_type": "markdown",
      "source": [
        "- Total Number of Hapax Legomena"
      ],
      "metadata": {
        "id": "skJfceC3A_Mw"
      },
      "id": "skJfceC3A_Mw"
    },
    {
      "cell_type": "code",
      "execution_count": null,
      "id": "abe1ad6f",
      "metadata": {
        "colab": {
          "base_uri": "https://localhost:8080/"
        },
        "id": "abe1ad6f",
        "outputId": "e2cba4ac-f458-48dd-b726-88f28d98d467"
      },
      "outputs": [
        {
          "output_type": "stream",
          "name": "stdout",
          "text": [
            "Total Number of Hapax Legomena: 152\n"
          ]
        }
      ],
      "source": [
        "avg_token_length, avg_tokens_per_word, token_frequencies = persian_stats_corpus\n",
        "hapax_count = 0\n",
        "for token in token_frequencies:\n",
        "    if token_frequencies[token] == 1:\n",
        "        hapax_count +=1\n",
        "print(\"Total Number of Hapax Legomena:\",hapax_count)"
      ]
    },
    {
      "cell_type": "markdown",
      "source": [
        "## Spanish B1-3"
      ],
      "metadata": {
        "id": "9AM-6AnjV0HU"
      },
      "id": "9AM-6AnjV0HU"
    },
    {
      "cell_type": "code",
      "source": [
        "avg_token_length, avg_tokens_per_word, token_frequencies = spanish_stats_corpus\n",
        "hapax_count = 0\n",
        "for token in token_frequencies:\n",
        "    if token_frequencies[token] == 1:\n",
        "        hapax_count +=1\n",
        "print(\"Total Number of hapax legomena: \",hapax_count)"
      ],
      "metadata": {
        "colab": {
          "base_uri": "https://localhost:8080/"
        },
        "id": "kKNKgyGSVDlL",
        "outputId": "92488072-6261-42c0-8ac7-eaf53b465976"
      },
      "id": "kKNKgyGSVDlL",
      "execution_count": null,
      "outputs": [
        {
          "output_type": "stream",
          "name": "stdout",
          "text": [
            "Total Number of hapax legomena:  954\n"
          ]
        }
      ]
    },
    {
      "cell_type": "markdown",
      "source": [
        "## Persian B1-4"
      ],
      "metadata": {
        "id": "9kZYI_PKV43c"
      },
      "id": "9kZYI_PKV43c"
    },
    {
      "cell_type": "markdown",
      "source": [
        "- Most frequent bigrams, trigrams, quadgrams"
      ],
      "metadata": {
        "id": "zmNmBfe7CjIm"
      },
      "id": "zmNmBfe7CjIm"
    },
    {
      "cell_type": "code",
      "source": [
        "import re\n",
        "from hazm import word_tokenize\n",
        "from nltk import ngrams\n",
        "from collections import Counter\n",
        "\n",
        "stopwords = [\n",
        "    'به', 'از', 'را', 'و', 'برای', 'این', 'که', 'با', 'در', 'چون', 'اگر', 'ها', 'نه', 'اینکه', 'یا', 'هم', 'تا', 'که', 'آن', 'باید', 'شده', 'چرا', 'همچنین', 'کردن', 'شد'\n",
        "]\n",
        "\n",
        "def clean_persian_text(text):\n",
        "    cleaned_text = re.sub(r'[^ا-ی0-9\\s]+', '', text)\n",
        "    return cleaned_text\n",
        "\n",
        "text = open(persian_text_path, encoding='utf-8').read()\n",
        "cleaned_text = clean_persian_text(text)\n",
        "tokens = word_tokenize(cleaned_text)\n",
        "tokens_without_stopwords = [word for word in tokens if word not in stopwords]\n",
        "bigram_list = list(ngrams(tokens_without_stopwords, 2))\n",
        "bigram_counts = Counter(bigram_list)\n",
        "most_common_bigrams = bigram_counts.most_common(10)\n",
        "print(\"Most common bigrams:\")\n",
        "for bigram, count in most_common_bigrams:\n",
        "    print(f\"{bigram}: {count}\")\n",
        "\n",
        "\n",
        "trigram_list = list(ngrams(tokens_without_stopwords, 3))\n",
        "trigram_counts = Counter(trigram_list)\n",
        "most_common_trigrams = trigram_counts.most_common(10)\n",
        "print(\"\\nMost common trigrams:\")\n",
        "for trigram, count in most_common_trigrams:\n",
        "    print(f\"{trigram}: {count}\")\n",
        "\n",
        "\n",
        "quadgram_list = list(ngrams(tokens_without_stopwords, 4))\n",
        "quadgram_counts = Counter(quadgram_list)\n",
        "most_common_quadgrams = quadgram_counts.most_common(10)\n",
        "print(\"\\nMost common quadgrams:\")\n",
        "for quadgram, count in most_common_quadgrams:\n",
        "    print(f\"{quadgram}: {count}\")"
      ],
      "metadata": {
        "colab": {
          "base_uri": "https://localhost:8080/"
        },
        "id": "YFpUyLJTBxgS",
        "outputId": "df537315-d99a-42fc-ca66-51450ebe32b2"
      },
      "id": "YFpUyLJTBxgS",
      "execution_count": null,
      "outputs": [
        {
          "output_type": "stream",
          "name": "stdout",
          "text": [
            "Most common bigrams:\n",
            "('ادامه', 'داد'): 1623\n",
            "('همشهری', 'نلاین'): 1490\n",
            "('ویروس', 'کرونا'): 1456\n",
            "('گزارش', 'همشهری'): 1428\n",
            "('بر', 'اساس'): 1345\n",
            "('می', 'شود'): 1233\n",
            "('اعلام', 'کرد'): 1215\n",
            "('وی', 'افزود'): 1173\n",
            "('خبر', 'داد'): 1144\n",
            "('وجود', 'دارد'): 1027\n",
            "\n",
            "Most common trigrams:\n",
            "('گزارش', 'همشهری', 'نلاین'): 1408\n",
            "('همشهری', 'نلاین', 'نقل'): 983\n",
            "('وی', 'ادامه', 'داد'): 635\n",
            "('دانشگاه', 'علوم', 'پزشکی'): 488\n",
            "('مجلس', 'شورای', 'اسلامی'): 480\n",
            "('جمهوری', 'اسلامی', 'ایران'): 362\n",
            "('شیوع', 'ویروس', 'کرونا'): 336\n",
            "('میلیون', 'هزار', 'تومان'): 251\n",
            "('جان', 'خود', 'دست'): 227\n",
            "('خبر', 'داد', 'گفت'): 200\n",
            "\n",
            "Most common quadgrams:\n",
            "('گزارش', 'همشهری', 'نلاین', 'نقل'): 974\n",
            "('همشهری', 'نلاین', 'نقل', 'ایسنا'): 185\n",
            "('ریس', 'دانشگاه', 'علوم', 'پزشکی'): 147\n",
            "('همشهری', 'نلاین', 'نقل', 'ایرنا'): 126\n",
            "('همشهری', 'نلاین', 'نقل', 'فارس'): 110\n",
            "('جان', 'خود', 'دست', 'دادند'): 91\n",
            "('شورای', 'امنیت', 'سازمان', 'ملل'): 79\n",
            "('ستاد', 'ملی', 'مقابله', 'کرونا'): 77\n",
            "('سپاه', 'پاسداران', 'انقلاب', 'اسلامی'): 76\n",
            "('بهداشت', 'درمان', 'موزش', 'پزشکی'): 71\n"
          ]
        }
      ]
    },
    {
      "cell_type": "markdown",
      "source": [
        "## Spanish B1-4"
      ],
      "metadata": {
        "id": "QYfCuoWwWHdp"
      },
      "id": "QYfCuoWwWHdp"
    },
    {
      "cell_type": "code",
      "execution_count": null,
      "metadata": {
        "outputId": "d3ca82ab-8dfe-44c7-9310-46d46e8fc918",
        "colab": {
          "base_uri": "https://localhost:8080/"
        },
        "id": "M_lMkQ57WHsy"
      },
      "outputs": [
        {
          "output_type": "stream",
          "name": "stdout",
          "text": [
            "Most common bigrams:\n",
            "('de', 'la'): 6433\n",
            "('en', 'el'): 3501\n",
            "('en', 'la'): 3102\n",
            "('de', 'los'): 2538\n",
            "('a', 'la'): 1918\n",
            "('de', 'las'): 1570\n",
            "('que', 'se'): 1200\n",
            "('de', 'su'): 1166\n",
            "('a', 'los'): 939\n",
            "('con', 'el'): 932\n",
            "\n",
            "Most common trigrams:\n",
            "('uno', 'de', 'los'): 315\n",
            "('por', 'lo', 'que'): 223\n",
            "('de', 'la', 'ciudad'): 220\n",
            "('a', 'pesar', 'de'): 206\n",
            "('una', 'de', 'las'): 206\n",
            "('a', 'través', 'de'): 192\n",
            "('la', 'mayoría', 'de'): 168\n",
            "('a', 'partir', 'de'): 165\n",
            "('en', 'el', 'año'): 148\n",
            "('por', 'primera', 'vez'): 147\n",
            "\n",
            "Most common quadgrams:\n",
            "('a', 'lo', 'largo', 'de'): 112\n",
            "('por', 'primera', 'vez', 'en'): 83\n",
            "('la', 'mayoría', 'de', 'los'): 78\n",
            "('de', 'la', 'ciudad', 'de'): 56\n",
            "('científicamente', 'por', 'primera', 'vez'): 54\n",
            "('de', 'la', 'década', 'de'): 50\n",
            "('fue', 'descrito', 'científicamente', 'por'): 48\n",
            "('descrito', 'científicamente', 'por', 'primera'): 48\n",
            "('a', 'pesar', 'de', 'que'): 46\n",
            "('la', 'mayor', 'parte', 'de'): 45\n"
          ]
        }
      ],
      "source": [
        "import re\n",
        "from nltk import ngrams\n",
        "from collections import Counter\n",
        "\n",
        "whole_text = get_lines_without_number(spanish_text_path)\n",
        "\n",
        "\n",
        "temp = []\n",
        "for lin in whole_text:\n",
        "    temp.append(re.sub(regex_clean, '', lin))\n",
        "whole_text = temp\n",
        "\n",
        "\n",
        "whole_token_l = []\n",
        "for sent in whole_text:\n",
        "    whole_token_l += spanish_tokenizer.encode(sent).tokens\n",
        "\n",
        "\n",
        "bigram_list = list(ngrams(whole_token_l, 2))\n",
        "bigram_counts = Counter(bigram_list)\n",
        "most_common_bigrams = bigram_counts.most_common(10)\n",
        "print(\"Most common bigrams:\")\n",
        "for bigram, count in most_common_bigrams:\n",
        "    print(f\"{bigram}: {count}\")\n",
        "\n",
        "\n",
        "trigram_list = list(ngrams(whole_token_l, 3))\n",
        "trigram_counts = Counter(trigram_list)\n",
        "most_common_trigrams = trigram_counts.most_common(10)\n",
        "print(\"\\nMost common trigrams:\")\n",
        "for trigram, count in most_common_trigrams:\n",
        "    print(f\"{trigram}: {count}\")\n",
        "\n",
        "quadgram_list = list(ngrams(whole_token_l, 4))\n",
        "quadgram_counts = Counter(quadgram_list)\n",
        "most_common_quadgrams = quadgram_counts.most_common(10)\n",
        "print(\"\\nMost common quadgrams:\")\n",
        "for quadgram, count in most_common_quadgrams:\n",
        "    print(f\"{quadgram}: {count}\")"
      ],
      "id": "M_lMkQ57WHsy"
    },
    {
      "cell_type": "code",
      "execution_count": null,
      "metadata": {
        "outputId": "017f119f-917e-4cce-a643-18dd1fcd193b",
        "colab": {
          "base_uri": "https://localhost:8080/"
        },
        "id": "keM0lSSYWHs0"
      },
      "outputs": [
        {
          "output_type": "stream",
          "name": "stdout",
          "text": [
            "Count char wise\n",
            "Max  1 -gram with  31649  occurrence is  ,\n",
            "Max  2 -gram with  46227  occurrence is  de\n",
            "Max  3 -gram with  12752  occurrence is  que\n",
            "Max  4 -gram with  4700  occurrence is  para\n",
            "Max  5 -gram with  1311  occurrence is  entre\n",
            "Max  6 -gram with  908  occurrence is  cuando\n",
            "Max  7 -gram with  1611  occurrence is  también\n",
            "Max  8 -gram with  484  occurrence is  mientras\n",
            "Max  9 -gram with  325  occurrence is  encuentra\n",
            "Max  10 -gram with  238  occurrence is  diferentes\n",
            "Max  11 -gram with  219  occurrence is  universidad\n",
            "Max  12 -gram with  174  occurrence is  construcción\n",
            "Max  13 -gram with  171  occurrence is  internacional\n",
            "Max  14 -gram with  168  occurrence is  posteriormente\n",
            "Max  15 -gram with  111  occurrence is  aproximadamente\n",
            "Max  16 -gram with  17  occurrence is  representaciones\n",
            "Max  17 -gram with  22  occurrence is  considerablemente\n",
            "Max  18 -gram with  13  occurrence is  significativamente\n",
            "Max  19 -gram with  3  occurrence is  administrativamente\n"
          ]
        }
      ],
      "source": [
        "print(\"Count char wise\")\n",
        "count_freq_l = []\n",
        "freq_l_label = []\n",
        "for x in range(25):\n",
        "    count_freq_l.append(0)\n",
        "    freq_l_label.append(\"\")\n",
        "for token in token_frequencies:\n",
        "    if count_freq_l[len(token)] < token_frequencies[token]:\n",
        "        count_freq_l[len(token)] = token_frequencies[token]\n",
        "        freq_l_label[len(token)] = token\n",
        "for index, count in enumerate(count_freq_l):\n",
        "    if count != 0:\n",
        "        print(\"Max \",index,\"-gram with \",count,\" occurrence is \",freq_l_label[index])"
      ],
      "id": "keM0lSSYWHs0"
    },
    {
      "cell_type": "markdown",
      "source": [
        "## Persian B1-5"
      ],
      "metadata": {
        "id": "mFwSAy_WjmWX"
      },
      "id": "mFwSAy_WjmWX"
    },
    {
      "cell_type": "markdown",
      "source": [
        "- Distribution of most frequent words\n",
        "-  Most frequent words"
      ],
      "metadata": {
        "id": "59swq4lFDRF8"
      },
      "id": "59swq4lFDRF8"
    },
    {
      "cell_type": "code",
      "source": [
        "# with stop-words and puncuation marks\n",
        "word_counts = Counter(persian_stats_corpus[2])\n",
        "print(\"Most common words:\")\n",
        "most_common_words = word_counts.most_common(100)\n",
        "for word, count in most_common_words:\n",
        "    print(f\"{word}: {count}\")"
      ],
      "metadata": {
        "colab": {
          "base_uri": "https://localhost:8080/"
        },
        "id": "Ts1wI19qFwUa",
        "outputId": "c4907243-ea16-4ef6-c849-2b0c5c72d890"
      },
      "id": "Ts1wI19qFwUa",
      "execution_count": null,
      "outputs": [
        {
          "output_type": "stream",
          "name": "stdout",
          "text": [
            "Most common words:\n",
            "در : 9467\n",
            "به : 9422\n",
            "و : 8850\n",
            "از : 8683\n",
            "با : 8570\n",
            "این : 7546\n",
            "است.\n",
            ": 6479\n",
            "برای : 6362\n",
            "را : 6244\n",
            "، : 4941\n",
            "هم : 4860\n",
            "یک : 4848\n",
            "که : 4788\n",
            "های : 4495\n",
            "«: 4416\n",
            "نیز : 3419\n",
            "آن : 3405\n",
            "گفت: : 3219\n",
            "ما : 3207\n",
            "یا : 2987\n",
            "ها : 2829\n",
            "خود : 2828\n",
            "باید : 2754\n",
            "تا : 2677\n",
            "او : 2672\n",
            "است که : 2513\n",
            "می: 2380\n",
            "ن: 2342\n",
            "است و : 2287\n",
            "ایران : 2264\n",
            "مردم : 2183\n",
            "آنها : 2163\n",
            "اما : 2158\n",
            "من : 2135\n",
            "دیگر : 2128\n",
            "بر : 2127\n",
            "در این : 2120\n",
            "شد.\n",
            ": 2095\n",
            "(: 2083\n",
            "را به : 2007\n",
            "» : 2006\n",
            "ب: 1907\n",
            "همه : 1904\n",
            "اگر : 1883\n",
            "درباره : 1883\n",
            "کار : 1882\n",
            "کشور : 1865\n",
            "یکی از : 1859\n",
            "شده است.\n",
            ": 1835\n",
            "کرد.\n",
            ": 1817\n",
            "دو : 1806\n",
            "بود.\n",
            ": 1796\n",
            "همچنین : 1716\n",
            "ال: 1666\n",
            "دولت : 1664\n",
            "را در : 1662\n",
            "بی: 1650\n",
            "پس از : 1650\n",
            "می : 1640\n",
            "شود.\n",
            ": 1616\n",
            "که در : 1616\n",
            "چه : 1603\n",
            "آمریکا : 1599\n",
            ".\n",
            ": 1578\n",
            "ها و : 1557\n",
            "و: 1536\n",
            "ی و : 1527\n",
            "است، : 1505\n",
            "ی در : 1497\n",
            "استان : 1492\n",
            "کند.\n",
            ": 1491\n",
            "ه: 1487\n",
            "میشود.\n",
            ": 1481\n",
            "است : 1429\n",
            "وی : 1416\n",
            "هر : 1373\n",
            "از این : 1354\n",
            "بین : 1333\n",
            "د و : 1313\n",
            "شده : 1307\n",
            "دارد.\n",
            ": 1305\n",
            "کنند.\n",
            ": 1291\n",
            "بر: 1287\n",
            "م: 1283\n",
            "بازی : 1281\n",
            "برخی : 1276\n",
            "ان : 1266\n",
            "ت: 1256\n",
            "ای : 1245\n",
            "هستند.\n",
            ": 1240\n",
            "بیشتر : 1240\n",
            "خود را : 1237\n",
            "افزود: : 1226\n",
            "ل: 1220\n",
            "البته : 1218\n",
            "شما : 1215\n",
            "د، : 1214\n",
            "س: 1212\n",
            "بسیار : 1212\n",
            "توسط : 1204\n"
          ]
        }
      ]
    },
    {
      "cell_type": "code",
      "execution_count": null,
      "id": "af6ba999",
      "metadata": {
        "colab": {
          "base_uri": "https://localhost:8080/",
          "height": 455
        },
        "id": "af6ba999",
        "outputId": "7d7a4ea1-27b7-4572-ab46-33853a5d296b"
      },
      "outputs": [
        {
          "output_type": "display_data",
          "data": {
            "text/plain": [
              "<Figure size 1500x500 with 1 Axes>"
            ],
            "image/png": "[encoded data removed]"
          },
          "metadata": {}
        }
      ],
      "source": [
        "import matplotlib.pyplot as plt\n",
        "\n",
        "def plot_token_frequencies(token_frequencies, title):\n",
        "    tokens, frequencies = zip(*token_frequencies.most_common(100))  # Top 100 tokens\n",
        "    plt.figure(figsize=(15, 5))\n",
        "    plt.bar(tokens, frequencies)\n",
        "    plt.xticks(rotation=90)\n",
        "    plt.title(title)\n",
        "    plt.show()\n",
        "\n",
        "plot_token_frequencies(persian_stats_corpus[2], \"Token frequencies\")"
      ]
    },
    {
      "cell_type": "code",
      "source": [
        "# without stop-words and puncuation marks\n",
        "import string\n",
        "from collections import Counter\n",
        "import matplotlib.pyplot as plt\n",
        "\n",
        "stopwords = [\n",
        "    'به', 'از', 'را', 'و', 'برای', 'این', 'که', 'با', 'در', 'چون', 'اگر', 'ها', 'نه', 'اینکه', 'یا', 'هم', 'تا', 'که', 'آن', 'باید', 'شده', 'چرا', 'همچنین', 'کردن', 'شد', 'بر', 'کرد', 'است', 'ن', 'بر', 'می'\n",
        "]\n",
        "\n",
        "\n",
        "tokens_without_stopwords = [word for word in tokens if word not in stopwords]\n",
        "word_counts = Counter(tokens_without_stopwords)\n",
        "\n",
        "print(\"Most common words:\")\n",
        "most_common_words = word_counts.most_common(30)\n",
        "for word, count in most_common_words:\n",
        "    print(f\"{word}: {count}\")"
      ],
      "metadata": {
        "colab": {
          "base_uri": "https://localhost:8080/"
        },
        "id": "kywfKWhLF7m4",
        "outputId": "110e329f-6aa6-4972-8081-101e715af21f"
      },
      "id": "kywfKWhLF7m4",
      "execution_count": null,
      "outputs": [
        {
          "output_type": "stream",
          "name": "stdout",
          "text": [
            "Most common words:\n",
            "یک: 10643\n",
            "گفت: 8694\n",
            "خود: 8134\n",
            "وی: 6853\n",
            "ایران: 6828\n",
            "سال: 6687\n",
            "ما: 6654\n",
            "کشور: 6388\n",
            "نیز: 6163\n",
            "اما: 6033\n",
            "دارد: 5909\n",
            "شود: 5756\n",
            "کرونا: 5713\n",
            "بود: 5687\n",
            "او: 5624\n",
            "میشود: 5384\n",
            "مردم: 5131\n",
            "های: 5069\n",
            "استان: 4957\n",
            "داد: 4922\n",
            "قرار: 4779\n",
            "روز: 4415\n",
            "کند: 4395\n",
            "نها: 4371\n",
            "دیگر: 4188\n",
            "هزار: 4154\n",
            "ادامه: 4134\n",
            "هر: 4127\n",
            "مریکا: 4017\n",
            "کار: 3986\n"
          ]
        }
      ]
    },
    {
      "cell_type": "markdown",
      "source": [
        "## Spanish B1-5"
      ],
      "metadata": {
        "id": "top_owNqjuas"
      },
      "id": "top_owNqjuas"
    },
    {
      "cell_type": "code",
      "source": [
        "word_counts = Counter(spanish_stats_corpus[2])\n",
        "print(\"Most common words:\")\n",
        "most_common_words = word_counts.most_common(100)\n",
        "for word, count in most_common_words:\n",
        "    print(f\"{word}: {count}\")"
      ],
      "metadata": {
        "colab": {
          "base_uri": "https://localhost:8080/"
        },
        "id": "Hsb1nMa1j3nx",
        "outputId": "701d7da8-8786-4b1e-b845-7d85fa9bba3b"
      },
      "id": "Hsb1nMa1j3nx",
      "execution_count": null,
      "outputs": [
        {
          "output_type": "stream",
          "name": "stdout",
          "text": [
            "Most common words:\n",
            "de: 46227\n",
            ",: 31649\n",
            ".: 29301\n",
            "la: 25630\n",
            "en: 21172\n",
            "el: 20155\n",
            "y: 16436\n",
            "a: 13116\n",
            "que: 12752\n",
            "los: 9923\n",
            "se: 9462\n",
            "del: 7689\n",
            "un: 6947\n",
            "su: 6672\n",
            "con: 6428\n",
            "por: 6306\n",
            "las: 6262\n",
            "una: 6188\n",
            "para: 4700\n",
            "es: 4234\n",
            "al: 3740\n",
            "como: 3600\n",
            "fue: 3264\n",
            "(: 2968\n",
            "no: 2967\n",
            "\": 2670\n",
            "más: 2609\n",
            "lo: 2391\n",
            "sus: 2256\n",
            "-: 1942\n",
            "o: 1838\n",
            "también: 1611\n",
            "este: 1397\n",
            "le: 1393\n",
            "entre: 1311\n",
            "pero: 1276\n",
            "dos: 1231\n",
            "ha: 1189\n",
            "esta: 1176\n",
            "sin: 1153\n",
            ":: 1138\n",
            "son: 1097\n",
            "años: 1075\n",
            "): 1071\n",
            "ser: 1045\n",
            "sobre: 955\n",
            "era: 947\n",
            "desde: 939\n",
            "hasta: 936\n",
            "durante: 935\n",
            "cuando: 908\n",
            "después: 880\n",
            "e: 878\n",
            "año: 836\n",
            ").: 821\n",
            "ya: 798\n",
            "está: 772\n",
            "tiene: 772\n",
            "parte: 764\n",
            "donde: 741\n",
            "«: 730\n",
            ";: 714\n",
            "había: 708\n",
            "puede: 676\n",
            "fueron: 675\n",
            "primera: 659\n",
            "muy: 658\n",
            "gran: 649\n",
            "si: 648\n",
            "),: 626\n",
            "uno: 617\n",
            "vez: 617\n",
            "s: 610\n",
            "embargo: 608\n",
            "cada: 596\n",
            "ciudad: 584\n",
            "mismo: 573\n",
            "otros: 573\n",
            "así: 572\n",
            "tiempo: 546\n",
            "\".: 536\n",
            "él: 531\n",
            "1: 529\n",
            "primer: 528\n",
            "además: 527\n",
            "solo: 522\n",
            "aunque: 521\n",
            "todo: 515\n",
            "tres: 508\n",
            "han: 505\n",
            "ese: 501\n",
            "sido: 499\n",
            "2: 492\n",
            "mientras: 484\n",
            "estos: 482\n",
            "esto: 473\n",
            "todos: 465\n",
            "nombre: 464\n",
            "re: 458\n",
            "ella: 453\n"
          ]
        }
      ]
    },
    {
      "cell_type": "code",
      "source": [
        "import matplotlib.pyplot as plt\n",
        "\n",
        "def plot_token_frequencies(token_frequencies, title):\n",
        "    tokens, frequencies = zip(*token_frequencies.most_common(100))  # Top 30 tokens\n",
        "    plt.figure(figsize=(15, 5))\n",
        "    plt.bar(tokens, frequencies)\n",
        "    plt.xticks(rotation=90)\n",
        "    plt.title(title)\n",
        "    plt.show()\n",
        "\n",
        "plot_token_frequencies(spanish_stats_corpus[2], \"Token frequencies\")"
      ],
      "metadata": {
        "colab": {
          "base_uri": "https://localhost:8080/",
          "height": 536
        },
        "id": "Ssmftp0ojwYj",
        "outputId": "71938258-471d-4c6a-8150-b3cf19915ce8"
      },
      "id": "Ssmftp0ojwYj",
      "execution_count": null,
      "outputs": [
        {
          "output_type": "display_data",
          "data": {
            "text/plain": [
              "<Figure size 1500x500 with 1 Axes>"
            ],
            "image/png": "[encoded data removed]"
          },
          "metadata": {}
        }
      ]
    },
    {
      "cell_type": "markdown",
      "source": [
        "## Persian B2"
      ],
      "metadata": {
        "id": "NSz4asIdkL2n"
      },
      "id": "NSz4asIdkL2n"
    },
    {
      "cell_type": "markdown",
      "id": "824feafb",
      "metadata": {
        "id": "824feafb"
      },
      "source": [
        "- Selecting Interrogative pronouns(why, what, where, when, etc) to compare the relative frequency of members between corpora."
      ]
    },
    {
      "cell_type": "code",
      "execution_count": null,
      "id": "f32b945d",
      "metadata": {
        "id": "f32b945d"
      },
      "outputs": [],
      "source": [
        "interrogative_pronouns = ['چهکسی', 'کجا', 'چرا', 'چگونه', 'چطور', 'چه', 'زمانی', 'کسی']"
      ]
    },
    {
      "cell_type": "code",
      "execution_count": null,
      "id": "f8e65536",
      "metadata": {
        "colab": {
          "base_uri": "https://localhost:8080/"
        },
        "id": "f8e65536",
        "outputId": "4b779ebb-9be6-4f5d-d9ff-c032b36c87a3"
      },
      "outputs": [
        {
          "output_type": "stream",
          "name": "stdout",
          "text": [
            "چهکسی  count:  3\n",
            "کجا  count:  210\n",
            "چرا  count:  1226\n",
            "چگونه  count:  408\n",
            "چطور  count:  243\n",
            "چه  count:  2661\n",
            "زمانی  count:  997\n",
            "کسی  count:  1010\n",
            "Total number of Interrogative pronouns:  6758\n"
          ]
        }
      ],
      "source": [
        "count_inter_pro = 0\n",
        "for inter_pro in interrogative_pronouns:\n",
        "    print(inter_pro,\" count: \", total_counter[inter_pro])\n",
        "    count_inter_pro += total_counter[inter_pro]\n",
        "print(\"Total number of Interrogative pronouns: \",count_inter_pro)"
      ]
    },
    {
      "cell_type": "markdown",
      "source": [
        "## Spanish B2"
      ],
      "metadata": {
        "id": "mU4NMRpakYA8"
      },
      "id": "mU4NMRpakYA8"
    },
    {
      "cell_type": "code",
      "source": [
        "inter_pro_l = [\"quién\", \"qué\",\"dónde\",\"por qué\",\"cuándo\",\"cómo\",\"cuál\",\"cuánto\"]"
      ],
      "metadata": {
        "id": "O97x0KiVkTqa"
      },
      "id": "O97x0KiVkTqa",
      "execution_count": null,
      "outputs": []
    },
    {
      "cell_type": "code",
      "source": [
        "count_inter_pro = 0\n",
        "for inter_pro in inter_pro_l:\n",
        "    print(inter_pro,\" count: \", total_counter[inter_pro])\n",
        "    count_inter_pro += total_counter[inter_pro]\n",
        "print(\"Total number of Interrogative pronouns: \",count_inter_pro)"
      ],
      "metadata": {
        "colab": {
          "base_uri": "https://localhost:8080/"
        },
        "id": "GPE2d241kbrA",
        "outputId": "bf1d2b37-54c3-4876-e299-455666f0636a"
      },
      "id": "GPE2d241kbrA",
      "execution_count": null,
      "outputs": [
        {
          "output_type": "stream",
          "name": "stdout",
          "text": [
            "quién  count:  28\n",
            "qué  count:  85\n",
            "dónde  count:  14\n",
            "por qué  count:  0\n",
            "cuándo  count:  13\n",
            "cómo  count:  98\n",
            "cuál  count:  15\n",
            "cuánto  count:  5\n",
            "Total number of Interrogative pronouns:  258\n"
          ]
        }
      ]
    },
    {
      "cell_type": "markdown",
      "source": [
        "## Deliverable 4"
      ],
      "metadata": {
        "id": "PX9iJcCBNh0l"
      },
      "id": "PX9iJcCBNh0l"
    },
    {
      "cell_type": "markdown",
      "source": [
        "## Persian"
      ],
      "metadata": {
        "id": "1Y8AGdFlse63"
      },
      "id": "1Y8AGdFlse63"
    },
    {
      "cell_type": "code",
      "execution_count": null,
      "metadata": {
        "ExecuteTime": {
          "end_time": "2024-11-05T11:48:05.529159Z",
          "start_time": "2024-11-05T11:48:05.526694Z"
        },
        "id": "h6xMVyy-d0T9"
      },
      "outputs": [],
      "source": [
        "normaliser = Sequence([StripAccents(), Lowercase()])"
      ],
      "id": "h6xMVyy-d0T9"
    },
    {
      "cell_type": "code",
      "execution_count": null,
      "metadata": {
        "ExecuteTime": {
          "end_time": "2024-11-05T11:48:10.237730Z",
          "start_time": "2024-11-05T11:48:10.235690Z"
        },
        "id": "KE70IOFbd0T_"
      },
      "outputs": [],
      "source": [
        "persian_tokenizer = Tokenizer(BPE())\n",
        "persian_tokenizer.normalizer = normaliser\n",
        "# persian_tokenizer.pre_tokenizer = pre_tokeniser"
      ],
      "id": "KE70IOFbd0T_"
    },
    {
      "cell_type": "code",
      "execution_count": null,
      "metadata": {
        "ExecuteTime": {
          "end_time": "2024-11-05T11:48:21.269725Z",
          "start_time": "2024-11-05T11:48:21.267395Z"
        },
        "id": "96bNS2l-d0UA"
      },
      "outputs": [],
      "source": [
        "trainer = BpeTrainer(special_tokens=[\"[UNK]\", \"[CLS]\", \"[SEP]\", \"[PAD]\", \"[MASK]\"], vocab_size=30000)"
      ],
      "id": "96bNS2l-d0UA"
    },
    {
      "cell_type": "code",
      "execution_count": null,
      "metadata": {
        "ExecuteTime": {
          "end_time": "2024-11-05T11:56:55.345027Z",
          "start_time": "2024-11-05T11:56:55.191420Z"
        },
        "id": "2ZbqzCQ9d0UA"
      },
      "outputs": [],
      "source": [
        "with open(persian_text_path, \"r\") as f:\n",
        "    train_corpus, test_corpus = train_test_split(f.readlines(), test_size=0.2)"
      ],
      "id": "2ZbqzCQ9d0UA"
    },
    {
      "cell_type": "code",
      "execution_count": null,
      "metadata": {
        "id": "IMyZ0essd0UA"
      },
      "outputs": [],
      "source": [
        "persian_tokenizer.train_from_iterator(train_corpus, trainer=trainer)"
      ],
      "id": "IMyZ0essd0UA"
    },
    {
      "cell_type": "code",
      "execution_count": null,
      "metadata": {
        "ExecuteTime": {
          "end_time": "2024-11-05T11:50:07.634279Z",
          "start_time": "2024-11-05T11:50:00.238524Z"
        },
        "id": "4s8dZqcofaLF"
      },
      "outputs": [],
      "source": [
        "def analyze_tokenizer(tokenizer, corpus):\n",
        "    token_lengths = []\n",
        "    tokens_per_word = []\n",
        "    token_frequencies = Counter()\n",
        "    sentences = 0\n",
        "\n",
        "    for sentence in corpus:\n",
        "        encoding = tokenizer.encode(sentence)\n",
        "        tokens = encoding.tokens\n",
        "        token_lengths.extend([len(token) for token in tokens])\n",
        "        tokens_per_word.append(len(tokens) / len(sentence.split()))\n",
        "        token_frequencies.update(tokens)\n",
        "        sentences = sentences + 1\n",
        "\n",
        "    avg_token_length = np.mean(token_lengths)\n",
        "    avg_tokens_per_word = np.mean(tokens_per_word)\n",
        "\n",
        "    return avg_token_length, avg_tokens_per_word, token_frequencies\n",
        "\n",
        "with open(persian_text_path) as corpus:\n",
        "    persian_stats_corpus = analyze_tokenizer(persian_tokenizer, corpus)"
      ],
      "id": "4s8dZqcofaLF"
    },
    {
      "cell_type": "code",
      "execution_count": null,
      "metadata": {
        "colab": {
          "base_uri": "https://localhost:8080/"
        },
        "outputId": "232a0280-4aee-4a50-f095-c544cdf186a0",
        "id": "e3e2UDesfaLF"
      },
      "outputs": [
        {
          "output_type": "stream",
          "name": "stdout",
          "text": [
            "Mean Token Length: 5.76\n",
            "Mean Tokens per Word: 0.94\n"
          ]
        }
      ],
      "source": [
        "def print_tokenization_stats(stats):\n",
        "    print(f\"Mean Token Length: {stats[0]:.2f}\")\n",
        "    print(f\"Mean Tokens per Word: {stats[1]:.2f}\")\n",
        "\n",
        "print_tokenization_stats(persian_stats_corpus)"
      ],
      "id": "e3e2UDesfaLF"
    },
    {
      "cell_type": "code",
      "source": [
        "#test_corpus\n",
        "print(\"Train Dataset: \")\n",
        "train_stats = analyze_tokenizer(persian_tokenizer, train_corpus)\n",
        "print_tokenization_stats(train_stats)\n",
        "print(\"Only Test Dataset: \")\n",
        "validation_stats = analyze_tokenizer(persian_tokenizer, test_corpus)\n",
        "print_tokenization_stats(validation_stats)\n",
        "print(\"Whole Dataset: \")\n",
        "print_tokenization_stats(persian_stats_corpus)"
      ],
      "metadata": {
        "colab": {
          "base_uri": "https://localhost:8080/"
        },
        "id": "wm6ab3L0eEuf",
        "outputId": "0c5451f6-56f8-4487-8490-9ab298258a4c"
      },
      "id": "wm6ab3L0eEuf",
      "execution_count": null,
      "outputs": [
        {
          "output_type": "stream",
          "name": "stdout",
          "text": [
            "Train Dataset: \n",
            "Mean Token Length: 5.78\n",
            "Mean Tokens per Word: 0.93\n",
            "Only Test Dataset: \n",
            "Mean Token Length: 5.69\n",
            "Mean Tokens per Word: 0.95\n",
            "Whole Dataset: \n",
            "Mean Token Length: 5.76\n",
            "Mean Tokens per Word: 0.94\n"
          ]
        }
      ]
    },
    {
      "cell_type": "code",
      "execution_count": null,
      "metadata": {
        "outputId": "73590bdd-f87f-4ed1-fc5b-17a278bbbc59",
        "colab": {
          "base_uri": "https://localhost:8080/",
          "height": 455
        },
        "id": "NvqLfOip3tS9"
      },
      "outputs": [
        {
          "output_type": "display_data",
          "data": {
            "text/plain": [
              "<Figure size 1500x500 with 1 Axes>"
            ],
            "image/png": "[encoded data removed]"
          },
          "metadata": {}
        }
      ],
      "source": [
        "plot_token_frequencies(train_stats[2], \"Token frequencies for Train Dataset\")"
      ],
      "id": "NvqLfOip3tS9"
    },
    {
      "cell_type": "code",
      "execution_count": null,
      "metadata": {
        "outputId": "9cbbaba8-9b3a-4cd6-bec1-4cdc9f8427df",
        "colab": {
          "base_uri": "https://localhost:8080/",
          "height": 455
        },
        "id": "paEuk0mt3tTD"
      },
      "outputs": [
        {
          "output_type": "display_data",
          "data": {
            "text/plain": [
              "<Figure size 1500x500 with 1 Axes>"
            ],
            "image/png": "[encoded data removed]"
          },
          "metadata": {}
        }
      ],
      "source": [
        "plot_token_frequencies(validation_stats[2], \"Token frequencies for Validataion Dataset\")"
      ],
      "id": "paEuk0mt3tTD"
    },
    {
      "cell_type": "code",
      "execution_count": null,
      "metadata": {
        "id": "sKfuKB4K3tTE"
      },
      "outputs": [],
      "source": [
        "import random\n",
        "random.seed()\n",
        "def check_if_word_in(word,dataset):\n",
        "    for lin in dataset:\n",
        "        words = lin.split()\n",
        "        if word in words:\n",
        "            return True\n",
        "    return False\n",
        "\n",
        "#Search for tokens that are in the test Corpus but not in the train corpus\n",
        "not_in_train_l = []\n",
        "number_ex = 20\n",
        "count = number_ex\n",
        "lin_index = 0\n",
        "while lin_index<  len(test_corpus):\n",
        "    lin = test_corpus[lin_index]\n",
        "    words = lin.split()\n",
        "    for word in words:\n",
        "        if not check_if_word_in(word,train_corpus):\n",
        "            not_in_train_l.append(word)\n",
        "            count -= 1\n",
        "            #Just take one word from every senteces to not be biased by one obscure sentenes\n",
        "            break\n",
        "\n",
        "    if count <= 0:\n",
        "        break\n",
        "    lin_index += random.randint(1,40)\n",
        "\n",
        "in_train_l = []\n",
        "for x in range(number_ex):\n",
        "    sent = random.choice(train_corpus)\n",
        "    in_train_l.append(random.choice(sent.split()))"
      ],
      "id": "sKfuKB4K3tTE"
    },
    {
      "cell_type": "code",
      "execution_count": null,
      "metadata": {
        "outputId": "50287a96-ad06-4778-9908-09f3a249fd57",
        "colab": {
          "base_uri": "https://localhost:8080/"
        },
        "id": "uL0h67uz3tTE"
      },
      "outputs": [
        {
          "output_type": "stream",
          "name": "stdout",
          "text": [
            "In the Validation Data but not in the train data\n",
            "['765', '13']\n",
            "['490', '15']\n",
            "['96', '57', '2']\n",
            "['927', '25']\n",
            "['68', '26']\n",
            "['250', '61']\n",
            "['453', '0', '5']\n",
            "['33', '347']\n",
            "['23', '80', '6']\n",
            "['980', '94']\n",
            "['19', '33', '1']\n",
            "['922', '1']\n",
            "['70', '34', '5']\n",
            "['94', '11', '2']\n",
            "['77', '20', '3']\n",
            "['520', '55']\n",
            "['167', '41']\n",
            "['469', '84']\n",
            "['37', '863']\n",
            "['86', '60']\n",
            "######\n",
            "In the train data\n",
            "######\n",
            "['شد', 'ن']\n",
            "['دست']\n",
            "['با']\n",
            "['اس', 'کی']\n",
            "['میآور', 'ند', '.']\n",
            "['توس', 'ط']\n",
            "['را']\n",
            "['میکن', 'د']\n",
            "['از']\n",
            "['23', '87', '1']\n",
            "['از']\n",
            "['وسی', 'له']\n",
            "['ایران']\n",
            "['43', '529']\n",
            "['2', '.', '25']\n",
            "['ته', 'می', 'دا', 'ت']\n",
            "['اش', 'اره']\n",
            "['استان']\n",
            "['هم']\n",
            "['توس', 'ط']\n"
          ]
        }
      ],
      "source": [
        "def print_list_encoding(li):\n",
        "    for word in li:\n",
        "        print(persian_tokenizer.encode(word).tokens)\n",
        "print(\"In the Validation Data but not in the train data\")\n",
        "print_list_encoding(not_in_train_l)\n",
        "print(\"######\")\n",
        "print(\"In the train data\")\n",
        "print(\"######\")\n",
        "print_list_encoding(in_train_l)\n"
      ],
      "id": "uL0h67uz3tTE"
    },
    {
      "cell_type": "markdown",
      "source": [
        "## Check the Verbs:"
      ],
      "metadata": {
        "id": "xmFdCYlN43nE"
      },
      "id": "xmFdCYlN43nE"
    },
    {
      "cell_type": "code",
      "execution_count": null,
      "metadata": {
        "colab": {
          "base_uri": "https://localhost:8080/"
        },
        "id": "4a25b9d9",
        "outputId": "edd31cbc-88fb-4b79-8e51-048709274c68"
      },
      "outputs": [
        {
          "output_type": "stream",
          "name": "stdout",
          "text": [
            "1 ['من ', 'خور', 'دم', '.']\n",
            "2 ['تو ', 'میخو', 'ری', '.']\n",
            "3 ['او ', 'میخور', 'د', '.']\n",
            "4 ['ما ', 'میخو', 'ری', 'م', '.']\n",
            "5 ['شما ', 'میخو', 'ری', 'د', '.']\n",
            "6 ['آنها ', 'میخور', 'ند', '.']\n"
          ]
        }
      ],
      "source": [
        "print(\"1\", persian_tokenizer.encode(\"من خوردم.\").tokens)\n",
        "print(\"2\", persian_tokenizer.encode(\"تو می‌خوری.\").tokens)\n",
        "print(\"3\", persian_tokenizer.encode(\"او می‌خورد.\").tokens)\n",
        "print(\"4\", persian_tokenizer.encode(\"ما می‌خوریم.\").tokens)\n",
        "print(\"5\", persian_tokenizer.encode(\"شما می‌خورید.\").tokens)\n",
        "print(\"6\", persian_tokenizer.encode(\"آنها می‌خورند.\").tokens)"
      ],
      "id": "4a25b9d9"
    },
    {
      "cell_type": "code",
      "execution_count": null,
      "metadata": {
        "colab": {
          "base_uri": "https://localhost:8080/"
        },
        "id": "02ab725a",
        "outputId": "0ce7bbd1-bcb8-4c0e-c454-85480d8f5e3a"
      },
      "outputs": [
        {
          "output_type": "stream",
          "name": "stdout",
          "text": [
            "1 ['کلاه', 'ت ', 'را ', 'پس ', 'می', 'دهم', '.']\n",
            "2 ['کل', 'اهم ', 'را ', 'پس ', 'بده']\n",
            "3 ['کلاه', 'ش را ', 'پس ', 'داد', '.']\n",
            "4 ['کلاه', 'شان را ', 'پس ', 'میده', 'یم', '.']\n",
            "5 ['کلاه', 'تان را ', 'پس ', 'بده', 'ید', '.']\n",
            "6 ['کلاه', 'مان را ', 'پس ', 'داد', 'ند', '.']\n"
          ]
        }
      ],
      "source": [
        "print(\"1\", persian_tokenizer.encode(\"کلاهت را پس می‌دهم.\").tokens)\n",
        "print(\"2\", persian_tokenizer.encode(\"کلاهم را پس بده\").tokens)\n",
        "print(\"3\", persian_tokenizer.encode(\"کلاهش را پس داد.\").tokens)\n",
        "print(\"4\", persian_tokenizer.encode(\"کلاهشان را پس می‌دهیم.\").tokens)\n",
        "print(\"5\", persian_tokenizer.encode(\"کلاهتان را پس بدهید.\").tokens)\n",
        "print(\"6\", persian_tokenizer.encode(\"کلاهمان را پس دادند.\").tokens)"
      ],
      "id": "02ab725a"
    },
    {
      "cell_type": "code",
      "execution_count": null,
      "metadata": {
        "ExecuteTime": {
          "end_time": "2024-11-05T11:49:58.057961Z",
          "start_time": "2024-11-05T11:49:57.652141Z"
        },
        "colab": {
          "base_uri": "https://localhost:8080/"
        },
        "outputId": "70ffd118-8d72-43c9-9bf1-bdbc3822ff20",
        "id": "DHnBe8h1faLA"
      },
      "outputs": [
        {
          "output_type": "execute_result",
          "data": {
            "text/plain": [
              "{'frequent_avg_tokens': 2.2555667793930345,\n",
              " 'infrequent_avg_tokens': 2.724944320712695,\n",
              " 'unseen_avg_tokens': 2.6368905448871054}"
            ]
          },
          "metadata": {},
          "execution_count": 34
        }
      ],
      "source": [
        "persian_word_class_analysis = analyze_word_classes(persian_tokenizer, test_word_classes)\n",
        "persian_word_class_analysis"
      ],
      "id": "DHnBe8h1faLA"
    },
    {
      "cell_type": "markdown",
      "source": [
        "## Spanish"
      ],
      "metadata": {
        "id": "cLSdQklHsg5L"
      },
      "id": "cLSdQklHsg5L"
    },
    {
      "cell_type": "code",
      "execution_count": null,
      "metadata": {
        "id": "3d222530-8138-47bb-a77f-8bbe9fc2adf0",
        "outputId": "3e515bc1-cab8-433d-f436-af6c6ce89139",
        "colab": {
          "base_uri": "https://localhost:8080/"
        }
      },
      "outputs": [
        {
          "output_type": "stream",
          "name": "stdout",
          "text": [
            "Train Dataset: \n",
            "Mean Token Length: 4.13\n",
            "Mean Tokens per Word: 1.23\n",
            "\n",
            "Only Test Dataset: \n",
            "Mean Token Length: 3.99\n",
            "Mean Tokens per Word: 1.27\n",
            "\n",
            "Whole Dataset: \n",
            "Mean Token Length: 4.10\n",
            "Mean Tokens per Word: 1.24\n",
            "\n"
          ]
        }
      ],
      "source": [
        "#test_corpus\n",
        "print(\"Train Dataset: \")\n",
        "train_stats = analyze_tokenizer(spanish_tokenizer, train_corpus)\n",
        "print_tokenization_stats(train_stats)\n",
        "print(\"Only Test Dataset: \")\n",
        "validation_stats = analyze_tokenizer(spanish_tokenizer, test_corpus)\n",
        "print_tokenization_stats(validation_stats)\n",
        "print(\"Whole Dataset: \")\n",
        "print_tokenization_stats(spanish_stats_corpus)\n"
      ],
      "id": "3d222530-8138-47bb-a77f-8bbe9fc2adf0"
    },
    {
      "cell_type": "code",
      "execution_count": null,
      "metadata": {
        "id": "4ebad06b-b47e-4b67-b9db-98f0c3e1e129",
        "outputId": "22b4b9e7-0dd4-4b6f-88d9-7877a6d91bcd",
        "colab": {
          "base_uri": "https://localhost:8080/",
          "height": 444
        }
      },
      "outputs": [
        {
          "output_type": "display_data",
          "data": {
            "text/plain": [
              "<Figure size 1500x500 with 1 Axes>"
            ],
            "image/png": "[encoded data removed]"
          },
          "metadata": {}
        }
      ],
      "source": [
        "plot_token_frequencies(train_stats[2], \"Token frequencies for Train Dataset\")"
      ],
      "id": "4ebad06b-b47e-4b67-b9db-98f0c3e1e129"
    },
    {
      "cell_type": "code",
      "execution_count": null,
      "metadata": {
        "id": "79c2143e-9e70-4e34-a8c8-11e6f8084c1b",
        "outputId": "055542ef-f53e-40b2-f32e-ec9e29b46535",
        "colab": {
          "base_uri": "https://localhost:8080/",
          "height": 447
        }
      },
      "outputs": [
        {
          "output_type": "display_data",
          "data": {
            "text/plain": [
              "<Figure size 1500x500 with 1 Axes>"
            ],
            "image/png": "[encoded data removed]"
          },
          "metadata": {}
        }
      ],
      "source": [
        "plot_token_frequencies(validation_stats[2], \"Token frequencies for Validataion Dataset\")"
      ],
      "id": "79c2143e-9e70-4e34-a8c8-11e6f8084c1b"
    },
    {
      "cell_type": "markdown",
      "metadata": {
        "id": "c9715dab-5087-4b61-9ea3-1ef9dbb330c9"
      },
      "source": [
        "## Single Word analysis\n"
      ],
      "id": "c9715dab-5087-4b61-9ea3-1ef9dbb330c9"
    },
    {
      "cell_type": "code",
      "execution_count": null,
      "metadata": {
        "id": "37f8dd78-bd46-490e-8498-b01d832510c1"
      },
      "outputs": [],
      "source": [
        "import random\n",
        "random.seed()\n",
        "def check_if_word_in(word,dataset):\n",
        "    for lin in dataset:\n",
        "        words = lin.split()\n",
        "        if word in words:\n",
        "            return True\n",
        "    return False\n",
        "\n",
        "#Search for tokens that are in the test Corpus but not in the train corpus\n",
        "not_in_train_l = []\n",
        "number_ex = 20\n",
        "count = number_ex\n",
        "lin_index = 0\n",
        "while lin_index<  len(test_corpus):\n",
        "    lin = test_corpus[lin_index]\n",
        "    words = lin.split()\n",
        "    for word in words:\n",
        "        if not check_if_word_in(word,train_corpus):\n",
        "            not_in_train_l.append(word)\n",
        "            count -= 1\n",
        "            #Just take one word from every senteces to not be biased by one obscure sentenes\n",
        "            break\n",
        "\n",
        "    if count <= 0:\n",
        "        break\n",
        "    lin_index += random.randint(1,40)\n",
        "\n",
        "in_train_l = []\n",
        "for x in range(number_ex):\n",
        "    sent = random.choice(train_corpus)\n",
        "    in_train_l.append(random.choice(sent.split()))"
      ],
      "id": "37f8dd78-bd46-490e-8498-b01d832510c1"
    },
    {
      "cell_type": "code",
      "execution_count": null,
      "metadata": {
        "id": "53deb256-07af-4feb-8fc2-dce551ae243e",
        "outputId": "1838683e-963a-47fa-c511-49be5231e833",
        "colab": {
          "base_uri": "https://localhost:8080/"
        }
      },
      "outputs": [
        {
          "output_type": "stream",
          "name": "stdout",
          "text": [
            "In the Validation Data but not in the train data\n",
            "['din', 'eros']\n",
            "['gubernamental', ',']\n",
            "['extra', 'ctivo']\n",
            "['interpre', 'taron']\n",
            "['sebastián', '\".']\n",
            "['s', 'w', 'apo']\n",
            "['hu', 'ama', 'chu', 'co']\n",
            "['gené', 'rico', ',']\n",
            "['perfec', 'tos', '».']\n",
            "['ofici', 'alidad']\n",
            "['aya', 'to', 'lá']\n",
            "['movi', 'mient', 'ista']\n",
            "['venta', 'jos', 'a', '.']\n",
            "['jugada', ',']\n",
            "['habría', 'mos']\n",
            "['urnas', '\",']\n",
            "['trib', 'unas']\n",
            "['\"', 'shelby']\n",
            "['prevent', 'ivo']\n",
            "['20', '%,']\n",
            "######\n",
            "In the train data\n",
            "######\n",
            "['el']\n",
            "['darse']\n",
            "['mientras']\n",
            "['el']\n",
            "['dos']\n",
            "['la']\n",
            "['(\"', 'lealtad']\n",
            "['la']\n",
            "['coros', '.']\n",
            "['no']\n",
            "['florida', '.']\n",
            "['de']\n",
            "['alumnos']\n",
            "['consu', 'mar']\n",
            "['api', 'ada']\n",
            "['fue']\n",
            "['son']\n",
            "['en']\n",
            "['resultaron']\n",
            "['en']\n"
          ]
        }
      ],
      "source": [
        "def print_list_encoding(li):\n",
        "    for word in li:\n",
        "        print(spanish_tokenizer.encode(word).tokens)\n",
        "print(\"In the Validation Data but not in the train data\")\n",
        "print_list_encoding(not_in_train_l)\n",
        "print(\"######\")\n",
        "print(\"In the train data\")\n",
        "print(\"######\")\n",
        "print_list_encoding(in_train_l)\n"
      ],
      "id": "53deb256-07af-4feb-8fc2-dce551ae243e"
    },
    {
      "cell_type": "markdown",
      "metadata": {
        "id": "431f9ecf-36ea-4eb2-bf86-192f485337ed"
      },
      "source": [
        "## Check the Verbs:\n",
        "\n",
        "I asked a friend to give me two spanish verbs in different forms to check if the ending will be seperated correctly  \n",
        "The verbs are:   \n",
        "yo salto, tú saltas, él/ella salta, nosotros saltamos, vosotros saltáis, ellos/ellas saltan   \n",
        "yo me ducho, tú te duchas, él/ella se ducha, nosotros nos duchamos, vosotros os ducháis, ellos/ellas se duchan --> refkexiv  -> Shower"
      ],
      "id": "431f9ecf-36ea-4eb2-bf86-192f485337ed"
    },
    {
      "cell_type": "code",
      "execution_count": null,
      "metadata": {
        "id": "90a68cac-684d-4703-9fa7-e1b6feee538f"
      },
      "outputs": [],
      "source": [
        "#saltar, bailar, cantar, salir, correr, comer, hablar, oir, tener, aprender, obstaculizar, evitar, vacilar, beber, pretender, intentar, arrestar, fastidiar, ducharse"
      ],
      "id": "90a68cac-684d-4703-9fa7-e1b6feee538f"
    },
    {
      "cell_type": "code",
      "execution_count": null,
      "metadata": {
        "id": "1d18d436-3738-4091-8cc4-ab7070e6e9d5"
      },
      "outputs": [],
      "source": [
        "verb1_l = [\"yo salto\", \"tú saltas\", \"ella salta\", \"nosotros saltamos\", \"vosotros saltáis\", \"ellas saltan\"]\n",
        "verb2_l = [\"yo me ducho\", \"tú te duchas\", \"ella se ducha\", \"nosotros nos duchamos\", \"vosotros os ducháis\", \"ellas se duchan\"]# --> refkexiv  -> Shower"
      ],
      "id": "1d18d436-3738-4091-8cc4-ab7070e6e9d5"
    },
    {
      "cell_type": "code",
      "execution_count": null,
      "metadata": {
        "id": "a9452544-7a61-412c-8a0a-312bb1417f58",
        "outputId": "b7f439ac-a672-471c-9f15-21b5ba2dd801",
        "colab": {
          "base_uri": "https://localhost:8080/"
        }
      },
      "outputs": [
        {
          "output_type": "stream",
          "name": "stdout",
          "text": [
            "['yo', 'salto']\n",
            "['tú', 'sal', 'tas']\n",
            "['ella', 'salta']\n",
            "['nosotros', 'salta', 'mos']\n",
            "['vos', 'otros', 'sal', 'tá', 'is']\n",
            "['ellas', 'sal', 'tan']\n"
          ]
        }
      ],
      "source": [
        "print_list_encoding(verb1_l)"
      ],
      "id": "a9452544-7a61-412c-8a0a-312bb1417f58"
    },
    {
      "cell_type": "code",
      "execution_count": null,
      "metadata": {
        "id": "b3127cec-cf01-4d70-9f8e-8c0b636703c4",
        "outputId": "272f6044-2ccc-4e9f-a2bd-681a8e6c50aa",
        "colab": {
          "base_uri": "https://localhost:8080/"
        }
      },
      "outputs": [
        {
          "output_type": "stream",
          "name": "stdout",
          "text": [
            "['yo', 'me', 'du', 'cho']\n",
            "['tú', 'te', 'du', 'chas']\n",
            "['ella', 'se', 'du', 'cha']\n",
            "['nosotros', 'nos', 'du', 'cha', 'mos']\n",
            "['vos', 'otros', 'os', 'du', 'chá', 'is']\n",
            "['ellas', 'se', 'du', 'chan']\n"
          ]
        }
      ],
      "source": [
        "print_list_encoding(verb2_l)"
      ],
      "id": "b3127cec-cf01-4d70-9f8e-8c0b636703c4"
    },
    {
      "cell_type": "markdown",
      "metadata": {
        "id": "820abc5d-bd44-4602-b9e2-d87d32c55282"
      },
      "source": [
        "As seen above the verb salta gets split inconsistantly. Same goes for duchas. But with duchas there is always the start the same with \"du\" but the ending are getting splitted up in different ways"
      ],
      "id": "820abc5d-bd44-4602-b9e2-d87d32c55282"
    },
    {
      "cell_type": "code",
      "execution_count": null,
      "metadata": {
        "outputId": "ab296da1-67ae-4f68-9c80-b0cce43e98f3",
        "id": "NC3OZl6lX4_8"
      },
      "outputs": [
        {
          "data": {
            "text/plain": [
              "{'frequent_avg_tokens': 1.2366050984582506,\n",
              " 'infrequent_avg_tokens': 1.8751545117428925,\n",
              " 'unseen_avg_tokens': 2.5819967769165837}"
            ]
          },
          "execution_count": 54,
          "metadata": {},
          "output_type": "execute_result"
        }
      ],
      "source": [
        "analy = analyze_word_classes(spanish_tokenizer, test_word_classes)\n",
        "analy"
      ],
      "id": "NC3OZl6lX4_8"
    }
  ],
  "metadata": {
    "kernelspec": {
      "display_name": "base",
      "language": "python",
      "name": "python3"
    },
    "language_info": {
      "codemirror_mode": {
        "name": "ipython",
        "version": 3
      },
      "file_extension": ".py",
      "mimetype": "text/x-python",
      "name": "python",
      "nbconvert_exporter": "python",
      "pygments_lexer": "ipython3",
      "version": "3.9.12"
    },
    "colab": {
      "provenance": []
    }
  },
  "nbformat": 4,
  "nbformat_minor": 5
}