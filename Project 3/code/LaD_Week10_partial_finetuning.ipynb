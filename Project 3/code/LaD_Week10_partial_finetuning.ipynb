{
 "cells": [
  {
   "cell_type": "markdown",
   "metadata": {},
   "source": [
    "# Using GPT-2 for Text Classification\n",
    "\n",
    "For demonstration purposes and due to resource limitations, we have chosen GPT-2 as our model. You should be able to apply the same methods to larger models which will likely yield better performance.\n",
    "\n",
    "We build on the notebook by Sebastian Raschka [3] Sebastian Raschka's LLMs Course: [GitHub - rasbt/LLMs-from-scratch](https://github.com/rasbt/LLMs-from-scratch/blob/main/ch06/01_main-chapter-code/ch06.ipynb)"
   ]
  },
  {
   "cell_type": "markdown",
   "metadata": {},
   "source": [
    "\n",
    "## Environment Setup\n",
    "\n",
    "First, we need to install and import the required libraries. Ensure that all necessary packages are installed; otherwise, please use `pip install` to install them."
   ]
  },
  {
   "cell_type": "code",
   "execution_count": 1,
   "metadata": {
    "scrolled": true
   },
   "outputs": [],
   "source": [
    "#!$ pip install --trusted-host pypi.org --trusted-host pypi.python.org --trusted-host files.pythonhosted.org <package_name>\n",
    "#!pip install torch --user\n",
    "#!pip uninstall matplotlib -y\n",
    "#!pip uninstall pillow -y \n",
    "#!pip uninstall numpy -y \n",
    "#!pip uninstall datasets -y -v \n",
    "#!pip install matplotlib\n",
    "#!pip install pillow\n",
    "#!pip install numpy\n",
    "#!pip install datasets --user"
   ]
  },
  {
   "cell_type": "code",
   "execution_count": 1,
   "metadata": {
    "scrolled": true
   },
   "outputs": [],
   "source": [
    "%load_ext autoreload\n",
    "%autoreload 2\n",
    "#import os\n",
    "#os.environ['CUDA_LAUNCH_BLOCKING'] = \"1\"\n",
    "#!pip install datasets --user\n",
    "#!pip install evaluate --user\n",
    "#!pip3 install Cython --user"
   ]
  },
  {
   "cell_type": "code",
   "execution_count": 2,
   "metadata": {},
   "outputs": [
    {
     "name": "stdout",
     "output_type": "stream",
     "text": [
      "matplotlib version: 3.10.0\n",
      "numpy version: 2.0.2\n",
      "torch version: 2.5.1\n",
      "transformers version: 4.48.0\n",
      "datasets version: 3.2.0\n",
      "pandas version: 2.2.3\n",
      "evaluate version: 0.4.3\n"
     ]
    }
   ],
   "source": [
    "# %%\n",
    "\n",
    "from importlib.metadata import version \n",
    "import sys \n",
    "import os \n",
    "path_to_save_folder = \"model\"\n",
    "path_to_lora = os.path.join(path_to_save_folder,\"lora\")\n",
    "path_to_partial = os.path.join(path_to_save_folder,\"partial\")\n",
    "pkgs = [ \n",
    "    \"matplotlib\", \n",
    "    \"numpy\", \n",
    "    \"torch\", \n",
    "    \"transformers\",   \n",
    "    \"datasets\",        \n",
    "    \"pandas\",          \n",
    "    \"evaluate\",        \n",
    "] \n",
    "\n",
    "for p in pkgs: \n",
    "    try: \n",
    "        print(f\"{p} version: {version(p)}\") \n",
    "    except: \n",
    "        print(f\"{p} is not installed. Please use `pip install {p}` to install.\") \n",
    "        sys.exit(1) \n",
    "data_path = \"content\"\n"
   ]
  },
  {
   "cell_type": "code",
   "execution_count": 3,
   "metadata": {},
   "outputs": [],
   "source": [
    "import torch"
   ]
  },
  {
   "cell_type": "code",
   "execution_count": 4,
   "metadata": {},
   "outputs": [
    {
     "name": "stderr",
     "output_type": "stream",
     "text": [
      "/opt/conda/lib/python3.12/site-packages/tqdm/auto.py:21: TqdmWarning: IProgress not found. Please update jupyter and ipywidgets. See https://ipywidgets.readthedocs.io/en/stable/user_install.html\n",
      "  from .autonotebook import tqdm as notebook_tqdm\n"
     ]
    }
   ],
   "source": [
    "# Set model name\n",
    "from transformers import GPT2Tokenizer\n",
    "model_name = \"gpt2\"\n",
    "\n",
    "# Load GPT-2 Tokenizer\n",
    "tokenizer = GPT2Tokenizer.from_pretrained(model_name)"
   ]
  },
  {
   "cell_type": "markdown",
   "metadata": {},
   "source": [
    "## Data Preparation and Loading\n",
    "\n",
    "We will use the SMS Spam Collection dataset. This dataset contains SMS messages labeled as \"spam\" or \"ham\". We will download, preprocess the data, and split it into training, validation, and test sets.\n",
    "\n",
    "If there is an error downloading, please try to download it manually.\n",
    "Download link: https://archive.ics.uci.edu/static/public/228/sms+spam+collection.zip\n",
    "\n",
    "The code below creates balanced classes of ham and spam. **Reflect on the advantages and disadvantages of this step.** \n"
   ]
  },
  {
   "cell_type": "code",
   "execution_count": 6,
   "metadata": {},
   "outputs": [
    {
     "name": "stdout",
     "output_type": "stream",
     "text": [
      "Original dataset label counts:\n",
      "Label\n",
      "1        37569\n",
      "0        29780\n",
      "label        1\n",
      "Name: count, dtype: int64\n",
      "(67350, 2)\n",
      "\n",
      "Balanced dataset label distribution:\n",
      "Label\n",
      "1    29780\n",
      "0    29780\n",
      "Name: count, dtype: int64\n",
      "\n",
      "Training set size: 67350, Validation set size: 873, Test set size: 1822\n"
     ]
    }
   ],
   "source": [
    "from src.fine_helper import load_complete_dataframe\n",
    "is_balanced = True\n",
    "train_df, validation_df, test_df = load_complete_dataframe(data_path,is_balanced=is_balanced)"
   ]
  },
  {
   "cell_type": "code",
   "execution_count": null,
   "metadata": {},
   "outputs": [],
   "source": []
  },
  {
   "cell_type": "code",
   "execution_count": 11,
   "metadata": {
    "scrolled": true
   },
   "outputs": [
    {
     "name": "stdout",
     "output_type": "stream",
     "text": [
      "  Label                                               Text\n",
      "0   ham  Go until jurong point, crazy.. Available only ...\n",
      "1   ham                      Ok lar... Joking wif u oni...\n",
      "2  spam  Free entry in 2 a wkly comp to win FA Cup fina...\n",
      "3   ham  U dun say so early hor... U c already then say...\n",
      "4   ham  Nah I don't think he goes to usf, he lives aro...\n",
      "Original dataset label counts:\n",
      "Label\n",
      "ham     4825\n",
      "spam     747\n",
      "Name: count, dtype: int64\n",
      "\n",
      "Balanced dataset label distribution:\n",
      "Label\n",
      "0    747\n",
      "1    747\n",
      "Name: count, dtype: int64\n",
      "\n",
      "Training set size: 1045, Validation set size: 149, Test set size: 300\n"
     ]
    }
   ],
   "source": [
    "# %%\n",
    "\n",
    "import urllib.request \n",
    "import zipfile \n",
    "import os \n",
    "from pathlib import Path \n",
    "import pandas as pd \n",
    "\n",
    "url = \"https://archive.ics.uci.edu/static/public/228/sms+spam+collection.zip\" \n",
    "zip_path = \"sms_spam_collection.zip\" \n",
    "extracted_path = \"sms_spam_collection\" \n",
    "data_file_path = Path(extracted_path) / \"SMSSpamCollection.tsv\" \n",
    "\n",
    "def download_and_unzip_spam_data(url, zip_path, extracted_path, data_file_path): \n",
    "    if data_file_path.exists(): \n",
    "        print(f\"{data_file_path} already exists. Skipping download and extraction.\") \n",
    "        return \n",
    "\n",
    "    with urllib.request.urlopen(url) as response: \n",
    "        with open(zip_path, \"wb\") as out_file: \n",
    "            out_file.write(response.read()) \n",
    "\n",
    "    with zipfile.ZipFile(zip_path, \"r\") as zip_ref: \n",
    "        zip_ref.extractall(extracted_path) \n",
    "\n",
    "    original_file_path = Path(extracted_path) / \"SMSSpamCollection\" \n",
    "    os.rename(original_file_path, data_file_path) \n",
    "    print(f\"File downloaded and saved as {data_file_path}\") \n",
    "\n",
    "#download_and_unzip_spam_data(url, zip_path, extracted_path, data_file_path) \n",
    "\n",
    "df = pd.read_csv(data_file_path, sep=\"\\t\", header=None, names=[\"Label\", \"Text\"]) \n",
    "print(df.head()) \n",
    "print(\"Original dataset label counts:\") \n",
    "print(df[\"Label\"].value_counts()) \n",
    "\n",
    "def create_balanced_dataset(df): \n",
    "    num_spam = df[df[\"Label\"] == \"spam\"].shape[0] \n",
    "    ham_subset = df[df[\"Label\"] == \"ham\"].sample(num_spam, random_state=123) \n",
    "    return pd.concat([ham_subset, df[df[\"Label\"] == \"spam\"]], ignore_index=True) \n",
    "\n",
    "balanced_df = create_balanced_dataset(df) \n",
    "balanced_df[\"Label\"] = balanced_df[\"Label\"].map({\"ham\": 0, \"spam\": 1}) \n",
    "print(\"\\nBalanced dataset label distribution:\") \n",
    "print(balanced_df[\"Label\"].value_counts()) \n",
    "\n",
    "def random_split(df, train_frac, validation_frac): \n",
    "    df = df.sample(frac=1, random_state=123).reset_index(drop=True) \n",
    "    train_end = int(len(df) * train_frac) \n",
    "    validation_end = train_end + int(len(df) * validation_frac) \n",
    "    train_df = df[:train_end] \n",
    "    validation_df = df[train_end:validation_end] \n",
    "    test_df = df[validation_end:] \n",
    "    return train_df, validation_df, test_df \n",
    "\n",
    "train_df, validation_df, test_df = random_split(balanced_df, 0.7, 0.1) \n",
    "train_df.to_csv(\"train.csv\", index=None) \n",
    "validation_df.to_csv(\"validation.csv\", index=None) \n",
    "test_df.to_csv(\"test.csv\", index=None) \n",
    "\n",
    "print(f\"\\nTraining set size: {len(train_df)}, Validation set size: {len(validation_df)}, Test set size: {len(test_df)}\") "
   ]
  },
  {
   "cell_type": "markdown",
   "metadata": {},
   "source": [
    "## Creating Data Loaders\n",
    "\n",
    "Next, we need to encode and pad the SMS text to ensure consistent input length in each batch. Here, we use `<|PAD|>` as the padding token and build the attention_mask.\n"
   ]
  },
  {
   "cell_type": "markdown",
   "metadata": {},
   "source": [
    "### New Code"
   ]
  },
  {
   "cell_type": "code",
   "execution_count": 5,
   "metadata": {},
   "outputs": [
    {
     "name": "stdout",
     "output_type": "stream",
     "text": [
      "Added new pad_token '<|PAD|>' with ID: 50257\n",
      "Index(['Text', 'Label'], dtype='object')\n",
      "Max Length is:  65\n",
      "Index(['Text', 'Label'], dtype='object')\n",
      "Max Length is:  65\n",
      "Index(['Text', 'Label'], dtype='object')\n",
      "Max Length is:  65\n",
      "Max Length:  65\n",
      "Number of training batches: 7147, Number of validation batches: 298\n"
     ]
    }
   ],
   "source": [
    "from src.dataset_loader import get_enc_dataset\n",
    "train_dataset, val_dataset,test_dataset,train_loader,val_loader,test_loader, pad_token_id = get_enc_dataset(data_path,tokenizer,is_log = True)"
   ]
  },
  {
   "cell_type": "markdown",
   "metadata": {
    "jp-MarkdownHeadingCollapsed": true
   },
   "source": [
    "### Old Code "
   ]
  },
  {
   "cell_type": "code",
   "execution_count": null,
   "metadata": {},
   "outputs": [],
   "source": [
    "import torch\n",
    "from torch.utils.data import Dataset, DataLoader\n",
    "from transformers import GPT2Tokenizer\n",
    "import pandas as pd\n",
    "import os \n",
    "# Set model name\n",
    "model_name = \"gpt2\"\n",
    "\n",
    "# Load GPT-2 Tokenizer\n",
    "tokenizer = GPT2Tokenizer.from_pretrained(model_name)\n",
    "\n",
    "# Add a separate pad_token\n",
    "if tokenizer.pad_token is None:\n",
    "    # Use '<|PAD|>' as the padding token\n",
    "    tokenizer.add_special_tokens({'pad_token': '<|PAD|>'})\n",
    "    pad_token_id = tokenizer.pad_token_id\n",
    "    print(\"Added new pad_token '<|PAD|>' with ID:\", pad_token_id)\n",
    "\n",
    "class SpamDataset(Dataset):\n",
    "    def __init__(self, csv_file, tokenizer, max_length=None, pad_token_id=None):\n",
    "        self.data = pd.read_csv(csv_file,sep=\"\\t\")\n",
    "        \n",
    "        # Verify necessary columns in the CSV file\n",
    "        required_columns = [\"sentence\", \"label\"]\n",
    "        if not all(col in self.data.columns for col in required_columns):\n",
    "            raise ValueError(f\"CSV file must contain the following columns: {required_columns}\")\n",
    "        \n",
    "        # Ensure labels are of integer type\n",
    "        self.data[\"label\"] = self.data[\"label\"].astype(int)\n",
    "        \n",
    "        self.texts = self.data[\"sentence\"].tolist()\n",
    "        self.labels = self.data[\"label\"].tolist()\n",
    "        \n",
    "        # Set pad_token_id, if not specified, use tokenizer's pad_token_id\n",
    "        self.pad_token_id = pad_token_id if pad_token_id is not None else tokenizer.pad_token_id\n",
    "        \n",
    "        # Encode texts\n",
    "        self.encoded_texts = []\n",
    "        for text in self.texts:\n",
    "            try:\n",
    "                encoded = tokenizer.encode(text, add_special_tokens=True)\n",
    "                self.encoded_texts.append(encoded)\n",
    "            except Exception as e:\n",
    "                raise ValueError(f\"Error encoding text: {text[:50]}...\") from e\n",
    "        \n",
    "        # Dynamically calculate max_length, or use specified max_length\n",
    "        if max_length is None:\n",
    "            self.max_length = self._longest_encoded_length()\n",
    "        else:\n",
    "            self.max_length = max_length\n",
    "            # Truncate sequences longer than max_length\n",
    "            self.encoded_texts = [\n",
    "                encoded_text[:self.max_length] for encoded_text in self.encoded_texts\n",
    "            ]\n",
    "        \n",
    "        # Pad all sequences and generate attention_mask\n",
    "        self.padded_texts = []\n",
    "        self.attention_masks = []\n",
    "        for enc in self.encoded_texts:\n",
    "            enc = enc[:self.max_length]\n",
    "            attention_mask = [1] * len(enc)\n",
    "            \n",
    "            pad_len = self.max_length - len(enc)\n",
    "            if pad_len > 0:\n",
    "                enc += [self.pad_token_id] * pad_len\n",
    "                attention_mask += [0] * pad_len\n",
    "            \n",
    "            self.padded_texts.append(enc)\n",
    "            self.attention_masks.append(attention_mask)\n",
    "    \n",
    "    def __len__(self):\n",
    "        return len(self.data)\n",
    "    \n",
    "    def __getitem__(self, idx):\n",
    "        input_ids = torch.tensor(self.padded_texts[idx], dtype=torch.long)\n",
    "        attention_mask = torch.tensor(self.attention_masks[idx], dtype=torch.long)\n",
    "        label = torch.tensor(self.labels[idx], dtype=torch.long)\n",
    "        text = self.texts[idx]\n",
    "        return {\n",
    "            \"input_ids\": input_ids,\n",
    "            \"attention_mask\": attention_mask,\n",
    "            \"labels\": label,\n",
    "            \"text\": text\n",
    "        }\n",
    "    \n",
    "    def _longest_encoded_length(self):\n",
    "        return max(len(encoded_text) for encoded_text in self.encoded_texts)\n",
    "\n",
    "# Create datasets\n",
    "train_dataset = SpamDataset(os.path.join(data_path,\"train.tsv\"), tokenizer, pad_token_id=pad_token_id)\n",
    "val_dataset = SpamDataset(os.path.join(data_path,\"dev.tsv\"), tokenizer, max_length=train_dataset.max_length, pad_token_id=pad_token_id)\n",
    "#test_dataset = SpamDataset(os.path.join(data_path,\"test.tsv\"), tokenizer, max_length=train_dataset.max_length, pad_token_id=pad_token_id)\n",
    "\n",
    "# Set DataLoader parameters\n",
    "batch_size = 8\n",
    "num_workers = 0\n",
    "\n",
    "# Create DataLoaders\n",
    "train_loader = DataLoader(train_dataset, batch_size=batch_size, shuffle=True, num_workers=num_workers, drop_last=True)\n",
    "val_loader = DataLoader(val_dataset, batch_size=batch_size, shuffle=False, num_workers=num_workers, drop_last=False)\n",
    "#test_loader = DataLoader(test_dataset, batch_size=batch_size, shuffle=False, num_workers=num_workers, drop_last=False)\n",
    "\n",
    "print(f\"Number of training batches: {len(train_loader)}, Number of validation batches: {len(val_loader)}, Number of test batches: {len(test_loader)}\")"
   ]
  },
  {
   "cell_type": "markdown",
   "metadata": {},
   "source": [
    "## Defining Computational Device\n",
    "Before loading and training the model, we need to define the computational device (CPU or GPU). If a GPU is available, it will be preferred to accelerate training."
   ]
  },
  {
   "cell_type": "code",
   "execution_count": 6,
   "metadata": {},
   "outputs": [
    {
     "name": "stdout",
     "output_type": "stream",
     "text": [
      "Using device: cuda\n"
     ]
    }
   ],
   "source": [
    "if torch.cuda.is_available(): \n",
    "    device = torch.device(\"cuda\") \n",
    "elif torch.backends.mps.is_available():\n",
    "    device = torch.device(\"mps\") \n",
    "else: \n",
    "    device = torch.device(\"cpu\") \n",
    "print(f\"Using device: {device}\") \n",
    "#device = torch.device(\"cpu\") "
   ]
  },
  {
   "cell_type": "markdown",
   "metadata": {},
   "source": [
    "## Understanding Model Structure ##\n",
    "Load the pre-trained GPT-2 model and make sure you understand its structure. **What do the abbreviations represent? Which of the layer types have we seen in the lecture?**"
   ]
  },
  {
   "cell_type": "code",
   "execution_count": 7,
   "metadata": {},
   "outputs": [
    {
     "name": "stderr",
     "output_type": "stream",
     "text": [
      "2025-01-18 01:20:24.731079: I tensorflow/core/util/port.cc:153] oneDNN custom operations are on. You may see slightly different numerical results due to floating-point round-off errors from different computation orders. To turn them off, set the environment variable `TF_ENABLE_ONEDNN_OPTS=0`.\n",
      "2025-01-18 01:20:24.748119: E external/local_xla/xla/stream_executor/cuda/cuda_fft.cc:477] Unable to register cuFFT factory: Attempting to register factory for plugin cuFFT when one has already been registered\n",
      "WARNING: All log messages before absl::InitializeLog() is called are written to STDERR\n",
      "E0000 00:00:1737159624.769736   88568 cuda_dnn.cc:8310] Unable to register cuDNN factory: Attempting to register factory for plugin cuDNN when one has already been registered\n",
      "E0000 00:00:1737159624.776416   88568 cuda_blas.cc:1418] Unable to register cuBLAS factory: Attempting to register factory for plugin cuBLAS when one has already been registered\n",
      "2025-01-18 01:20:24.798087: I tensorflow/core/platform/cpu_feature_guard.cc:210] This TensorFlow binary is optimized to use available CPU instructions in performance-critical operations.\n",
      "To enable the following instructions: AVX2 AVX512F AVX512_VNNI FMA, in other operations, rebuild TensorFlow with the appropriate compiler flags.\n"
     ]
    }
   ],
   "source": [
    "from transformers import GPT2LMHeadModel, GPT2ForSequenceClassification"
   ]
  },
  {
   "cell_type": "markdown",
   "metadata": {},
   "source": [
    "### Model structure "
   ]
  },
  {
   "cell_type": "code",
   "execution_count": 8,
   "metadata": {
    "scrolled": true
   },
   "outputs": [],
   "source": [
    "from transformers import GPT2LMHeadModel, GPT2ForSequenceClassification\n",
    "pretrained_gpt2_lm = GPT2LMHeadModel.from_pretrained(\"gpt2\") \n",
    "\n",
    "#print(pretrained_gpt2_lm)\n"
   ]
  },
  {
   "cell_type": "markdown",
   "metadata": {},
   "source": [
    "Now compare the structure to the GPT-2 model for classification. **What is the difference?**  "
   ]
  },
  {
   "cell_type": "code",
   "execution_count": 9,
   "metadata": {
    "scrolled": true
   },
   "outputs": [
    {
     "name": "stderr",
     "output_type": "stream",
     "text": [
      "Some weights of GPT2ForSequenceClassification were not initialized from the model checkpoint at gpt2 and are newly initialized: ['score.weight']\n",
      "You should probably TRAIN this model on a down-stream task to be able to use it for predictions and inference.\n"
     ]
    }
   ],
   "source": [
    "classification_model = GPT2ForSequenceClassification.from_pretrained( \n",
    "    model_name, \n",
    "    num_labels=2, \n",
    "    pad_token_id=tokenizer.pad_token_id \n",
    ").to(device) \n",
    "\n",
    "#print(classification_model)"
   ]
  },
  {
   "cell_type": "markdown",
   "metadata": {},
   "source": [
    "## Initial Model Testing\n",
    "\n",
    "At this point, the classification head is untrained, and the results are usually poor."
   ]
  },
  {
   "cell_type": "code",
   "execution_count": 10,
   "metadata": {},
   "outputs": [],
   "source": [
    "#pad_token_id"
   ]
  },
  {
   "cell_type": "code",
   "execution_count": 11,
   "metadata": {
    "scrolled": true
   },
   "outputs": [
    {
     "name": "stdout",
     "output_type": "stream",
     "text": [
      "(Before fine-tuning) Initial prediction of the classification head:\n",
      "torch.Size([1, 65])\n",
      "Postive sample => Prediction: 0\n",
      "torch.Size([1, 65])\n",
      "Negative sample => Prediction: 0\n"
     ]
    }
   ],
   "source": [
    "# %%\n",
    "\n",
    "def classify_text(text, model, tokenizer, device, max_length, pad_token_id=50256): \n",
    "    model.eval() \n",
    "    enc = tokenizer.encode(text, add_special_tokens=True, truncation=True, max_length=max_length) \n",
    "    att_mask = [1]*len(enc) \n",
    "    pad_len = max_length - len(enc) \n",
    "    if pad_len > 0: \n",
    "        enc += [pad_token_id]*pad_len \n",
    "        att_mask += [0]*pad_len \n",
    "     \n",
    "    input_ids = torch.tensor([enc], dtype=torch.long).to(device) \n",
    "    attention_mask = torch.tensor([att_mask], dtype=torch.long).to(device) \n",
    "\n",
    "    with torch.no_grad(): \n",
    "        print(input_ids.shape)\n",
    "        \n",
    "        outputs = model(input_ids)#, attention_mask=attention_mask) \n",
    "        logits = outputs.logits \n",
    "        predicted = torch.argmax(logits, dim=-1).item() \n",
    "    return predicted\n",
    "\n",
    "sample_text_spam = \"Fine\" \n",
    "sample_text_ham = \"Bad\" \n",
    "\n",
    "print(\"(Before fine-tuning) Initial prediction of the classification head:\") \n",
    "print(f\"Postive sample => Prediction: {classify_text(sample_text_spam, classification_model, \n",
    "                                                  tokenizer, device, max_length=65,pad_token_id=pad_token_id-1\n",
    "                                                    )}\") \n",
    "print(f\"Negative sample => Prediction: {classify_text(sample_text_ham, classification_model,\n",
    "                                                 tokenizer, device,max_length=65\n",
    "                                                )}\") "
   ]
  },
  {
   "cell_type": "markdown",
   "metadata": {},
   "source": [
    "\n",
    "## Tuning only the classification layer\n",
    "\n",
    "As a first step, we will freeze the parameters of the GPT2-model and only tune the classification layer. "
   ]
  },
  {
   "cell_type": "code",
   "execution_count": 12,
   "metadata": {},
   "outputs": [
    {
     "name": "stderr",
     "output_type": "stream",
     "text": [
      "The new embeddings will be initialized from a multivariate normal distribution that has old embeddings' mean and covariance. As described in this article: https://nlp.stanford.edu/~johnhew/vocab-expansion.html. To disable this, use `mean_resizing=False`\n"
     ]
    },
    {
     "name": "stdout",
     "output_type": "stream",
     "text": [
      "Number of base parameters: 124440576\n",
      "\n",
      "Training only the classification head, trainable parameters: 1536\n"
     ]
    }
   ],
   "source": [
    "\n",
    "# We need to add the padding token to the embeddings\n",
    "classification_model.resize_token_embeddings(len(tokenizer)) \n",
    "classification_model.to(device) \n",
    "\n",
    "i =0\n",
    "k=0\n",
    "for param in classification_model.base_model.parameters(): \n",
    "    param.requires_grad = False \n",
    "    i+=param.numel()\n",
    "\n",
    "print(f\"Number of base parameters: {i}\")\n",
    "\n",
    "\n",
    "for param in classification_model.score.parameters(): \n",
    "    param.requires_grad = True \n",
    "    k+=param.numel()\n",
    "\n",
    "print(f\"\\nTraining only the classification head, trainable parameters: {k}\") \n"
   ]
  },
  {
   "cell_type": "code",
   "execution_count": null,
   "metadata": {
    "scrolled": true
   },
   "outputs": [
    {
     "name": "stdout",
     "output_type": "stream",
     "text": [
      "Epoch 1/11, step 500/7147, loss = 0.3942\n",
      "Epoch 1/11, step 1000/7147, loss = 0.7415\n",
      "Epoch 1/11, step 1500/7147, loss = 0.7541\n",
      "Epoch 1/11, step 2000/7147, loss = 0.6668\n",
      "Epoch 1/11, step 2500/7147, loss = 0.6145\n",
      "Epoch 1/11, step 3000/7147, loss = 0.6348\n",
      "Epoch 1/11, step 3500/7147, loss = 0.5880\n",
      "Epoch 1/11, step 4000/7147, loss = 0.6075\n",
      "Epoch 1/11, step 4140/7147, loss = 0.6411"
     ]
    }
   ],
   "source": [
    "import time \n",
    "from ult import evaluate_accuracy\n",
    "from src.train import train_head_only\n",
    "is_dry=False\n",
    "#Epochs 10\n",
    "start_time_head = time.time() \n",
    "classification_model, all_avg_loss,all_acc_train,all_acc_val = train_head_only(classification_model, train_loader, val_loader, device, epochs=11, lr=3e-5,is_dry=is_dry) \n",
    "end_time_head = time.time() \n",
    "\n",
    "train_accuracy_head = evaluate_accuracy(classification_model, train_loader, device,is_dry=is_dry) \n",
    "val_accuracy_head = evaluate_accuracy(classification_model, val_loader, device,is_dry=is_dry) \n",
    "test_accuracy_head = evaluate_accuracy(classification_model, test_loader, device,is_dry=is_dry) \n",
    "finetune_head_time = (end_time_head - start_time_head) / 60 \n",
    "\n",
    "print(f\"\\n=== Fine-tuning only the classification head completed in {finetune_head_time:.2f} minutes ===\") \n",
    "print(f\"Training accuracy: {train_accuracy_head*100:.2f}%\") \n",
    "print(f\"Validation accuracy: {val_accuracy_head*100:.2f}%\") \n",
    "#print(f\"Test accuracy: {test_accuracy_head*100:.2f}%\") "
   ]
  },
  {
   "cell_type": "code",
   "execution_count": null,
   "metadata": {},
   "outputs": [],
   "source": [
    "# Save model \n",
    "from src.eval_helper import save_everything\n",
    "from src.eval_helper import *\n",
    "#path_to_partial TODO\n",
    "train_run_label = \"headonly_ep11_saveUpdate\"\n",
    "#save_everything(path_to_partial, train_run_label, elapsed, train_losses, val_accs)\n",
    "#classification_model, all_avg_loss,all_acc_train,all_acc_val\n",
    "\n",
    "\"\"\"\n",
    "save_everything(path_to_head_only, train_run_label, finetune_further_time,\n",
    "                 all_avg_loss,all_acc_val,all_acc_val,\n",
    "                train_accuracy_partial,val_accuracy_partial,test_accuracy_partial,classification_model)\n",
    "\"\"\"\n",
    "\n",
    "\n",
    "save_everything(path_to_save_folder=path_to_head_only,\n",
    "                 train_run_label=train_run_label,\n",
    "                 elapsed=finetune_head_time,\n",
    "                 train_losses=all_avg_loss,\n",
    "                 train_acc=all_acc_train,\n",
    "                 val_accs=all_acc_val,\n",
    "                 train_acc_complete=train_accuracy_head,\n",
    "                 val_acc_complete=val_accuracy_head,\n",
    "                 test_acc_complete=test_accuracy_head,\n",
    "                 model=classification_model)"
   ]
  },
  {
   "cell_type": "markdown",
   "metadata": {},
   "source": [
    "You may find that fine-tuning just a linear layer can achieve a significant improvement. Are you satisfied with the test accuracy results? Try different hyperparameters, such as increasing the learning rate, and try to get better accuracy. \n",
    "\n",
    "Next, we will try unlocking the Transformer block before the linear layer; Sebastian Raschka found that this can significantly improve the model's performance on specific downstream tasks."
   ]
  },
  {
   "cell_type": "markdown",
   "metadata": {},
   "source": [
    "## Unfreeze Partial Model Layers and Further Fine-Tuning\n",
    "\n",
    "We unfreeze the last Transformer block (`transformer.h.11`) and the final LayerNorm of GPT-2, and train them along with the classification head (`score`) to further enhance performance."
   ]
  },
  {
   "cell_type": "code",
   "execution_count": null,
   "metadata": {},
   "outputs": [],
   "source": [
    "# Unfreeze the last transformer block and LayerNorm in base_model\n",
    "for param in classification_model.base_model.h[-1].parameters(): \n",
    "    param.requires_grad = True \n",
    "    k+=param.numel()\n",
    "for param in classification_model.base_model.ln_f.parameters(): \n",
    "    param.requires_grad = True\n",
    "    k += param.numel()\n",
    "\n",
    "print(f\"Total trainable parameters: {k}\") \n",
    "print(\"\\nTrainable parts after unfreezing the last Transformer block and LayerNorm:\") \n",
    "trainable_params_count = 0 \n",
    "for name, param in classification_model.named_parameters(): \n",
    "    if param.requires_grad: \n",
    "        print(f\"  {name} => shape={param.size()}\") \n"
   ]
  },
  {
   "cell_type": "markdown",
   "metadata": {},
   "source": [
    "Now, start training this model."
   ]
  },
  {
   "cell_type": "code",
   "execution_count": null,
   "metadata": {
    "scrolled": true
   },
   "outputs": [],
   "source": [
    "from src.ult import initialize_classifier_head\n",
    "from src.train import  train_partial_unfreeze\n",
    "from ult import evaluate_accuracy\n",
    "import time \n",
    "is_dry=False\n",
    "\n",
    "initialize_classifier_head(classification_model)\n",
    "print(\"Classification head reinitialized to eliminate sequential advantage impact.\\n\")\n",
    "\n",
    "start_time_further = time.time() \n",
    "classification_model, all_avg_loss,all_acc_train,all_acc_val = train_partial_unfreeze(classification_model, train_loader, val_loader, device, epochs=8, lr=3e-5,is_dry=is_dry) \n",
    "end_time_further = time.time() \n",
    "finetune_further_time = (end_time_further - start_time_further) / 60 \n",
    "\n",
    "train_accuracy_partial = evaluate_accuracy(classification_model, train_loader, device,is_dry=is_dry) \n",
    "val_accuracy_partial = evaluate_accuracy(classification_model, val_loader, device,is_dry=is_dry) \n",
    "test_accuracy_partial = evaluate_accuracy(classification_model, test_loader, device,is_dry=is_dry) \n",
    "\n",
    "print(f\"\\n=== Fine-tuning after unfreezing partial Transformer completed in {finetune_further_time:.2f} minutes ===\") \n",
    "print(f\"Training accuracy: {train_accuracy_partial*100:.2f}%\") \n",
    "print(f\"Validation accuracy: {val_accuracy_partial*100:.2f}%\") \n",
    "print(f\"Test accuracy: {test_accuracy_partial*100:.2f}%\") "
   ]
  },
  {
   "cell_type": "markdown",
   "metadata": {},
   "source": [
    "You may notice that the model's accuracy on the test set has improved.\n",
    "\n",
    "Now we have obtained a GPT-2 model that has been trained on the last Transformer block + LayerNorm layer + classification head."
   ]
  },
  {
   "cell_type": "markdown",
   "metadata": {},
   "source": [
    "#### Saving training results"
   ]
  },
  {
   "cell_type": "code",
   "execution_count": null,
   "metadata": {},
   "outputs": [],
   "source": [
    "from src.eval_helper import save_everything\n",
    "from src.eval_helper import *\n",
    "#path_to_partial TODO\n",
    "train_run_label = \"partial_ep8\"\n",
    "#save_everything(path_to_partial, train_run_label, elapsed, train_losses, val_accs)\n",
    "#classification_model, all_avg_loss,all_acc_train,all_acc_val\n",
    "\"\"\"\n",
    "save_everything(path_to_partial, train_run_label, \n",
    "                finetune_further_time, all_avg_loss, all_acc_val,\n",
    "                train_accuracy_partial,\n",
    "                val_accuracy_partial,test_accuracy_partial,classification_model)\n",
    "\"\"\"\n",
    "\n",
    "\n",
    "save_everything(path_to_save_folder=path_to_partial,\n",
    "                 train_run_label=train_run_label,\n",
    "                 elapsed=finetune_further_time,\n",
    "                 train_losses=all_avg_loss,\n",
    "                 train_acc=all_acc_train,\n",
    "                 val_accs=all_acc_val,\n",
    "                 train_acc_complete=train_accuracy_partial,\n",
    "                 val_acc_complete=val_accuracy_partial,\n",
    "                 test_acc_complete=test_accuracy_partial,\n",
    "                 model=classification_model)"
   ]
  },
  {
   "cell_type": "code",
   "execution_count": null,
   "metadata": {},
   "outputs": [],
   "source": []
  }
 ],
 "metadata": {
  "kernelspec": {
   "display_name": "Python 3 (ipykernel)",
   "language": "python",
   "name": "python3"
  },
  "language_info": {
   "codemirror_mode": {
    "name": "ipython",
    "version": 3
   },
   "file_extension": ".py",
   "mimetype": "text/x-python",
   "name": "python",
   "nbconvert_exporter": "python",
   "pygments_lexer": "ipython3",
   "version": "3.12.7"
  }
 },
 "nbformat": 4,
 "nbformat_minor": 4
}
